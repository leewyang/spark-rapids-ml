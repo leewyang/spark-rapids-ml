{
 "cells": [
  {
   "cell_type": "markdown",
   "metadata": {},
   "source": [
    "# KMeans"
   ]
  },
  {
   "cell_type": "code",
   "execution_count": 1,
   "metadata": {
    "application/vnd.databricks.v1+cell": {
     "cellMetadata": {},
     "inputWidgets": {},
     "nuid": "a7c21330-7326-4d98-9351-d1b2e4c6143c",
     "showTitle": false,
     "title": ""
    }
   },
   "outputs": [],
   "source": [
    "import numpy as np\n",
    "import pandas as pd\n",
    "import time"
   ]
  },
  {
   "cell_type": "markdown",
   "metadata": {},
   "source": [
    "### Create synthetic dataset"
   ]
  },
  {
   "cell_type": "code",
   "execution_count": 2,
   "metadata": {
    "application/vnd.databricks.v1+cell": {
     "cellMetadata": {},
     "inputWidgets": {},
     "nuid": "291da378-0e9b-4b53-bf9e-b78c35631f1d",
     "showTitle": false,
     "title": ""
    }
   },
   "outputs": [
    {
     "name": "stderr",
     "output_type": "stream",
     "text": [
      "/home/leey/miniconda3/envs/rapids-23.06/lib/python3.9/site-packages/cudf/utils/_numba.py:110: UserWarning: Using CUDA toolkit version (12, 2) with CUDA driver version (12, 0) requires minor version compatibility, which is not yet supported for CUDA driver versions 12.0 and above. It is likely that many cuDF operations will not work in this state. Please install CUDA toolkit version (12, 0) to continue using cuDF.\n",
      "  warnings.warn(\n"
     ]
    }
   ],
   "source": [
    "n_rows = 100000\n",
    "n_cols = 500\n",
    "n_clusters_data = 200\n",
    "cluster_std = 1.0\n",
    "dtype='float32'\n",
    "from cuml.datasets import make_blobs\n",
    "data, _ = make_blobs(\n",
    "        n_rows, n_cols, n_clusters_data, cluster_std=cluster_std, random_state=0, dtype=dtype\n",
    "    )  # make_blobs creates a random dataset of isotropic gaussian blobs.\n",
    "\n",
    "data = data.get()"
   ]
  },
  {
   "cell_type": "markdown",
   "metadata": {
    "application/vnd.databricks.v1+cell": {
     "cellMetadata": {},
     "inputWidgets": {},
     "nuid": "a9ae1eaf-a6d7-467d-88c0-644ae814c488",
     "showTitle": false,
     "title": ""
    }
   },
   "source": [
    "### Convert dataset to Spark DataFrame"
   ]
  },
  {
   "cell_type": "code",
   "execution_count": 3,
   "metadata": {
    "application/vnd.databricks.v1+cell": {
     "cellMetadata": {},
     "inputWidgets": {},
     "nuid": "a9ae1eaf-a6d7-467d-88c0-644ae814c488",
     "showTitle": false,
     "title": ""
    }
   },
   "outputs": [],
   "source": [
    "pd_data = pd.DataFrame({\"features\": list(data)})\n",
    "df = spark.createDataFrame(pd_data)"
   ]
  },
  {
   "cell_type": "code",
   "execution_count": 4,
   "metadata": {
    "tags": []
   },
   "outputs": [
    {
     "data": {
      "text/plain": [
       "StructType([StructField('features', ArrayType(FloatType(), True), True)])"
      ]
     },
     "execution_count": 4,
     "metadata": {},
     "output_type": "execute_result"
    }
   ],
   "source": [
    "df.schema"
   ]
  },
  {
   "cell_type": "markdown",
   "metadata": {},
   "source": [
    "### We will use this function to build both the Spark RAPIDS ML (GPU) and Spark ML (CPU) linear estimator objects, demonstrating the common API"
   ]
  },
  {
   "cell_type": "code",
   "execution_count": 5,
   "metadata": {},
   "outputs": [],
   "source": [
    "def build_kmeans_estimator(estimator_class):\n",
    "    return ( \n",
    "            estimator_class()\n",
    "            .setTol(1.0e-20)\n",
    "            .setK(200)\n",
    "            .setFeaturesCol(\"features\")\n",
    "            .setMaxIter(15)\n",
    "           )"
   ]
  },
  {
   "cell_type": "markdown",
   "metadata": {
    "application/vnd.databricks.v1+cell": {
     "cellMetadata": {},
     "inputWidgets": {},
     "nuid": "90b36ddc-2f90-409b-a213-3f319c736134",
     "showTitle": false,
     "title": ""
    }
   },
   "source": [
    "## Spark RAPIDS ML (GPU)"
   ]
  },
  {
   "cell_type": "code",
   "execution_count": 6,
   "metadata": {
    "application/vnd.databricks.v1+cell": {
     "cellMetadata": {},
     "inputWidgets": {},
     "nuid": "f1f994f0-4ca6-4b63-88f7-b0ac94ee3130",
     "showTitle": false,
     "title": ""
    }
   },
   "outputs": [],
   "source": [
    "from spark_rapids_ml.clustering import KMeans\n",
    "gpu_kmeans = build_kmeans_estimator(KMeans)"
   ]
  },
  {
   "cell_type": "markdown",
   "metadata": {
    "application/vnd.databricks.v1+cell": {
     "cellMetadata": {},
     "inputWidgets": {},
     "nuid": "a5a2cac5-18cd-450a-8571-195be588a361",
     "showTitle": false,
     "title": ""
    }
   },
   "source": [
    "Estimator can be persisted and reloaded."
   ]
  },
  {
   "cell_type": "code",
   "execution_count": 7,
   "metadata": {},
   "outputs": [],
   "source": [
    "estimator_path = \"/tmp/kmeans-estimator\""
   ]
  },
  {
   "cell_type": "code",
   "execution_count": 8,
   "metadata": {
    "application/vnd.databricks.v1+cell": {
     "cellMetadata": {},
     "inputWidgets": {},
     "nuid": "798f5b5b-cfa6-45e4-aa18-40c0142e894a",
     "showTitle": false,
     "title": ""
    }
   },
   "outputs": [
    {
     "name": "stderr",
     "output_type": "stream",
     "text": [
      "                                                                                \r"
     ]
    }
   ],
   "source": [
    "gpu_kmeans.write().overwrite().save(estimator_path)\n",
    "gpu_kmeans_loaded = KMeans.load(estimator_path)"
   ]
  },
  {
   "cell_type": "markdown",
   "metadata": {},
   "source": [
    "### Fit"
   ]
  },
  {
   "cell_type": "code",
   "execution_count": 9,
   "metadata": {
    "application/vnd.databricks.v1+cell": {
     "cellMetadata": {},
     "inputWidgets": {},
     "nuid": "209d8f9c-1d1c-4bdd-880c-10e46f9d0c49",
     "showTitle": false,
     "title": ""
    }
   },
   "outputs": [
    {
     "name": "stderr",
     "output_type": "stream",
     "text": [
      "23/07/20 16:12:35 WARN TaskSetManager: Stage 2 contains a task of very large size (19577 KiB). The maximum recommended task size is 1000 KiB.\n",
      "23/07/20 16:12:37 WARN TaskSetManager: Stage 3 contains a task of very large size (19577 KiB). The maximum recommended task size is 1000 KiB.\n",
      "[Stage 5:>                                                          (0 + 2) / 2]\r"
     ]
    },
    {
     "name": "stdout",
     "output_type": "stream",
     "text": [
      "Fit took: 13.370030879974365 sec\n"
     ]
    },
    {
     "name": "stderr",
     "output_type": "stream",
     "text": [
      "                                                                                \r"
     ]
    }
   ],
   "source": [
    "start_time = time.time()\n",
    "gpu_model = gpu_kmeans_loaded.fit(df)\n",
    "gpu_fit = time.time() - start_time\n",
    "print(f\"Fit took: {gpu_fit} sec\")"
   ]
  },
  {
   "cell_type": "code",
   "execution_count": 10,
   "metadata": {
    "application/vnd.databricks.v1+cell": {
     "cellMetadata": {},
     "inputWidgets": {},
     "nuid": "77499eff-5cf2-4ce6-95a1-e45b69abe3cd",
     "showTitle": false,
     "title": ""
    }
   },
   "outputs": [
    {
     "data": {
      "text/plain": [
       "200"
      ]
     },
     "execution_count": 10,
     "metadata": {},
     "output_type": "execute_result"
    }
   ],
   "source": [
    "gpu_kmeans_loaded.getK()"
   ]
  },
  {
   "cell_type": "code",
   "execution_count": 11,
   "metadata": {
    "application/vnd.databricks.v1+cell": {
     "cellMetadata": {},
     "inputWidgets": {},
     "nuid": "1abf6fbd-c7bd-400e-80a4-83284865535c",
     "showTitle": false,
     "title": ""
    }
   },
   "outputs": [],
   "source": [
    "sorted_clusters = sorted([vec.tolist() for vec in gpu_model.clusterCenters()])"
   ]
  },
  {
   "cell_type": "code",
   "execution_count": 12,
   "metadata": {
    "application/vnd.databricks.v1+cell": {
     "cellMetadata": {},
     "inputWidgets": {},
     "nuid": "db84a983-a64f-462b-813b-7b7ba629d18e",
     "showTitle": false,
     "title": ""
    }
   },
   "outputs": [
    {
     "data": {
      "text/plain": [
       "[[-9.925885200500488,\n",
       "  9.390859603881836,\n",
       "  8.889856338500977,\n",
       "  -5.8428778648376465,\n",
       "  -1.2607864141464233,\n",
       "  3.218362331390381,\n",
       "  -9.877833366394043,\n",
       "  -4.180136203765869,\n",
       "  -3.7051053047180176,\n",
       "  -3.4839558601379395],\n",
       " [-9.922629356384277,\n",
       "  9.698697090148926,\n",
       "  1.366484522819519,\n",
       "  -2.162208080291748,\n",
       "  2.795397996902466,\n",
       "  9.486637115478516,\n",
       "  2.898738384246826,\n",
       "  4.726179599761963,\n",
       "  7.606182098388672,\n",
       "  2.337686538696289]]"
      ]
     },
     "execution_count": 12,
     "metadata": {},
     "output_type": "execute_result"
    }
   ],
   "source": [
    "[vec[0:10] for vec in sorted_clusters[0:2]]"
   ]
  },
  {
   "cell_type": "markdown",
   "metadata": {},
   "source": [
    "### Transform"
   ]
  },
  {
   "cell_type": "code",
   "execution_count": 13,
   "metadata": {},
   "outputs": [],
   "source": [
    "model_path = \"/tmp/kmeans-model\""
   ]
  },
  {
   "cell_type": "code",
   "execution_count": 14,
   "metadata": {
    "application/vnd.databricks.v1+cell": {
     "cellMetadata": {},
     "inputWidgets": {},
     "nuid": "6874b600-707d-48a7-b780-5d4e939a746b",
     "showTitle": false,
     "title": ""
    }
   },
   "outputs": [
    {
     "name": "stderr",
     "output_type": "stream",
     "text": [
      "23/07/20 16:12:49 WARN TaskSetManager: Stage 7 contains a task of very large size (1937 KiB). The maximum recommended task size is 1000 KiB.\n"
     ]
    }
   ],
   "source": [
    "gpu_model.write().overwrite().save(model_path)"
   ]
  },
  {
   "cell_type": "code",
   "execution_count": 15,
   "metadata": {
    "application/vnd.databricks.v1+cell": {
     "cellMetadata": {},
     "inputWidgets": {},
     "nuid": "441c8635-9070-426f-8626-7083f34b7e71",
     "showTitle": false,
     "title": ""
    }
   },
   "outputs": [],
   "source": [
    "gpu_model_loaded = gpu_model.read().load(model_path)"
   ]
  },
  {
   "cell_type": "code",
   "execution_count": 16,
   "metadata": {
    "application/vnd.databricks.v1+cell": {
     "cellMetadata": {},
     "inputWidgets": {},
     "nuid": "48f7975c-f2ce-471d-aa8e-8dc678a44f37",
     "showTitle": false,
     "title": ""
    }
   },
   "outputs": [
    {
     "data": {
      "text/plain": [
       "[[-9.925885200500488,\n",
       "  9.390859603881836,\n",
       "  8.889856338500977,\n",
       "  -5.8428778648376465,\n",
       "  -1.2607864141464233,\n",
       "  3.218362331390381,\n",
       "  -9.877833366394043,\n",
       "  -4.180136203765869,\n",
       "  -3.7051053047180176,\n",
       "  -3.4839558601379395],\n",
       " [-9.922629356384277,\n",
       "  9.698697090148926,\n",
       "  1.366484522819519,\n",
       "  -2.162208080291748,\n",
       "  2.795397996902466,\n",
       "  9.486637115478516,\n",
       "  2.898738384246826,\n",
       "  4.726179599761963,\n",
       "  7.606182098388672,\n",
       "  2.337686538696289]]"
      ]
     },
     "execution_count": 16,
     "metadata": {},
     "output_type": "execute_result"
    }
   ],
   "source": [
    "[vec[0:10] for vec in sorted(gpu_model_loaded.cluster_centers_)[0:2]]"
   ]
  },
  {
   "cell_type": "code",
   "execution_count": 17,
   "metadata": {
    "application/vnd.databricks.v1+cell": {
     "cellMetadata": {},
     "inputWidgets": {},
     "nuid": "c3bfc179-e702-4198-8122-3a8ba98113a4",
     "showTitle": false,
     "title": ""
    }
   },
   "outputs": [],
   "source": [
    "transformed_df = gpu_model_loaded.setPredictionCol(\"transformed\").transform(df)"
   ]
  },
  {
   "cell_type": "code",
   "execution_count": 18,
   "metadata": {
    "application/vnd.databricks.v1+cell": {
     "cellMetadata": {},
     "inputWidgets": {},
     "nuid": "de0ce32d-3d09-4e82-b6a7-26978925181a",
     "showTitle": false,
     "title": ""
    }
   },
   "outputs": [
    {
     "name": "stdout",
     "output_type": "stream",
     "text": [
      "root\n",
      " |-- features: array (nullable = true)\n",
      " |    |-- element: float (containsNull = true)\n",
      " |-- transformed: integer (nullable = true)\n",
      "\n"
     ]
    }
   ],
   "source": [
    "transformed_df.printSchema()"
   ]
  },
  {
   "cell_type": "code",
   "execution_count": 19,
   "metadata": {
    "application/vnd.databricks.v1+cell": {
     "cellMetadata": {},
     "inputWidgets": {},
     "nuid": "0c63b707-0e00-4961-8a76-82f347886b83",
     "showTitle": false,
     "title": ""
    }
   },
   "outputs": [
    {
     "name": "stderr",
     "output_type": "stream",
     "text": [
      "23/07/20 16:12:50 WARN TaskSetManager: Stage 10 contains a task of very large size (19577 KiB). The maximum recommended task size is 1000 KiB.\n",
      "                                                                                \r"
     ]
    },
    {
     "data": {
      "text/plain": [
       "100000"
      ]
     },
     "execution_count": 19,
     "metadata": {},
     "output_type": "execute_result"
    }
   ],
   "source": [
    "transformed_df.count()"
   ]
  },
  {
   "cell_type": "code",
   "execution_count": 20,
   "metadata": {
    "application/vnd.databricks.v1+cell": {
     "cellMetadata": {},
     "inputWidgets": {},
     "nuid": "a7c5d3b5-ecb0-435a-8976-bc18a28e3e04",
     "showTitle": false,
     "title": ""
    }
   },
   "outputs": [
    {
     "name": "stderr",
     "output_type": "stream",
     "text": [
      "23/07/20 16:12:51 WARN TaskSetManager: Stage 13 contains a task of very large size (19577 KiB). The maximum recommended task size is 1000 KiB.\n"
     ]
    },
    {
     "name": "stdout",
     "output_type": "stream",
     "text": [
      "+--------------------+-----------+\n",
      "|            features|transformed|\n",
      "+--------------------+-----------+\n",
      "|[7.6050076, -1.89...|        190|\n",
      "|[3.4293394, 5.031...|         60|\n",
      "|[-7.0488377, 5.49...|         25|\n",
      "|[4.565576, 0.8187...|          7|\n",
      "|[3.6422796, -0.92...|         48|\n",
      "|[-4.498247, -6.47...|         21|\n",
      "|[4.664378, -4.254...|         20|\n",
      "|[-7.5873113, -5.9...|        173|\n",
      "|[8.582473, 1.4493...|        144|\n",
      "|[5.786614, 5.5428...|         68|\n",
      "+--------------------+-----------+\n",
      "only showing top 10 rows\n",
      "\n"
     ]
    }
   ],
   "source": [
    "transformed_df.show(10)"
   ]
  },
  {
   "cell_type": "markdown",
   "metadata": {
    "application/vnd.databricks.v1+cell": {
     "cellMetadata": {},
     "inputWidgets": {},
     "nuid": "ccc646a3-6063-42f4-8909-03c285ce55d6",
     "showTitle": false,
     "title": ""
    }
   },
   "source": [
    "## Spark ML (CPU)"
   ]
  },
  {
   "cell_type": "code",
   "execution_count": 21,
   "metadata": {
    "application/vnd.databricks.v1+cell": {
     "cellMetadata": {},
     "inputWidgets": {},
     "nuid": "122a7ab9-d142-4244-b79c-bbf7e6eb05e9",
     "showTitle": false,
     "title": ""
    }
   },
   "outputs": [],
   "source": [
    "from pyspark.ml.clustering import KMeans\n",
    "cpu_kmeans = build_kmeans_estimator(KMeans)"
   ]
  },
  {
   "cell_type": "markdown",
   "metadata": {
    "application/vnd.databricks.v1+cell": {
     "cellMetadata": {},
     "inputWidgets": {},
     "nuid": "cd173dd2-7058-4d73-a969-c20e9f55e3e4",
     "showTitle": false,
     "title": ""
    }
   },
   "source": [
    "Convert array sql type to VectorUDT Dataframe expected by Spark ML algos (Note: Spark RAPIDS ML also accepts VectorUDT Dataframes in addition to array type Dataframe above, along with a scalar column format - see docs)."
   ]
  },
  {
   "cell_type": "code",
   "execution_count": 22,
   "metadata": {
    "application/vnd.databricks.v1+cell": {
     "cellMetadata": {},
     "inputWidgets": {},
     "nuid": "1f8a18da-17a5-4fcc-b2a5-604ea1088e1b",
     "showTitle": false,
     "title": ""
    }
   },
   "outputs": [],
   "source": [
    "from pyspark.ml.functions import array_to_vector"
   ]
  },
  {
   "cell_type": "code",
   "execution_count": 23,
   "metadata": {
    "application/vnd.databricks.v1+cell": {
     "cellMetadata": {},
     "inputWidgets": {},
     "nuid": "b9882dae-8c66-4e4d-8164-36040e2f0f3b",
     "showTitle": false,
     "title": ""
    }
   },
   "outputs": [],
   "source": [
    "vector_df = df.select(array_to_vector(\"features\").alias(\"features\"))"
   ]
  },
  {
   "cell_type": "markdown",
   "metadata": {},
   "source": [
    "### Fit"
   ]
  },
  {
   "cell_type": "code",
   "execution_count": 24,
   "metadata": {
    "application/vnd.databricks.v1+cell": {
     "cellMetadata": {},
     "inputWidgets": {},
     "nuid": "a48fdc86-e827-4545-a923-109519c675d6",
     "showTitle": false,
     "title": ""
    }
   },
   "outputs": [
    {
     "name": "stderr",
     "output_type": "stream",
     "text": [
      "23/07/20 16:12:52 WARN TaskSetManager: Stage 14 contains a task of very large size (19577 KiB). The maximum recommended task size is 1000 KiB.\n",
      "23/07/20 16:12:56 WARN TaskSetManager: Stage 17 contains a task of very large size (19577 KiB). The maximum recommended task size is 1000 KiB.\n",
      "23/07/20 16:12:59 WARN TaskSetManager: Stage 18 contains a task of very large size (19578 KiB). The maximum recommended task size is 1000 KiB.\n",
      "23/07/20 16:12:59 WARN TaskSetManager: Stage 19 contains a task of very large size (19577 KiB). The maximum recommended task size is 1000 KiB.\n",
      "23/07/20 16:13:00 WARN TaskSetManager: Stage 20 contains a task of very large size (19577 KiB). The maximum recommended task size is 1000 KiB.\n",
      "23/07/20 16:13:01 WARN TaskSetManager: Stage 21 contains a task of very large size (19577 KiB). The maximum recommended task size is 1000 KiB.\n",
      "23/07/20 16:13:10 WARN TaskSetManager: Stage 22 contains a task of very large size (19578 KiB). The maximum recommended task size is 1000 KiB.\n",
      "23/07/20 16:13:11 WARN TaskSetManager: Stage 23 contains a task of very large size (19577 KiB). The maximum recommended task size is 1000 KiB.\n",
      "23/07/20 16:13:30 WARN InstanceBuilder: Failed to load implementation from:dev.ludovic.netlib.blas.JNIBLAS\n",
      "23/07/20 16:13:31 WARN TaskSetManager: Stage 26 contains a task of very large size (19577 KiB). The maximum recommended task size is 1000 KiB.\n",
      "23/07/20 16:13:35 WARN TaskSetManager: Stage 29 contains a task of very large size (19577 KiB). The maximum recommended task size is 1000 KiB.\n",
      "23/07/20 16:13:39 WARN TaskSetManager: Stage 32 contains a task of very large size (19577 KiB). The maximum recommended task size is 1000 KiB.\n",
      "23/07/20 16:13:43 WARN TaskSetManager: Stage 35 contains a task of very large size (19577 KiB). The maximum recommended task size is 1000 KiB.\n",
      "23/07/20 16:13:47 WARN TaskSetManager: Stage 38 contains a task of very large size (19577 KiB). The maximum recommended task size is 1000 KiB.\n",
      "23/07/20 16:13:51 WARN TaskSetManager: Stage 41 contains a task of very large size (19577 KiB). The maximum recommended task size is 1000 KiB.\n",
      "23/07/20 16:13:55 WARN TaskSetManager: Stage 44 contains a task of very large size (19577 KiB). The maximum recommended task size is 1000 KiB.\n",
      "23/07/20 16:13:59 WARN TaskSetManager: Stage 47 contains a task of very large size (19577 KiB). The maximum recommended task size is 1000 KiB.\n",
      "23/07/20 16:14:03 WARN TaskSetManager: Stage 50 contains a task of very large size (19577 KiB). The maximum recommended task size is 1000 KiB.\n",
      "23/07/20 16:14:07 WARN TaskSetManager: Stage 53 contains a task of very large size (19577 KiB). The maximum recommended task size is 1000 KiB.\n",
      "23/07/20 16:14:11 WARN TaskSetManager: Stage 56 contains a task of very large size (19577 KiB). The maximum recommended task size is 1000 KiB.\n",
      "23/07/20 16:14:14 WARN TaskSetManager: Stage 58 contains a task of very large size (19577 KiB). The maximum recommended task size is 1000 KiB.\n",
      "[Stage 58:=============================================>           (8 + 2) / 10]\r"
     ]
    },
    {
     "name": "stdout",
     "output_type": "stream",
     "text": [
      "Fit took: 89.80326724052429 sec\n"
     ]
    },
    {
     "name": "stderr",
     "output_type": "stream",
     "text": [
      "                                                                                \r"
     ]
    }
   ],
   "source": [
    "start_time = time.time()\n",
    "cpu_kmeans_model = cpu_kmeans.fit(vector_df)\n",
    "cpu_fit = time.time() - start_time\n",
    "print(f\"Fit took: {cpu_fit} sec\")"
   ]
  },
  {
   "cell_type": "code",
   "execution_count": 25,
   "metadata": {
    "application/vnd.databricks.v1+cell": {
     "cellMetadata": {},
     "inputWidgets": {},
     "nuid": "15b8bc85-f271-473b-8d6d-138813fc79b0",
     "showTitle": false,
     "title": ""
    }
   },
   "outputs": [
    {
     "data": {
      "text/plain": [
       "numpy.ndarray"
      ]
     },
     "execution_count": 25,
     "metadata": {},
     "output_type": "execute_result"
    }
   ],
   "source": [
    "type(cpu_kmeans_model.clusterCenters()[0])"
   ]
  },
  {
   "cell_type": "code",
   "execution_count": 26,
   "metadata": {
    "application/vnd.databricks.v1+cell": {
     "cellMetadata": {},
     "inputWidgets": {},
     "nuid": "7fb9b7ea-15db-4678-8087-40b69c13c7bb",
     "showTitle": false,
     "title": ""
    }
   },
   "outputs": [
    {
     "data": {
      "text/plain": [
       "[[-9.925886767809509,\n",
       "  9.39085782649087,\n",
       "  8.889854954891518,\n",
       "  -5.842879385244651,\n",
       "  -1.2607862297140184,\n",
       "  3.21836230549656,\n",
       "  -9.877833088890451,\n",
       "  -4.180136888730722,\n",
       "  -3.705105688483989,\n",
       "  -3.483956264912105],\n",
       " [-9.922630417553675,\n",
       "  9.698699070998469,\n",
       "  1.3664845470518505,\n",
       "  -2.162207881150218,\n",
       "  2.7953974895164917,\n",
       "  9.486636707548461,\n",
       "  2.898738367709121,\n",
       "  4.7261793167834565,\n",
       "  7.6061832257088895,\n",
       "  2.3376862421660523]]"
      ]
     },
     "execution_count": 26,
     "metadata": {},
     "output_type": "execute_result"
    }
   ],
   "source": [
    "sorted_cpu_cluster_centers = sorted([vec.tolist() for vec in cpu_kmeans_model.clusterCenters()])\n",
    "[vec[0:10] for vec in sorted_cpu_cluster_centers[0:2]]"
   ]
  },
  {
   "cell_type": "markdown",
   "metadata": {},
   "source": [
    "### Transform"
   ]
  },
  {
   "cell_type": "code",
   "execution_count": 27,
   "metadata": {
    "application/vnd.databricks.v1+cell": {
     "cellMetadata": {},
     "inputWidgets": {},
     "nuid": "ec2a3245-fa44-4b08-b4f0-dc9c16b1528e",
     "showTitle": false,
     "title": ""
    }
   },
   "outputs": [],
   "source": [
    "spark_transformed = cpu_kmeans_model.setPredictionCol(\"transformed\").transform(vector_df)"
   ]
  },
  {
   "cell_type": "code",
   "execution_count": 28,
   "metadata": {
    "application/vnd.databricks.v1+cell": {
     "cellMetadata": {},
     "inputWidgets": {},
     "nuid": "9afcab13-c69c-4a2d-a98f-5a80345d65eb",
     "showTitle": false,
     "title": ""
    }
   },
   "outputs": [
    {
     "name": "stderr",
     "output_type": "stream",
     "text": [
      "23/07/20 16:14:22 WARN TaskSetManager: Stage 61 contains a task of very large size (19577 KiB). The maximum recommended task size is 1000 KiB.\n",
      "                                                                                \r"
     ]
    },
    {
     "data": {
      "text/plain": [
       "100000"
      ]
     },
     "execution_count": 28,
     "metadata": {},
     "output_type": "execute_result"
    }
   ],
   "source": [
    "spark_transformed.filter(spark_transformed.transformed >= 0).count()"
   ]
  },
  {
   "cell_type": "code",
   "execution_count": 29,
   "metadata": {
    "application/vnd.databricks.v1+cell": {
     "cellMetadata": {},
     "inputWidgets": {},
     "nuid": "2c02f6f1-36ac-4a02-995f-6ad68ee38cec",
     "showTitle": false,
     "title": ""
    }
   },
   "outputs": [
    {
     "name": "stdout",
     "output_type": "stream",
     "text": [
      "+--------------------+-----------+\n",
      "|            features|transformed|\n",
      "+--------------------+-----------+\n",
      "|[7.60500764846801...|         49|\n",
      "|[3.42933940887451...|        158|\n",
      "|[-7.0488376617431...|        123|\n",
      "|[4.56557607650756...|        180|\n",
      "|[3.64227962493896...|         18|\n",
      "|[-4.4982471466064...|        145|\n",
      "|[4.66437816619873...|        197|\n",
      "|[-7.5873112678527...|         74|\n",
      "|[8.58247280120849...|         61|\n",
      "|[5.78661394119262...|         12|\n",
      "+--------------------+-----------+\n",
      "only showing top 10 rows\n",
      "\n"
     ]
    },
    {
     "name": "stderr",
     "output_type": "stream",
     "text": [
      "23/07/20 16:14:28 WARN TaskSetManager: Stage 64 contains a task of very large size (19577 KiB). The maximum recommended task size is 1000 KiB.\n"
     ]
    }
   ],
   "source": [
    "spark_transformed.show(10)"
   ]
  },
  {
   "cell_type": "markdown",
   "metadata": {},
   "source": [
    "## Pipeline: CPU MinMaxScaler + CPU KMeans"
   ]
  },
  {
   "cell_type": "code",
   "execution_count": 30,
   "metadata": {
    "tags": []
   },
   "outputs": [],
   "source": [
    "from pyspark.ml.pipeline import Pipeline\n",
    "from pyspark.ml.feature import MinMaxScaler\n",
    "from pyspark.ml.functions import array_to_vector\n",
    "\n",
    "from pyspark.ml.clustering import KMeans"
   ]
  },
  {
   "cell_type": "code",
   "execution_count": 31,
   "metadata": {
    "tags": []
   },
   "outputs": [],
   "source": [
    "scaler = MinMaxScaler(inputCol='features', outputCol='scaled_features')\n",
    "cpu_kmeans = (\n",
    "    KMeans()\n",
    "    .setTol(1.0e-20)\n",
    "    .setK(200)\n",
    "    .setFeaturesCol(\"scaled_features\")\n",
    "    .setPredictionCol(\"transformed\")\n",
    "    .setMaxIter(15)\n",
    ")"
   ]
  },
  {
   "cell_type": "code",
   "execution_count": 32,
   "metadata": {
    "tags": []
   },
   "outputs": [],
   "source": [
    "pipe = Pipeline(stages=[scaler, cpu_kmeans])"
   ]
  },
  {
   "cell_type": "code",
   "execution_count": 33,
   "metadata": {
    "tags": []
   },
   "outputs": [
    {
     "name": "stderr",
     "output_type": "stream",
     "text": [
      "23/07/20 16:14:28 WARN TaskSetManager: Stage 65 contains a task of very large size (19577 KiB). The maximum recommended task size is 1000 KiB.\n",
      "23/07/20 16:14:30 WARN TaskSetManager: Stage 68 contains a task of very large size (19577 KiB). The maximum recommended task size is 1000 KiB.\n",
      "23/07/20 16:14:32 WARN TaskSetManager: Stage 71 contains a task of very large size (19577 KiB). The maximum recommended task size is 1000 KiB.\n",
      "23/07/20 16:14:35 WARN TaskSetManager: Stage 72 contains a task of very large size (19578 KiB). The maximum recommended task size is 1000 KiB.\n",
      "23/07/20 16:14:36 WARN TaskSetManager: Stage 73 contains a task of very large size (19577 KiB). The maximum recommended task size is 1000 KiB.\n",
      "23/07/20 16:14:36 WARN TaskSetManager: Stage 74 contains a task of very large size (19577 KiB). The maximum recommended task size is 1000 KiB.\n",
      "23/07/20 16:14:37 WARN TaskSetManager: Stage 75 contains a task of very large size (19577 KiB). The maximum recommended task size is 1000 KiB.\n",
      "23/07/20 16:14:46 WARN TaskSetManager: Stage 76 contains a task of very large size (19578 KiB). The maximum recommended task size is 1000 KiB.\n",
      "23/07/20 16:14:46 WARN TaskSetManager: Stage 77 contains a task of very large size (19577 KiB). The maximum recommended task size is 1000 KiB.\n",
      "23/07/20 16:15:06 WARN TaskSetManager: Stage 80 contains a task of very large size (19577 KiB). The maximum recommended task size is 1000 KiB.\n",
      "23/07/20 16:15:10 WARN TaskSetManager: Stage 83 contains a task of very large size (19577 KiB). The maximum recommended task size is 1000 KiB.\n",
      "23/07/20 16:15:13 WARN TaskSetManager: Stage 86 contains a task of very large size (19577 KiB). The maximum recommended task size is 1000 KiB.\n",
      "23/07/20 16:15:17 WARN TaskSetManager: Stage 89 contains a task of very large size (19577 KiB). The maximum recommended task size is 1000 KiB.\n",
      "23/07/20 16:15:21 WARN TaskSetManager: Stage 92 contains a task of very large size (19577 KiB). The maximum recommended task size is 1000 KiB.\n",
      "23/07/20 16:15:25 WARN TaskSetManager: Stage 95 contains a task of very large size (19577 KiB). The maximum recommended task size is 1000 KiB.\n",
      "23/07/20 16:15:29 WARN TaskSetManager: Stage 98 contains a task of very large size (19577 KiB). The maximum recommended task size is 1000 KiB.\n",
      "23/07/20 16:15:33 WARN TaskSetManager: Stage 101 contains a task of very large size (19577 KiB). The maximum recommended task size is 1000 KiB.\n",
      "23/07/20 16:15:37 WARN TaskSetManager: Stage 104 contains a task of very large size (19577 KiB). The maximum recommended task size is 1000 KiB.\n",
      "23/07/20 16:15:41 WARN TaskSetManager: Stage 107 contains a task of very large size (19577 KiB). The maximum recommended task size is 1000 KiB.\n",
      "23/07/20 16:15:44 WARN TaskSetManager: Stage 110 contains a task of very large size (19577 KiB). The maximum recommended task size is 1000 KiB.\n",
      "23/07/20 16:15:48 WARN TaskSetManager: Stage 113 contains a task of very large size (19577 KiB). The maximum recommended task size is 1000 KiB.\n",
      "23/07/20 16:15:52 WARN TaskSetManager: Stage 116 contains a task of very large size (19577 KiB). The maximum recommended task size is 1000 KiB.\n",
      "23/07/20 16:15:56 WARN TaskSetManager: Stage 119 contains a task of very large size (19577 KiB). The maximum recommended task size is 1000 KiB.\n",
      "23/07/20 16:16:00 WARN TaskSetManager: Stage 122 contains a task of very large size (19577 KiB). The maximum recommended task size is 1000 KiB.\n",
      "23/07/20 16:16:03 WARN TaskSetManager: Stage 124 contains a task of very large size (19577 KiB). The maximum recommended task size is 1000 KiB.\n",
      "[Stage 124:============================================>           (8 + 2) / 10]\r"
     ]
    },
    {
     "name": "stdout",
     "output_type": "stream",
     "text": [
      "Fit took: 101.7600085735321 sec\n"
     ]
    },
    {
     "name": "stderr",
     "output_type": "stream",
     "text": [
      "                                                                                \r"
     ]
    }
   ],
   "source": [
    "start_time = time.time()\n",
    "pipe_model = pipe.fit(vector_df)\n",
    "cpu_cpu_pipe = time.time() - start_time\n",
    "print(f\"Fit took: {cpu_cpu_pipe} sec\")"
   ]
  },
  {
   "cell_type": "code",
   "execution_count": 34,
   "metadata": {
    "tags": []
   },
   "outputs": [
    {
     "name": "stdout",
     "output_type": "stream",
     "text": [
      "+--------------------+--------------------+-----------+\n",
      "|            features|     scaled_features|transformed|\n",
      "+--------------------+--------------------+-----------+\n",
      "|[7.60500764846801...|[0.78957140222302...|        171|\n",
      "|[3.42933940887451...|[0.63245732071398...|        189|\n",
      "|[-7.0488376617431...|[0.23820445581219...|        124|\n",
      "|[4.56557607650756...|[0.67520946723735...|         26|\n",
      "|[3.64227962493896...|[0.64046942908650...|         80|\n",
      "|[-4.4982471466064...|[0.33417321173289...|        184|\n",
      "|[4.66437816619873...|[0.67892700385240...|         18|\n",
      "|[-7.5873112678527...|[0.21794379783209...|        192|\n",
      "|[8.58247280120849...|[0.82634959696171...|        179|\n",
      "|[5.78661394119262...|[0.72115235148728...|         33|\n",
      "+--------------------+--------------------+-----------+\n",
      "only showing top 10 rows\n",
      "\n"
     ]
    },
    {
     "name": "stderr",
     "output_type": "stream",
     "text": [
      "23/07/20 16:16:10 WARN TaskSetManager: Stage 127 contains a task of very large size (19577 KiB). The maximum recommended task size is 1000 KiB.\n"
     ]
    }
   ],
   "source": [
    "pipe_transformed = pipe_model.transform(vector_df)\n",
    "pipe_transformed.show(10)"
   ]
  },
  {
   "cell_type": "markdown",
   "metadata": {},
   "source": [
    "## Pipeline: CPU MinMaxScaler + GPU KMeans"
   ]
  },
  {
   "cell_type": "code",
   "execution_count": 35,
   "metadata": {
    "tags": []
   },
   "outputs": [],
   "source": [
    "from pyspark.ml.pipeline import Pipeline\n",
    "from pyspark.ml.feature import MinMaxScaler\n",
    "from pyspark.ml.functions import array_to_vector\n",
    "\n",
    "from spark_rapids_ml.clustering import KMeans"
   ]
  },
  {
   "cell_type": "code",
   "execution_count": 36,
   "metadata": {
    "tags": []
   },
   "outputs": [],
   "source": [
    "scaler = MinMaxScaler(inputCol='features', outputCol='scaled_features')\n",
    "gpu_kmeans = (\n",
    "    KMeans()\n",
    "    .setTol(1.0e-20)\n",
    "    .setK(200)\n",
    "    .setFeaturesCol(\"scaled_features\")\n",
    "    .setPredictionCol(\"transformed\")\n",
    "    .setMaxIter(15)\n",
    ")"
   ]
  },
  {
   "cell_type": "code",
   "execution_count": 37,
   "metadata": {
    "tags": []
   },
   "outputs": [],
   "source": [
    "pipe = Pipeline(stages=[scaler, gpu_kmeans])"
   ]
  },
  {
   "cell_type": "code",
   "execution_count": 38,
   "metadata": {
    "tags": []
   },
   "outputs": [
    {
     "name": "stderr",
     "output_type": "stream",
     "text": [
      "23/07/20 16:16:11 WARN TaskSetManager: Stage 128 contains a task of very large size (19577 KiB). The maximum recommended task size is 1000 KiB.\n",
      "23/07/20 16:16:12 WARN TaskSetManager: Stage 131 contains a task of very large size (19577 KiB). The maximum recommended task size is 1000 KiB.\n",
      "23/07/20 16:16:12 WARN TaskSetManager: Stage 132 contains a task of very large size (19577 KiB). The maximum recommended task size is 1000 KiB.\n",
      "[Stage 134:>                                                        (0 + 2) / 2]\r"
     ]
    },
    {
     "name": "stdout",
     "output_type": "stream",
     "text": [
      "Fit took: 34.3448269367218 sec\n"
     ]
    },
    {
     "name": "stderr",
     "output_type": "stream",
     "text": [
      "                                                                                \r"
     ]
    }
   ],
   "source": [
    "start_time = time.time()\n",
    "pipe_model = pipe.fit(vector_df)\n",
    "cpu_gpu_pipe = time.time() - start_time\n",
    "print(f\"Fit took: {cpu_gpu_pipe} sec\")"
   ]
  },
  {
   "cell_type": "code",
   "execution_count": 39,
   "metadata": {
    "tags": []
   },
   "outputs": [
    {
     "name": "stdout",
     "output_type": "stream",
     "text": [
      "+--------------------+--------------------+-----------+\n",
      "|            features|     scaled_features|transformed|\n",
      "+--------------------+--------------------+-----------+\n",
      "|[7.60500764846801...|[0.78957140222302...|        198|\n",
      "|[3.42933940887451...|[0.63245732071398...|         67|\n",
      "|[-7.0488376617431...|[0.23820445581219...|        146|\n",
      "|[4.56557607650756...|[0.67520946723735...|         33|\n",
      "|[3.64227962493896...|[0.64046942908650...|         74|\n",
      "|[-4.4982471466064...|[0.33417321173289...|        148|\n",
      "|[4.66437816619873...|[0.67892700385240...|         17|\n",
      "|[-7.5873112678527...|[0.21794379783209...|        105|\n",
      "|[8.58247280120849...|[0.82634959696171...|        133|\n",
      "|[5.78661394119262...|[0.72115235148728...|        107|\n",
      "+--------------------+--------------------+-----------+\n",
      "only showing top 10 rows\n",
      "\n"
     ]
    },
    {
     "name": "stderr",
     "output_type": "stream",
     "text": [
      "23/07/20 16:16:45 WARN TaskSetManager: Stage 135 contains a task of very large size (19577 KiB). The maximum recommended task size is 1000 KiB.\n"
     ]
    }
   ],
   "source": [
    "pipe_transformed = pipe_model.transform(vector_df)\n",
    "pipe_transformed.show(10)"
   ]
  },
  {
   "cell_type": "markdown",
   "metadata": {},
   "source": [
    "## Pipeline: GPU MinMaxScaler + GPU KMeans"
   ]
  },
  {
   "cell_type": "code",
   "execution_count": 40,
   "metadata": {
    "tags": []
   },
   "outputs": [],
   "source": [
    "from pyspark.ml.pipeline import Pipeline\n",
    "from pyspark.ml.feature import MinMaxScaler\n",
    "from pyspark.ml.functions import array_to_vector\n",
    "\n",
    "from spark_rapids_ml.feature import MinMaxScaler\n",
    "from spark_rapids_ml.clustering import KMeans"
   ]
  },
  {
   "cell_type": "code",
   "execution_count": 41,
   "metadata": {
    "tags": []
   },
   "outputs": [],
   "source": [
    "scaler = MinMaxScaler(inputCol='features', outputCol='scaled_features')\n",
    "gpu_kmeans = (\n",
    "    KMeans()\n",
    "    .setTol(1.0e-20)\n",
    "    .setK(200)\n",
    "    .setFeaturesCol(\"scaled_features\")\n",
    "    .setPredictionCol(\"transformed\")\n",
    "    .setMaxIter(15)\n",
    ")"
   ]
  },
  {
   "cell_type": "code",
   "execution_count": 42,
   "metadata": {
    "tags": []
   },
   "outputs": [],
   "source": [
    "pipe = Pipeline(stages=[scaler, gpu_kmeans])"
   ]
  },
  {
   "cell_type": "code",
   "execution_count": 43,
   "metadata": {
    "tags": []
   },
   "outputs": [
    {
     "name": "stderr",
     "output_type": "stream",
     "text": [
      "23/07/20 16:16:45 WARN TaskSetManager: Stage 136 contains a task of very large size (19577 KiB). The maximum recommended task size is 1000 KiB.\n",
      "23/07/20 16:16:45 WARN TaskSetManager: Stage 137 contains a task of very large size (19577 KiB). The maximum recommended task size is 1000 KiB.\n",
      "23/07/20 16:16:55 WARN TaskSetManager: Stage 140 contains a task of very large size (19577 KiB). The maximum recommended task size is 1000 KiB.\n",
      "23/07/20 16:16:56 WARN TaskSetManager: Stage 141 contains a task of very large size (19577 KiB). The maximum recommended task size is 1000 KiB.\n",
      "                                                                                \r"
     ]
    },
    {
     "name": "stdout",
     "output_type": "stream",
     "text": [
      "Fit took: 43.08415985107422 sec\n"
     ]
    }
   ],
   "source": [
    "start_time = time.time()\n",
    "pipe_model = pipe.fit(vector_df)\n",
    "gpu_gpu_pipe = time.time() - start_time\n",
    "print(f\"Fit took: {gpu_gpu_pipe} sec\")"
   ]
  },
  {
   "cell_type": "code",
   "execution_count": 44,
   "metadata": {
    "tags": []
   },
   "outputs": [
    {
     "name": "stderr",
     "output_type": "stream",
     "text": [
      "23/07/20 16:17:29 WARN TaskSetManager: Stage 144 contains a task of very large size (19577 KiB). The maximum recommended task size is 1000 KiB.\n",
      "[Stage 144:>                                                        (0 + 1) / 1]\r"
     ]
    },
    {
     "name": "stdout",
     "output_type": "stream",
     "text": [
      "+--------------------+--------------------+-----------+\n",
      "|            features|     scaled_features|transformed|\n",
      "+--------------------+--------------------+-----------+\n",
      "|[7.60500764846801...|[0.79968568302477...|         99|\n",
      "|[3.42933940887451...|[0.64055903916338...|         26|\n",
      "|[-7.0488376617431...|[0.24125596828650...|        150|\n",
      "|[4.56557607650756...|[0.68385882189954...|         82|\n",
      "|[3.64227962493896...|[0.64867377912384...|        175|\n",
      "|[-4.4982471466064...|[0.33845404180440...|        197|\n",
      "|[4.66437816619873...|[0.68762397852525...|        105|\n",
      "|[-7.5873112678527...|[0.22073578017967...|         98|\n",
      "|[8.58247280120849...|[0.83693499027869...|        148|\n",
      "|[5.78661394119262...|[0.73039021431062...|         21|\n",
      "+--------------------+--------------------+-----------+\n",
      "only showing top 10 rows\n",
      "\n"
     ]
    },
    {
     "name": "stderr",
     "output_type": "stream",
     "text": [
      "                                                                                \r"
     ]
    }
   ],
   "source": [
    "pipe_transformed = pipe_model.transform(vector_df)\n",
    "pipe_transformed.show(10)"
   ]
  },
  {
   "cell_type": "markdown",
   "metadata": {},
   "source": [
    "### Summary"
   ]
  },
  {
   "cell_type": "code",
   "execution_count": 46,
   "metadata": {
    "tags": []
   },
   "outputs": [
    {
     "name": "stdout",
     "output_type": "stream",
     "text": [
      "cpu_fit:         89.80326724052429\n",
      "gpu_fit:         13.370030879974365\n",
      "cpu_cpu_pipe:    101.7600085735321\n",
      "cpu_gpu_pipe:    34.3448269367218\n",
      "gpu_gpu_pipe:    43.08415985107422\n"
     ]
    }
   ],
   "source": [
    "print(f\"{'cpu_fit:':16} {cpu_fit}\")\n",
    "print(f\"{'gpu_fit:':16} {gpu_fit}\")\n",
    "print(f\"{'cpu_cpu_pipe:':16} {cpu_cpu_pipe}\")\n",
    "print(f\"{'cpu_gpu_pipe:':16} {cpu_gpu_pipe}\")\n",
    "print(f\"{'gpu_gpu_pipe:':16} {gpu_gpu_pipe}\")"
   ]
  },
  {
   "cell_type": "code",
   "execution_count": null,
   "metadata": {},
   "outputs": [],
   "source": []
  }
 ],
 "metadata": {
  "application/vnd.databricks.v1+notebook": {
   "dashboards": [],
   "language": "python",
   "notebookMetadata": {
    "pythonIndentUnit": 4
   },
   "notebookName": "spark-rapids-ml-kmeans-demo",
   "notebookOrigID": 1026070411409745,
   "widgets": {}
  },
  "kernelspec": {
   "display_name": "Python 3 (ipykernel)",
   "language": "python",
   "name": "python3"
  },
  "language_info": {
   "codemirror_mode": {
    "name": "ipython",
    "version": 3
   },
   "file_extension": ".py",
   "mimetype": "text/x-python",
   "name": "python",
   "nbconvert_exporter": "python",
   "pygments_lexer": "ipython3",
   "version": "3.9.16"
  },
  "vscode": {
   "interpreter": {
    "hash": "e7370f93d1d0cde622a1f8e1c04877d8463912d04d973331ad4851f04de6915a"
   }
  }
 },
 "nbformat": 4,
 "nbformat_minor": 4
}
