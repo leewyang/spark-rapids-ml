{
 "cells": [
  {
   "cell_type": "markdown",
   "metadata": {},
   "source": [
    "# KMeans"
   ]
  },
  {
   "cell_type": "code",
   "execution_count": 1,
   "metadata": {
    "application/vnd.databricks.v1+cell": {
     "cellMetadata": {},
     "inputWidgets": {},
     "nuid": "a7c21330-7326-4d98-9351-d1b2e4c6143c",
     "showTitle": false,
     "title": ""
    }
   },
   "outputs": [],
   "source": [
    "import numpy as np\n",
    "import pandas as pd\n",
    "import time"
   ]
  },
  {
   "cell_type": "markdown",
   "metadata": {},
   "source": [
    "### Create synthetic dataset"
   ]
  },
  {
   "cell_type": "code",
   "execution_count": 2,
   "metadata": {
    "application/vnd.databricks.v1+cell": {
     "cellMetadata": {},
     "inputWidgets": {},
     "nuid": "291da378-0e9b-4b53-bf9e-b78c35631f1d",
     "showTitle": false,
     "title": ""
    }
   },
   "outputs": [],
   "source": [
    "n_rows = 100000\n",
    "n_cols = 500\n",
    "n_clusters_data = 200\n",
    "cluster_std = 1.0\n",
    "dtype='float32'\n",
    "from cuml.datasets import make_blobs\n",
    "data, _ = make_blobs(\n",
    "        n_rows, n_cols, n_clusters_data, cluster_std=cluster_std, random_state=0, dtype=dtype\n",
    "    )  # make_blobs creates a random dataset of isotropic gaussian blobs.\n",
    "\n",
    "data = data.get()"
   ]
  },
  {
   "cell_type": "markdown",
   "metadata": {
    "application/vnd.databricks.v1+cell": {
     "cellMetadata": {},
     "inputWidgets": {},
     "nuid": "a9ae1eaf-a6d7-467d-88c0-644ae814c488",
     "showTitle": false,
     "title": ""
    }
   },
   "source": [
    "### Convert dataset to Spark DataFrame"
   ]
  },
  {
   "cell_type": "code",
   "execution_count": 3,
   "metadata": {
    "application/vnd.databricks.v1+cell": {
     "cellMetadata": {},
     "inputWidgets": {},
     "nuid": "a9ae1eaf-a6d7-467d-88c0-644ae814c488",
     "showTitle": false,
     "title": ""
    }
   },
   "outputs": [
    {
     "name": "stderr",
     "output_type": "stream",
     "text": [
      "/home/leey/devpub/spark/python/pyspark/sql/pandas/conversion.py:604: FutureWarning: iteritems is deprecated and will be removed in a future version. Use .items instead.\n",
      "  [(c, t) for (_, c), t in zip(pdf_slice.iteritems(), arrow_types)]\n"
     ]
    }
   ],
   "source": [
    "pd_data = pd.DataFrame({\"features\": list(data)})\n",
    "df = spark.createDataFrame(pd_data)"
   ]
  },
  {
   "cell_type": "code",
   "execution_count": 4,
   "metadata": {
    "tags": []
   },
   "outputs": [
    {
     "data": {
      "text/plain": [
       "StructType([StructField('features', ArrayType(FloatType(), True), True)])"
      ]
     },
     "execution_count": 4,
     "metadata": {},
     "output_type": "execute_result"
    }
   ],
   "source": [
    "df.schema"
   ]
  },
  {
   "cell_type": "markdown",
   "metadata": {},
   "source": [
    "### We will use this function to build both the Spark RAPIDS ML (GPU) and Spark ML (CPU) linear estimator objects, demonstrating the common API"
   ]
  },
  {
   "cell_type": "code",
   "execution_count": 5,
   "metadata": {},
   "outputs": [],
   "source": [
    "def build_kmeans_estimator(estimator_class):\n",
    "    return ( \n",
    "            estimator_class()\n",
    "            .setTol(1.0e-20)\n",
    "            .setK(200)\n",
    "            .setFeaturesCol(\"features\")\n",
    "            .setMaxIter(15)\n",
    "           )"
   ]
  },
  {
   "cell_type": "markdown",
   "metadata": {
    "application/vnd.databricks.v1+cell": {
     "cellMetadata": {},
     "inputWidgets": {},
     "nuid": "90b36ddc-2f90-409b-a213-3f319c736134",
     "showTitle": false,
     "title": ""
    }
   },
   "source": [
    "## Spark RAPIDS ML (GPU)"
   ]
  },
  {
   "cell_type": "code",
   "execution_count": 6,
   "metadata": {
    "application/vnd.databricks.v1+cell": {
     "cellMetadata": {},
     "inputWidgets": {},
     "nuid": "f1f994f0-4ca6-4b63-88f7-b0ac94ee3130",
     "showTitle": false,
     "title": ""
    }
   },
   "outputs": [],
   "source": [
    "from spark_rapids_ml.clustering import KMeans\n",
    "gpu_kmeans = build_kmeans_estimator(KMeans)"
   ]
  },
  {
   "cell_type": "markdown",
   "metadata": {
    "application/vnd.databricks.v1+cell": {
     "cellMetadata": {},
     "inputWidgets": {},
     "nuid": "a5a2cac5-18cd-450a-8571-195be588a361",
     "showTitle": false,
     "title": ""
    }
   },
   "source": [
    "Estimator can be persisted and reloaded."
   ]
  },
  {
   "cell_type": "code",
   "execution_count": 7,
   "metadata": {},
   "outputs": [],
   "source": [
    "estimator_path = \"/tmp/kmeans-estimator\""
   ]
  },
  {
   "cell_type": "code",
   "execution_count": 8,
   "metadata": {
    "application/vnd.databricks.v1+cell": {
     "cellMetadata": {},
     "inputWidgets": {},
     "nuid": "798f5b5b-cfa6-45e4-aa18-40c0142e894a",
     "showTitle": false,
     "title": ""
    }
   },
   "outputs": [
    {
     "name": "stderr",
     "output_type": "stream",
     "text": [
      "                                                                                \r"
     ]
    }
   ],
   "source": [
    "gpu_kmeans.write().overwrite().save(estimator_path)\n",
    "gpu_kmeans_loaded = KMeans.load(estimator_path)"
   ]
  },
  {
   "cell_type": "markdown",
   "metadata": {},
   "source": [
    "### Fit"
   ]
  },
  {
   "cell_type": "code",
   "execution_count": 9,
   "metadata": {
    "application/vnd.databricks.v1+cell": {
     "cellMetadata": {},
     "inputWidgets": {},
     "nuid": "209d8f9c-1d1c-4bdd-880c-10e46f9d0c49",
     "showTitle": false,
     "title": ""
    }
   },
   "outputs": [
    {
     "name": "stdout",
     "output_type": "stream",
     "text": [
      "23/05/24 14:50:02 WARN GpuOverrides: \n",
      "!Exec <CollectLimitExec> cannot run on GPU because the Exec CollectLimitExec has been disabled, and is disabled by default because Collect Limit replacement can be slower on the GPU, if huge number of rows in a batch it could help by limiting the number of rows transferred from GPU to CPU. Set spark.rapids.sql.exec.CollectLimitExec to true if you wish to enable it\n",
      "  @Partitioning <SinglePartition$> could run on GPU\n",
      "  ! <RDDScanExec> cannot run on GPU because GPU does not currently support the operator class org.apache.spark.sql.execution.RDDScanExec\n",
      "    @Expression <AttributeReference> features#0 could run on GPU\n",
      "\n",
      "23/05/24 14:50:02 WARN TaskSetManager: Stage 2 contains a task of very large size (24467 KiB). The maximum recommended task size is 1000 KiB.\n",
      "23/05/24 14:50:03 WARN GpuOverrides: \n",
      "  ! <RDDScanExec> cannot run on GPU because GPU does not currently support the operator class org.apache.spark.sql.execution.RDDScanExec\n",
      "    @Expression <AttributeReference> features#0 could run on GPU\n",
      "\n",
      "23/05/24 14:50:03 WARN GpuOverrides: \n",
      "      ! <RDDScanExec> cannot run on GPU because GPU does not currently support the operator class org.apache.spark.sql.execution.RDDScanExec\n",
      "        @Expression <AttributeReference> features#0 could run on GPU\n",
      "\n",
      "23/05/24 14:50:03 WARN GpuOverrides: \n",
      "      ! <RDDScanExec> cannot run on GPU because GPU does not currently support the operator class org.apache.spark.sql.execution.RDDScanExec\n",
      "        @Expression <AttributeReference> features#0 could run on GPU\n",
      "\n",
      "23/05/24 14:50:03 WARN GpuOverrides: \n",
      "      ! <RDDScanExec> cannot run on GPU because GPU does not currently support the operator class org.apache.spark.sql.execution.RDDScanExec\n",
      "        @Expression <AttributeReference> features#0 could run on GPU\n",
      "\n",
      "23/05/24 14:50:03 WARN GpuOverrides: \n",
      "    ! <RDDScanExec> cannot run on GPU because GPU does not currently support the operator class org.apache.spark.sql.execution.RDDScanExec\n",
      "      @Expression <AttributeReference> features#0 could run on GPU\n",
      "\n",
      "23/05/24 14:50:03 WARN TaskSetManager: Stage 3 contains a task of very large size (24467 KiB). The maximum recommended task size is 1000 KiB.\n"
     ]
    },
    {
     "name": "stderr",
     "output_type": "stream",
     "text": [
      "[Stage 5:>                                                          (0 + 1) / 1]\r"
     ]
    },
    {
     "name": "stdout",
     "output_type": "stream",
     "text": [
      "Fit took: 12.810078859329224 sec\n"
     ]
    },
    {
     "name": "stderr",
     "output_type": "stream",
     "text": [
      "                                                                                \r"
     ]
    }
   ],
   "source": [
    "start_time = time.time()\n",
    "gpu_model = gpu_kmeans_loaded.fit(df)\n",
    "gpu_fit = time.time() - start_time\n",
    "print(f\"Fit took: {gpu_fit} sec\")"
   ]
  },
  {
   "cell_type": "code",
   "execution_count": 10,
   "metadata": {
    "application/vnd.databricks.v1+cell": {
     "cellMetadata": {},
     "inputWidgets": {},
     "nuid": "77499eff-5cf2-4ce6-95a1-e45b69abe3cd",
     "showTitle": false,
     "title": ""
    }
   },
   "outputs": [
    {
     "data": {
      "text/plain": [
       "200"
      ]
     },
     "execution_count": 10,
     "metadata": {},
     "output_type": "execute_result"
    }
   ],
   "source": [
    "gpu_kmeans_loaded.getK()"
   ]
  },
  {
   "cell_type": "code",
   "execution_count": 11,
   "metadata": {
    "application/vnd.databricks.v1+cell": {
     "cellMetadata": {},
     "inputWidgets": {},
     "nuid": "1abf6fbd-c7bd-400e-80a4-83284865535c",
     "showTitle": false,
     "title": ""
    }
   },
   "outputs": [],
   "source": [
    "sorted_clusters = sorted([vec.tolist() for vec in gpu_model.clusterCenters()])"
   ]
  },
  {
   "cell_type": "code",
   "execution_count": 12,
   "metadata": {
    "application/vnd.databricks.v1+cell": {
     "cellMetadata": {},
     "inputWidgets": {},
     "nuid": "db84a983-a64f-462b-813b-7b7ba629d18e",
     "showTitle": false,
     "title": ""
    }
   },
   "outputs": [
    {
     "data": {
      "text/plain": [
       "[[-9.925885200500488,\n",
       "  9.390853881835938,\n",
       "  8.889856338500977,\n",
       "  -5.84288215637207,\n",
       "  -1.260785698890686,\n",
       "  3.2183611392974854,\n",
       "  -9.87783432006836,\n",
       "  -4.180136203765869,\n",
       "  -3.705103874206543,\n",
       "  -3.4839558601379395],\n",
       " [-9.922632217407227,\n",
       "  9.698699951171875,\n",
       "  1.3664839267730713,\n",
       "  -2.1622085571289062,\n",
       "  2.7953970432281494,\n",
       "  9.4866361618042,\n",
       "  2.8987371921539307,\n",
       "  4.72617769241333,\n",
       "  7.606184005737305,\n",
       "  2.337686538696289]]"
      ]
     },
     "execution_count": 12,
     "metadata": {},
     "output_type": "execute_result"
    }
   ],
   "source": [
    "[vec[0:10] for vec in sorted_clusters[0:2]]"
   ]
  },
  {
   "cell_type": "markdown",
   "metadata": {},
   "source": [
    "### Transform"
   ]
  },
  {
   "cell_type": "code",
   "execution_count": 13,
   "metadata": {},
   "outputs": [],
   "source": [
    "model_path = \"/tmp/kmeans-model\""
   ]
  },
  {
   "cell_type": "code",
   "execution_count": 14,
   "metadata": {
    "application/vnd.databricks.v1+cell": {
     "cellMetadata": {},
     "inputWidgets": {},
     "nuid": "6874b600-707d-48a7-b780-5d4e939a746b",
     "showTitle": false,
     "title": ""
    }
   },
   "outputs": [
    {
     "name": "stdout",
     "output_type": "stream",
     "text": [
      "23/05/24 14:50:15 WARN TaskSetManager: Stage 7 contains a task of very large size (1935 KiB). The maximum recommended task size is 1000 KiB.\n"
     ]
    }
   ],
   "source": [
    "gpu_model.write().overwrite().save(model_path)"
   ]
  },
  {
   "cell_type": "code",
   "execution_count": 15,
   "metadata": {
    "application/vnd.databricks.v1+cell": {
     "cellMetadata": {},
     "inputWidgets": {},
     "nuid": "441c8635-9070-426f-8626-7083f34b7e71",
     "showTitle": false,
     "title": ""
    }
   },
   "outputs": [],
   "source": [
    "gpu_model_loaded = gpu_model.read().load(model_path)"
   ]
  },
  {
   "cell_type": "code",
   "execution_count": 16,
   "metadata": {
    "application/vnd.databricks.v1+cell": {
     "cellMetadata": {},
     "inputWidgets": {},
     "nuid": "48f7975c-f2ce-471d-aa8e-8dc678a44f37",
     "showTitle": false,
     "title": ""
    }
   },
   "outputs": [
    {
     "data": {
      "text/plain": [
       "[[-9.925885200500488,\n",
       "  9.390853881835938,\n",
       "  8.889856338500977,\n",
       "  -5.84288215637207,\n",
       "  -1.260785698890686,\n",
       "  3.2183611392974854,\n",
       "  -9.87783432006836,\n",
       "  -4.180136203765869,\n",
       "  -3.705103874206543,\n",
       "  -3.4839558601379395],\n",
       " [-9.922632217407227,\n",
       "  9.698699951171875,\n",
       "  1.3664839267730713,\n",
       "  -2.1622085571289062,\n",
       "  2.7953970432281494,\n",
       "  9.4866361618042,\n",
       "  2.8987371921539307,\n",
       "  4.72617769241333,\n",
       "  7.606184005737305,\n",
       "  2.337686538696289]]"
      ]
     },
     "execution_count": 16,
     "metadata": {},
     "output_type": "execute_result"
    }
   ],
   "source": [
    "[vec[0:10] for vec in sorted(gpu_model_loaded.cluster_centers_)[0:2]]"
   ]
  },
  {
   "cell_type": "code",
   "execution_count": 17,
   "metadata": {
    "application/vnd.databricks.v1+cell": {
     "cellMetadata": {},
     "inputWidgets": {},
     "nuid": "c3bfc179-e702-4198-8122-3a8ba98113a4",
     "showTitle": false,
     "title": ""
    }
   },
   "outputs": [],
   "source": [
    "transformed_df = gpu_model_loaded.setPredictionCol(\"transformed\").transform(df)"
   ]
  },
  {
   "cell_type": "code",
   "execution_count": 18,
   "metadata": {
    "application/vnd.databricks.v1+cell": {
     "cellMetadata": {},
     "inputWidgets": {},
     "nuid": "de0ce32d-3d09-4e82-b6a7-26978925181a",
     "showTitle": false,
     "title": ""
    }
   },
   "outputs": [
    {
     "name": "stdout",
     "output_type": "stream",
     "text": [
      "root\n",
      " |-- features: array (nullable = true)\n",
      " |    |-- element: float (containsNull = true)\n",
      " |-- transformed: integer (nullable = true)\n",
      "\n"
     ]
    }
   ],
   "source": [
    "transformed_df.printSchema()"
   ]
  },
  {
   "cell_type": "code",
   "execution_count": 19,
   "metadata": {
    "application/vnd.databricks.v1+cell": {
     "cellMetadata": {},
     "inputWidgets": {},
     "nuid": "0c63b707-0e00-4961-8a76-82f347886b83",
     "showTitle": false,
     "title": ""
    }
   },
   "outputs": [
    {
     "name": "stdout",
     "output_type": "stream",
     "text": [
      "23/05/24 14:50:16 WARN GpuOverrides: \n",
      "        ! <RDDScanExec> cannot run on GPU because GPU does not currently support the operator class org.apache.spark.sql.execution.RDDScanExec\n",
      "          @Expression <AttributeReference> features#0 could run on GPU\n",
      "\n",
      "23/05/24 14:50:16 WARN GpuOverrides: \n",
      "        ! <RDDScanExec> cannot run on GPU because GPU does not currently support the operator class org.apache.spark.sql.execution.RDDScanExec\n",
      "          @Expression <AttributeReference> features#0 could run on GPU\n",
      "\n",
      "23/05/24 14:50:16 WARN GpuOverrides: \n",
      "        ! <RDDScanExec> cannot run on GPU because GPU does not currently support the operator class org.apache.spark.sql.execution.RDDScanExec\n",
      "          @Expression <AttributeReference> features#0 could run on GPU\n",
      "\n",
      "23/05/24 14:50:16 WARN GpuOverrides: \n",
      "      ! <RDDScanExec> cannot run on GPU because GPU does not currently support the operator class org.apache.spark.sql.execution.RDDScanExec\n",
      "        @Expression <AttributeReference> features#0 could run on GPU\n",
      "\n",
      "23/05/24 14:50:16 WARN TaskSetManager: Stage 10 contains a task of very large size (24467 KiB). The maximum recommended task size is 1000 KiB.\n"
     ]
    },
    {
     "name": "stderr",
     "output_type": "stream",
     "text": [
      "                                                                                \r"
     ]
    },
    {
     "data": {
      "text/plain": [
       "100000"
      ]
     },
     "execution_count": 19,
     "metadata": {},
     "output_type": "execute_result"
    }
   ],
   "source": [
    "transformed_df.count()"
   ]
  },
  {
   "cell_type": "code",
   "execution_count": 20,
   "metadata": {
    "application/vnd.databricks.v1+cell": {
     "cellMetadata": {},
     "inputWidgets": {},
     "nuid": "a7c5d3b5-ecb0-435a-8976-bc18a28e3e04",
     "showTitle": false,
     "title": ""
    }
   },
   "outputs": [
    {
     "name": "stdout",
     "output_type": "stream",
     "text": [
      "23/05/24 14:50:18 WARN GpuOverrides: \n",
      "!Exec <CollectLimitExec> cannot run on GPU because the Exec CollectLimitExec has been disabled, and is disabled by default because Collect Limit replacement can be slower on the GPU, if huge number of rows in a batch it could help by limiting the number of rows transferred from GPU to CPU. Set spark.rapids.sql.exec.CollectLimitExec to true if you wish to enable it\n",
      "  @Partitioning <SinglePartition$> could run on GPU\n",
      "      ! <RDDScanExec> cannot run on GPU because GPU does not currently support the operator class org.apache.spark.sql.execution.RDDScanExec\n",
      "        @Expression <AttributeReference> features#0 could run on GPU\n",
      "\n",
      "23/05/24 14:50:18 WARN TaskSetManager: Stage 13 contains a task of very large size (24467 KiB). The maximum recommended task size is 1000 KiB.\n"
     ]
    },
    {
     "name": "stderr",
     "output_type": "stream",
     "text": [
      "[Stage 13:>                                                         (0 + 1) / 1]\r"
     ]
    },
    {
     "name": "stdout",
     "output_type": "stream",
     "text": [
      "+--------------------+-----------+\n",
      "|            features|transformed|\n",
      "+--------------------+-----------+\n",
      "|[7.605007648, -1....|         91|\n",
      "|[3.429339409, 5.0...|        147|\n",
      "|[-7.048837662, 5....|        169|\n",
      "|[4.565576077, 0.8...|         73|\n",
      "|[3.642279625, -0....|         47|\n",
      "|[-4.498247147, -6...|        178|\n",
      "|[4.664378166, -4....|         94|\n",
      "|[-7.587311268, -5...|         48|\n",
      "|[8.582472801, 1.4...|         28|\n",
      "|[5.786613941, 5.5...|        132|\n",
      "+--------------------+-----------+\n",
      "only showing top 10 rows\n",
      "\n"
     ]
    },
    {
     "name": "stderr",
     "output_type": "stream",
     "text": [
      "                                                                                \r"
     ]
    }
   ],
   "source": [
    "transformed_df.show(10)"
   ]
  },
  {
   "cell_type": "markdown",
   "metadata": {
    "application/vnd.databricks.v1+cell": {
     "cellMetadata": {},
     "inputWidgets": {},
     "nuid": "ccc646a3-6063-42f4-8909-03c285ce55d6",
     "showTitle": false,
     "title": ""
    }
   },
   "source": [
    "## Spark ML (CPU)"
   ]
  },
  {
   "cell_type": "code",
   "execution_count": 21,
   "metadata": {
    "application/vnd.databricks.v1+cell": {
     "cellMetadata": {},
     "inputWidgets": {},
     "nuid": "122a7ab9-d142-4244-b79c-bbf7e6eb05e9",
     "showTitle": false,
     "title": ""
    }
   },
   "outputs": [],
   "source": [
    "from pyspark.ml.clustering import KMeans\n",
    "cpu_kmeans = build_kmeans_estimator(KMeans)"
   ]
  },
  {
   "cell_type": "markdown",
   "metadata": {
    "application/vnd.databricks.v1+cell": {
     "cellMetadata": {},
     "inputWidgets": {},
     "nuid": "cd173dd2-7058-4d73-a969-c20e9f55e3e4",
     "showTitle": false,
     "title": ""
    }
   },
   "source": [
    "Convert array sql type to VectorUDT Dataframe expected by Spark ML algos (Note: Spark RAPIDS ML also accepts VectorUDT Dataframes in addition to array type Dataframe above, along with a scalar column format - see docs)."
   ]
  },
  {
   "cell_type": "code",
   "execution_count": 22,
   "metadata": {
    "application/vnd.databricks.v1+cell": {
     "cellMetadata": {},
     "inputWidgets": {},
     "nuid": "1f8a18da-17a5-4fcc-b2a5-604ea1088e1b",
     "showTitle": false,
     "title": ""
    }
   },
   "outputs": [],
   "source": [
    "from pyspark.ml.functions import array_to_vector"
   ]
  },
  {
   "cell_type": "code",
   "execution_count": 23,
   "metadata": {
    "application/vnd.databricks.v1+cell": {
     "cellMetadata": {},
     "inputWidgets": {},
     "nuid": "b9882dae-8c66-4e4d-8164-36040e2f0f3b",
     "showTitle": false,
     "title": ""
    }
   },
   "outputs": [],
   "source": [
    "vector_df = df.select(array_to_vector(\"features\").alias(\"features\"))"
   ]
  },
  {
   "cell_type": "markdown",
   "metadata": {},
   "source": [
    "### Fit"
   ]
  },
  {
   "cell_type": "code",
   "execution_count": 24,
   "metadata": {
    "application/vnd.databricks.v1+cell": {
     "cellMetadata": {},
     "inputWidgets": {},
     "nuid": "a48fdc86-e827-4545-a923-109519c675d6",
     "showTitle": false,
     "title": ""
    }
   },
   "outputs": [
    {
     "name": "stdout",
     "output_type": "stream",
     "text": [
      "23/05/24 14:50:23 WARN GpuOverrides: \n",
      "! <DeserializeToObjectExec> cannot run on GPU because not all expressions can be replaced; GPU does not currently support the operator class org.apache.spark.sql.execution.DeserializeToObjectExec\n",
      "  ! <CreateExternalRow> createexternalrow(newInstance(class org.apache.spark.ml.linalg.VectorUDT).deserialize, StructField(features,org.apache.spark.ml.linalg.VectorUDT@3bfc3ba7,true)) cannot run on GPU because GPU does not currently support the operator class org.apache.spark.sql.catalyst.expressions.objects.CreateExternalRow\n",
      "    ! <Invoke> newInstance(class org.apache.spark.ml.linalg.VectorUDT).deserialize cannot run on GPU because GPU does not currently support the operator class org.apache.spark.sql.catalyst.expressions.objects.Invoke\n",
      "      ! <NewInstance> newInstance(class org.apache.spark.ml.linalg.VectorUDT) cannot run on GPU because GPU does not currently support the operator class org.apache.spark.sql.catalyst.expressions.objects.NewInstance\n",
      "      !Expression <AttributeReference> features#45 cannot run on GPU because expression AttributeReference features#45 produces an unsupported type org.apache.spark.ml.linalg.VectorUDT@3bfc3ba7\n",
      "  !Expression <AttributeReference> obj#50 cannot run on GPU because expression AttributeReference obj#50 produces an unsupported type ObjectType(interface org.apache.spark.sql.Row)\n",
      "  !Exec <ProjectExec> cannot run on GPU because unsupported data types in output: org.apache.spark.ml.linalg.VectorUDT@3bfc3ba7 [features#45]; not all expressions can be replaced\n",
      "    !Expression <Alias> UDF(features#0) AS features#45 cannot run on GPU because input expression ScalaUDF UDF(features#0) (org.apache.spark.ml.linalg.VectorUDT@3bfc3ba7 is not supported); expression Alias UDF(features#0) AS features#45 produces an unsupported type org.apache.spark.ml.linalg.VectorUDT@3bfc3ba7\n",
      "      !Expression <ScalaUDF> UDF(features#0) cannot run on GPU because neither UDF implemented by class org.apache.spark.ml.functions$$$Lambda$3697/1027037449 provides a GPU implementation, nor the conf `spark.rapids.sql.rowBasedUDF.enabled` is enabled; expression ScalaUDF UDF(features#0) produces an unsupported type org.apache.spark.ml.linalg.VectorUDT@3bfc3ba7\n",
      "        @Expression <AttributeReference> features#0 could run on GPU\n",
      "    ! <RDDScanExec> cannot run on GPU because GPU does not currently support the operator class org.apache.spark.sql.execution.RDDScanExec\n",
      "      @Expression <AttributeReference> features#0 could run on GPU\n",
      "\n",
      "23/05/24 14:50:23 WARN GpuOverrides: \n",
      "! <DeserializeToObjectExec> cannot run on GPU because not all expressions can be replaced; GPU does not currently support the operator class org.apache.spark.sql.execution.DeserializeToObjectExec\n",
      "  ! <CreateExternalRow> createexternalrow(newInstance(class org.apache.spark.ml.linalg.VectorUDT).deserialize, 1.0#51, StructField(features,org.apache.spark.ml.linalg.VectorUDT@3bfc3ba7,true), StructField(1.0,DoubleType,false)) cannot run on GPU because GPU does not currently support the operator class org.apache.spark.sql.catalyst.expressions.objects.CreateExternalRow\n",
      "    ! <Invoke> newInstance(class org.apache.spark.ml.linalg.VectorUDT).deserialize cannot run on GPU because GPU does not currently support the operator class org.apache.spark.sql.catalyst.expressions.objects.Invoke\n",
      "      ! <NewInstance> newInstance(class org.apache.spark.ml.linalg.VectorUDT) cannot run on GPU because GPU does not currently support the operator class org.apache.spark.sql.catalyst.expressions.objects.NewInstance\n",
      "      !Expression <AttributeReference> features#45 cannot run on GPU because expression AttributeReference features#45 produces an unsupported type org.apache.spark.ml.linalg.VectorUDT@3bfc3ba7\n",
      "    @Expression <AttributeReference> 1.0#51 could run on GPU\n",
      "  !Expression <AttributeReference> obj#54 cannot run on GPU because expression AttributeReference obj#54 produces an unsupported type ObjectType(interface org.apache.spark.sql.Row)\n",
      "  !Exec <ProjectExec> cannot run on GPU because unsupported data types in output: org.apache.spark.ml.linalg.VectorUDT@3bfc3ba7 [features#45]; not all expressions can be replaced\n",
      "    !Expression <Alias> UDF(features#0) AS features#45 cannot run on GPU because input expression ScalaUDF UDF(features#0) (org.apache.spark.ml.linalg.VectorUDT@3bfc3ba7 is not supported); expression Alias UDF(features#0) AS features#45 produces an unsupported type org.apache.spark.ml.linalg.VectorUDT@3bfc3ba7\n",
      "      !Expression <ScalaUDF> UDF(features#0) cannot run on GPU because neither UDF implemented by class org.apache.spark.ml.functions$$$Lambda$3697/1027037449 provides a GPU implementation, nor the conf `spark.rapids.sql.rowBasedUDF.enabled` is enabled; expression ScalaUDF UDF(features#0) produces an unsupported type org.apache.spark.ml.linalg.VectorUDT@3bfc3ba7\n",
      "        @Expression <AttributeReference> features#0 could run on GPU\n",
      "    @Expression <Alias> 1.0 AS 1.0#51 could run on GPU\n",
      "      @Expression <Literal> 1.0 could run on GPU\n",
      "    ! <RDDScanExec> cannot run on GPU because GPU does not currently support the operator class org.apache.spark.sql.execution.RDDScanExec\n",
      "      @Expression <AttributeReference> features#0 could run on GPU\n",
      "\n",
      "23/05/24 14:50:23 WARN TaskSetManager: Stage 14 contains a task of very large size (24467 KiB). The maximum recommended task size is 1000 KiB.\n"
     ]
    },
    {
     "name": "stderr",
     "output_type": "stream",
     "text": [
      "                                                                                \r"
     ]
    },
    {
     "name": "stdout",
     "output_type": "stream",
     "text": [
      "23/05/24 14:50:29 WARN TaskSetManager: Stage 15 contains a task of very large size (24467 KiB). The maximum recommended task size is 1000 KiB.\n"
     ]
    },
    {
     "name": "stderr",
     "output_type": "stream",
     "text": [
      "                                                                                \r"
     ]
    },
    {
     "name": "stdout",
     "output_type": "stream",
     "text": [
      "23/05/24 14:50:30 WARN TaskSetManager: Stage 16 contains a task of very large size (24467 KiB). The maximum recommended task size is 1000 KiB.\n"
     ]
    },
    {
     "name": "stderr",
     "output_type": "stream",
     "text": [
      "                                                                                \r"
     ]
    },
    {
     "name": "stdout",
     "output_type": "stream",
     "text": [
      "23/05/24 14:50:31 WARN TaskSetManager: Stage 17 contains a task of very large size (24467 KiB). The maximum recommended task size is 1000 KiB.\n"
     ]
    },
    {
     "name": "stderr",
     "output_type": "stream",
     "text": [
      "                                                                                \r"
     ]
    },
    {
     "name": "stdout",
     "output_type": "stream",
     "text": [
      "23/05/24 14:50:31 WARN TaskSetManager: Stage 18 contains a task of very large size (24467 KiB). The maximum recommended task size is 1000 KiB.\n"
     ]
    },
    {
     "name": "stderr",
     "output_type": "stream",
     "text": [
      "                                                                                \r"
     ]
    },
    {
     "name": "stdout",
     "output_type": "stream",
     "text": [
      "23/05/24 14:50:49 WARN TaskSetManager: Stage 19 contains a task of very large size (24467 KiB). The maximum recommended task size is 1000 KiB.\n"
     ]
    },
    {
     "name": "stderr",
     "output_type": "stream",
     "text": [
      "                                                                                \r"
     ]
    },
    {
     "name": "stdout",
     "output_type": "stream",
     "text": [
      "23/05/24 14:50:50 WARN TaskSetManager: Stage 20 contains a task of very large size (24467 KiB). The maximum recommended task size is 1000 KiB.\n"
     ]
    },
    {
     "name": "stderr",
     "output_type": "stream",
     "text": [
      "                                                                                \r"
     ]
    },
    {
     "name": "stdout",
     "output_type": "stream",
     "text": [
      "23/05/24 14:51:25 WARN InstanceBuilder$NativeBLAS: Failed to load implementation from:dev.ludovic.netlib.blas.JNIBLAS\n",
      "23/05/24 14:51:25 WARN InstanceBuilder$NativeBLAS: Failed to load implementation from:dev.ludovic.netlib.blas.ForeignLinkerBLAS\n"
     ]
    },
    {
     "name": "stderr",
     "output_type": "stream",
     "text": [
      "                                                                                \r"
     ]
    },
    {
     "name": "stdout",
     "output_type": "stream",
     "text": [
      "23/05/24 14:51:27 WARN TaskSetManager: Stage 23 contains a task of very large size (24467 KiB). The maximum recommended task size is 1000 KiB.\n"
     ]
    },
    {
     "name": "stderr",
     "output_type": "stream",
     "text": [
      "                                                                                \r"
     ]
    },
    {
     "name": "stdout",
     "output_type": "stream",
     "text": [
      "23/05/24 14:51:35 WARN TaskSetManager: Stage 26 contains a task of very large size (24467 KiB). The maximum recommended task size is 1000 KiB.\n"
     ]
    },
    {
     "name": "stderr",
     "output_type": "stream",
     "text": [
      "                                                                                \r"
     ]
    },
    {
     "name": "stdout",
     "output_type": "stream",
     "text": [
      "23/05/24 14:51:42 WARN TaskSetManager: Stage 29 contains a task of very large size (24467 KiB). The maximum recommended task size is 1000 KiB.\n"
     ]
    },
    {
     "name": "stderr",
     "output_type": "stream",
     "text": [
      "                                                                                \r"
     ]
    },
    {
     "name": "stdout",
     "output_type": "stream",
     "text": [
      "23/05/24 14:51:50 WARN TaskSetManager: Stage 32 contains a task of very large size (24467 KiB). The maximum recommended task size is 1000 KiB.\n"
     ]
    },
    {
     "name": "stderr",
     "output_type": "stream",
     "text": [
      "                                                                                \r"
     ]
    },
    {
     "name": "stdout",
     "output_type": "stream",
     "text": [
      "23/05/24 14:51:58 WARN TaskSetManager: Stage 35 contains a task of very large size (24467 KiB). The maximum recommended task size is 1000 KiB.\n"
     ]
    },
    {
     "name": "stderr",
     "output_type": "stream",
     "text": [
      "                                                                                \r"
     ]
    },
    {
     "name": "stdout",
     "output_type": "stream",
     "text": [
      "23/05/24 14:52:05 WARN TaskSetManager: Stage 38 contains a task of very large size (24467 KiB). The maximum recommended task size is 1000 KiB.\n"
     ]
    },
    {
     "name": "stderr",
     "output_type": "stream",
     "text": [
      "                                                                                \r"
     ]
    },
    {
     "name": "stdout",
     "output_type": "stream",
     "text": [
      "23/05/24 14:52:12 WARN TaskSetManager: Stage 41 contains a task of very large size (24467 KiB). The maximum recommended task size is 1000 KiB.\n"
     ]
    },
    {
     "name": "stderr",
     "output_type": "stream",
     "text": [
      "                                                                                \r"
     ]
    },
    {
     "name": "stdout",
     "output_type": "stream",
     "text": [
      "23/05/24 14:52:20 WARN TaskSetManager: Stage 44 contains a task of very large size (24467 KiB). The maximum recommended task size is 1000 KiB.\n"
     ]
    },
    {
     "name": "stderr",
     "output_type": "stream",
     "text": [
      "                                                                                \r"
     ]
    },
    {
     "name": "stdout",
     "output_type": "stream",
     "text": [
      "23/05/24 14:52:27 WARN TaskSetManager: Stage 47 contains a task of very large size (24467 KiB). The maximum recommended task size is 1000 KiB.\n"
     ]
    },
    {
     "name": "stderr",
     "output_type": "stream",
     "text": [
      "                                                                                \r"
     ]
    },
    {
     "name": "stdout",
     "output_type": "stream",
     "text": [
      "23/05/24 14:52:33 WARN GpuOverrides: \n",
      "      !Exec <ProjectExec> cannot run on GPU because not all expressions can be replaced\n",
      "        @Expression <Alias> UDF(UDF(features#0)) AS prediction#58 could run on GPU\n",
      "          !Expression <ScalaUDF> UDF(UDF(features#0)) cannot run on GPU because neither UDF implemented by class org.apache.spark.ml.clustering.KMeansModel$$Lambda$4038/2042610068 provides a GPU implementation, nor the conf `spark.rapids.sql.rowBasedUDF.enabled` is enabled; param expression ScalaUDF UDF(features#0) (org.apache.spark.ml.linalg.VectorUDT@3bfc3ba7 is not supported)\n",
      "            !Expression <ScalaUDF> UDF(features#0) cannot run on GPU because neither UDF implemented by class org.apache.spark.ml.functions$$$Lambda$3697/1027037449 provides a GPU implementation, nor the conf `spark.rapids.sql.rowBasedUDF.enabled` is enabled; expression ScalaUDF UDF(features#0) produces an unsupported type org.apache.spark.ml.linalg.VectorUDT@3bfc3ba7\n",
      "              @Expression <AttributeReference> features#0 could run on GPU\n",
      "        ! <RDDScanExec> cannot run on GPU because GPU does not currently support the operator class org.apache.spark.sql.execution.RDDScanExec\n",
      "          @Expression <AttributeReference> features#0 could run on GPU\n",
      "\n",
      "23/05/24 14:52:33 WARN GpuOverrides: \n",
      "      !Exec <ProjectExec> cannot run on GPU because not all expressions can be replaced\n",
      "        @Expression <Alias> UDF(UDF(features#0)) AS prediction#58 could run on GPU\n",
      "          !Expression <ScalaUDF> UDF(UDF(features#0)) cannot run on GPU because neither UDF implemented by class org.apache.spark.ml.clustering.KMeansModel$$Lambda$4038/2042610068 provides a GPU implementation, nor the conf `spark.rapids.sql.rowBasedUDF.enabled` is enabled; param expression ScalaUDF UDF(features#0) (org.apache.spark.ml.linalg.VectorUDT@3bfc3ba7 is not supported)\n",
      "            !Expression <ScalaUDF> UDF(features#0) cannot run on GPU because neither UDF implemented by class org.apache.spark.ml.functions$$$Lambda$3697/1027037449 provides a GPU implementation, nor the conf `spark.rapids.sql.rowBasedUDF.enabled` is enabled; expression ScalaUDF UDF(features#0) produces an unsupported type org.apache.spark.ml.linalg.VectorUDT@3bfc3ba7\n",
      "              @Expression <AttributeReference> features#0 could run on GPU\n",
      "        ! <RDDScanExec> cannot run on GPU because GPU does not currently support the operator class org.apache.spark.sql.execution.RDDScanExec\n",
      "          @Expression <AttributeReference> features#0 could run on GPU\n",
      "\n",
      "23/05/24 14:52:33 WARN GpuOverrides: \n",
      "      !Exec <ProjectExec> cannot run on GPU because not all expressions can be replaced\n",
      "        @Expression <Alias> UDF(UDF(features#0)) AS prediction#58 could run on GPU\n",
      "          !Expression <ScalaUDF> UDF(UDF(features#0)) cannot run on GPU because neither UDF implemented by class org.apache.spark.ml.clustering.KMeansModel$$Lambda$4038/2042610068 provides a GPU implementation, nor the conf `spark.rapids.sql.rowBasedUDF.enabled` is enabled; param expression ScalaUDF UDF(features#0) (org.apache.spark.ml.linalg.VectorUDT@3bfc3ba7 is not supported)\n",
      "            !Expression <ScalaUDF> UDF(features#0) cannot run on GPU because neither UDF implemented by class org.apache.spark.ml.functions$$$Lambda$3697/1027037449 provides a GPU implementation, nor the conf `spark.rapids.sql.rowBasedUDF.enabled` is enabled; expression ScalaUDF UDF(features#0) produces an unsupported type org.apache.spark.ml.linalg.VectorUDT@3bfc3ba7\n",
      "              @Expression <AttributeReference> features#0 could run on GPU\n",
      "        ! <RDDScanExec> cannot run on GPU because GPU does not currently support the operator class org.apache.spark.sql.execution.RDDScanExec\n",
      "          @Expression <AttributeReference> features#0 could run on GPU\n",
      "\n",
      "23/05/24 14:52:33 WARN GpuOverrides: \n",
      "    !Exec <ProjectExec> cannot run on GPU because not all expressions can be replaced\n",
      "      @Expression <Alias> UDF(UDF(features#0)) AS prediction#58 could run on GPU\n",
      "        !Expression <ScalaUDF> UDF(UDF(features#0)) cannot run on GPU because neither UDF implemented by class org.apache.spark.ml.clustering.KMeansModel$$Lambda$4038/2042610068 provides a GPU implementation, nor the conf `spark.rapids.sql.rowBasedUDF.enabled` is enabled; param expression ScalaUDF UDF(features#0) (org.apache.spark.ml.linalg.VectorUDT@3bfc3ba7 is not supported)\n",
      "          !Expression <ScalaUDF> UDF(features#0) cannot run on GPU because neither UDF implemented by class org.apache.spark.ml.functions$$$Lambda$3697/1027037449 provides a GPU implementation, nor the conf `spark.rapids.sql.rowBasedUDF.enabled` is enabled; expression ScalaUDF UDF(features#0) produces an unsupported type org.apache.spark.ml.linalg.VectorUDT@3bfc3ba7\n",
      "            @Expression <AttributeReference> features#0 could run on GPU\n",
      "      ! <RDDScanExec> cannot run on GPU because GPU does not currently support the operator class org.apache.spark.sql.execution.RDDScanExec\n",
      "        @Expression <AttributeReference> features#0 could run on GPU\n",
      "\n",
      "23/05/24 14:52:33 WARN TaskSetManager: Stage 49 contains a task of very large size (24467 KiB). The maximum recommended task size is 1000 KiB.\n"
     ]
    },
    {
     "name": "stderr",
     "output_type": "stream",
     "text": [
      "[Stage 49:==================================================>       (7 + 1) / 8]\r"
     ]
    },
    {
     "name": "stdout",
     "output_type": "stream",
     "text": [
      "Fit took: 143.9151623249054 sec\n"
     ]
    },
    {
     "name": "stderr",
     "output_type": "stream",
     "text": [
      "                                                                                \r"
     ]
    }
   ],
   "source": [
    "start_time = time.time()\n",
    "cpu_kmeans_model = cpu_kmeans.fit(vector_df)\n",
    "cpu_fit = time.time() - start_time\n",
    "print(f\"Fit took: {cpu_fit} sec\")"
   ]
  },
  {
   "cell_type": "code",
   "execution_count": 25,
   "metadata": {
    "application/vnd.databricks.v1+cell": {
     "cellMetadata": {},
     "inputWidgets": {},
     "nuid": "15b8bc85-f271-473b-8d6d-138813fc79b0",
     "showTitle": false,
     "title": ""
    }
   },
   "outputs": [
    {
     "data": {
      "text/plain": [
       "numpy.ndarray"
      ]
     },
     "execution_count": 25,
     "metadata": {},
     "output_type": "execute_result"
    }
   ],
   "source": [
    "type(cpu_kmeans_model.clusterCenters()[0])"
   ]
  },
  {
   "cell_type": "code",
   "execution_count": 26,
   "metadata": {
    "application/vnd.databricks.v1+cell": {
     "cellMetadata": {},
     "inputWidgets": {},
     "nuid": "7fb9b7ea-15db-4678-8087-40b69c13c7bb",
     "showTitle": false,
     "title": ""
    }
   },
   "outputs": [
    {
     "data": {
      "text/plain": [
       "[[-9.925886767809509,\n",
       "  9.39085782649087,\n",
       "  8.889854954891518,\n",
       "  -5.842879385244651,\n",
       "  -1.2607862297140184,\n",
       "  3.21836230549656,\n",
       "  -9.877833088890451,\n",
       "  -4.180136888730722,\n",
       "  -3.705105688483989,\n",
       "  -3.483956264912105],\n",
       " [-9.852554267680151,\n",
       "  0.16838401963078295,\n",
       "  2.2751893251840416,\n",
       "  -8.421260306115688,\n",
       "  -9.012462378958979,\n",
       "  4.740987099604259,\n",
       "  0.440052602359294,\n",
       "  -1.6977547910321629,\n",
       "  -3.060619864473211,\n",
       "  9.689517942876272]]"
      ]
     },
     "execution_count": 26,
     "metadata": {},
     "output_type": "execute_result"
    }
   ],
   "source": [
    "sorted_cpu_cluster_centers = sorted([vec.tolist() for vec in cpu_kmeans_model.clusterCenters()])\n",
    "[vec[0:10] for vec in sorted_cpu_cluster_centers[0:2]]"
   ]
  },
  {
   "cell_type": "markdown",
   "metadata": {},
   "source": [
    "### Transform"
   ]
  },
  {
   "cell_type": "code",
   "execution_count": 27,
   "metadata": {
    "application/vnd.databricks.v1+cell": {
     "cellMetadata": {},
     "inputWidgets": {},
     "nuid": "ec2a3245-fa44-4b08-b4f0-dc9c16b1528e",
     "showTitle": false,
     "title": ""
    }
   },
   "outputs": [],
   "source": [
    "spark_transformed = cpu_kmeans_model.setPredictionCol(\"transformed\").transform(vector_df)"
   ]
  },
  {
   "cell_type": "code",
   "execution_count": 28,
   "metadata": {
    "application/vnd.databricks.v1+cell": {
     "cellMetadata": {},
     "inputWidgets": {},
     "nuid": "9afcab13-c69c-4a2d-a98f-5a80345d65eb",
     "showTitle": false,
     "title": ""
    }
   },
   "outputs": [
    {
     "name": "stdout",
     "output_type": "stream",
     "text": [
      "23/05/24 14:52:47 WARN GpuOverrides: \n",
      "        !Exec <FilterExec> cannot run on GPU because not all expressions can be replaced\n",
      "          @Expression <GreaterThanOrEqual> (UDF(UDF(features#0)) >= 0) could run on GPU\n",
      "            !Expression <ScalaUDF> UDF(UDF(features#0)) cannot run on GPU because neither UDF implemented by class org.apache.spark.ml.clustering.KMeansModel$$Lambda$4038/2042610068 provides a GPU implementation, nor the conf `spark.rapids.sql.rowBasedUDF.enabled` is enabled; param expression ScalaUDF UDF(features#0) (org.apache.spark.ml.linalg.VectorUDT@3bfc3ba7 is not supported)\n",
      "              !Expression <ScalaUDF> UDF(features#0) cannot run on GPU because neither UDF implemented by class org.apache.spark.ml.functions$$$Lambda$3697/1027037449 provides a GPU implementation, nor the conf `spark.rapids.sql.rowBasedUDF.enabled` is enabled; expression ScalaUDF UDF(features#0) produces an unsupported type org.apache.spark.ml.linalg.VectorUDT@3bfc3ba7\n",
      "                @Expression <AttributeReference> features#0 could run on GPU\n",
      "            @Expression <Literal> 0 could run on GPU\n",
      "          ! <RDDScanExec> cannot run on GPU because GPU does not currently support the operator class org.apache.spark.sql.execution.RDDScanExec\n",
      "            @Expression <AttributeReference> features#0 could run on GPU\n",
      "\n",
      "23/05/24 14:52:47 WARN GpuOverrides: \n",
      "        !Exec <FilterExec> cannot run on GPU because not all expressions can be replaced\n",
      "          @Expression <GreaterThanOrEqual> (UDF(UDF(features#0)) >= 0) could run on GPU\n",
      "            !Expression <ScalaUDF> UDF(UDF(features#0)) cannot run on GPU because neither UDF implemented by class org.apache.spark.ml.clustering.KMeansModel$$Lambda$4038/2042610068 provides a GPU implementation, nor the conf `spark.rapids.sql.rowBasedUDF.enabled` is enabled; param expression ScalaUDF UDF(features#0) (org.apache.spark.ml.linalg.VectorUDT@3bfc3ba7 is not supported)\n",
      "              !Expression <ScalaUDF> UDF(features#0) cannot run on GPU because neither UDF implemented by class org.apache.spark.ml.functions$$$Lambda$3697/1027037449 provides a GPU implementation, nor the conf `spark.rapids.sql.rowBasedUDF.enabled` is enabled; expression ScalaUDF UDF(features#0) produces an unsupported type org.apache.spark.ml.linalg.VectorUDT@3bfc3ba7\n",
      "                @Expression <AttributeReference> features#0 could run on GPU\n",
      "            @Expression <Literal> 0 could run on GPU\n",
      "          ! <RDDScanExec> cannot run on GPU because GPU does not currently support the operator class org.apache.spark.sql.execution.RDDScanExec\n",
      "            @Expression <AttributeReference> features#0 could run on GPU\n",
      "\n",
      "23/05/24 14:52:47 WARN GpuOverrides: \n",
      "        !Exec <FilterExec> cannot run on GPU because not all expressions can be replaced\n",
      "          @Expression <GreaterThanOrEqual> (UDF(UDF(features#0)) >= 0) could run on GPU\n",
      "            !Expression <ScalaUDF> UDF(UDF(features#0)) cannot run on GPU because neither UDF implemented by class org.apache.spark.ml.clustering.KMeansModel$$Lambda$4038/2042610068 provides a GPU implementation, nor the conf `spark.rapids.sql.rowBasedUDF.enabled` is enabled; param expression ScalaUDF UDF(features#0) (org.apache.spark.ml.linalg.VectorUDT@3bfc3ba7 is not supported)\n",
      "              !Expression <ScalaUDF> UDF(features#0) cannot run on GPU because neither UDF implemented by class org.apache.spark.ml.functions$$$Lambda$3697/1027037449 provides a GPU implementation, nor the conf `spark.rapids.sql.rowBasedUDF.enabled` is enabled; expression ScalaUDF UDF(features#0) produces an unsupported type org.apache.spark.ml.linalg.VectorUDT@3bfc3ba7\n",
      "                @Expression <AttributeReference> features#0 could run on GPU\n",
      "            @Expression <Literal> 0 could run on GPU\n",
      "          ! <RDDScanExec> cannot run on GPU because GPU does not currently support the operator class org.apache.spark.sql.execution.RDDScanExec\n",
      "            @Expression <AttributeReference> features#0 could run on GPU\n",
      "\n",
      "23/05/24 14:52:47 WARN GpuOverrides: \n",
      "      !Exec <FilterExec> cannot run on GPU because not all expressions can be replaced\n",
      "        @Expression <GreaterThanOrEqual> (UDF(UDF(features#0)) >= 0) could run on GPU\n",
      "          !Expression <ScalaUDF> UDF(UDF(features#0)) cannot run on GPU because neither UDF implemented by class org.apache.spark.ml.clustering.KMeansModel$$Lambda$4038/2042610068 provides a GPU implementation, nor the conf `spark.rapids.sql.rowBasedUDF.enabled` is enabled; param expression ScalaUDF UDF(features#0) (org.apache.spark.ml.linalg.VectorUDT@3bfc3ba7 is not supported)\n",
      "            !Expression <ScalaUDF> UDF(features#0) cannot run on GPU because neither UDF implemented by class org.apache.spark.ml.functions$$$Lambda$3697/1027037449 provides a GPU implementation, nor the conf `spark.rapids.sql.rowBasedUDF.enabled` is enabled; expression ScalaUDF UDF(features#0) produces an unsupported type org.apache.spark.ml.linalg.VectorUDT@3bfc3ba7\n",
      "              @Expression <AttributeReference> features#0 could run on GPU\n",
      "          @Expression <Literal> 0 could run on GPU\n",
      "        ! <RDDScanExec> cannot run on GPU because GPU does not currently support the operator class org.apache.spark.sql.execution.RDDScanExec\n",
      "          @Expression <AttributeReference> features#0 could run on GPU\n",
      "\n",
      "23/05/24 14:52:47 WARN TaskSetManager: Stage 52 contains a task of very large size (24467 KiB). The maximum recommended task size is 1000 KiB.\n"
     ]
    },
    {
     "name": "stderr",
     "output_type": "stream",
     "text": [
      "                                                                                \r"
     ]
    },
    {
     "data": {
      "text/plain": [
       "100000"
      ]
     },
     "execution_count": 28,
     "metadata": {},
     "output_type": "execute_result"
    }
   ],
   "source": [
    "spark_transformed.filter(spark_transformed.transformed >= 0).count()"
   ]
  },
  {
   "cell_type": "code",
   "execution_count": 29,
   "metadata": {
    "application/vnd.databricks.v1+cell": {
     "cellMetadata": {},
     "inputWidgets": {},
     "nuid": "2c02f6f1-36ac-4a02-995f-6ad68ee38cec",
     "showTitle": false,
     "title": ""
    }
   },
   "outputs": [
    {
     "name": "stdout",
     "output_type": "stream",
     "text": [
      "23/05/24 14:53:00 WARN GpuOverrides: \n",
      "!Exec <CollectLimitExec> cannot run on GPU because the Exec CollectLimitExec has been disabled, and is disabled by default because Collect Limit replacement can be slower on the GPU, if huge number of rows in a batch it could help by limiting the number of rows transferred from GPU to CPU. Set spark.rapids.sql.exec.CollectLimitExec to true if you wish to enable it\n",
      "  @Partitioning <SinglePartition$> could run on GPU\n",
      "  !Exec <ProjectExec> cannot run on GPU because not all expressions can be replaced; unsupported data types in input: org.apache.spark.ml.linalg.VectorUDT@3bfc3ba7 [features#45]\n",
      "    @Expression <Alias> cast(features#45 as string) AS features#113 could run on GPU\n",
      "      !Expression <Cast> cast(features#45 as string) cannot run on GPU because Cast from org.apache.spark.ml.linalg.VectorUDT@3bfc3ba7 to StringType is not supported\n",
      "        !Expression <AttributeReference> features#45 cannot run on GPU because expression AttributeReference features#45 produces an unsupported type org.apache.spark.ml.linalg.VectorUDT@3bfc3ba7\n",
      "    @Expression <Alias> cast(UDF(features#45) as string) AS transformed#114 could run on GPU\n",
      "      @Expression <Cast> cast(UDF(features#45) as string) could run on GPU\n",
      "        !Expression <ScalaUDF> UDF(features#45) cannot run on GPU because param expression AttributeReference features#45 (org.apache.spark.ml.linalg.VectorUDT@3bfc3ba7 is not supported); neither UDF implemented by class org.apache.spark.ml.clustering.KMeansModel$$Lambda$4038/2042610068 provides a GPU implementation, nor the conf `spark.rapids.sql.rowBasedUDF.enabled` is enabled\n",
      "          !Expression <AttributeReference> features#45 cannot run on GPU because expression AttributeReference features#45 produces an unsupported type org.apache.spark.ml.linalg.VectorUDT@3bfc3ba7\n",
      "    !Exec <ProjectExec> cannot run on GPU because unsupported data types in output: org.apache.spark.ml.linalg.VectorUDT@3bfc3ba7 [features#45]; not all expressions can be replaced\n",
      "      !Expression <Alias> UDF(features#0) AS features#45 cannot run on GPU because input expression ScalaUDF UDF(features#0) (org.apache.spark.ml.linalg.VectorUDT@3bfc3ba7 is not supported); expression Alias UDF(features#0) AS features#45 produces an unsupported type org.apache.spark.ml.linalg.VectorUDT@3bfc3ba7\n",
      "        !Expression <ScalaUDF> UDF(features#0) cannot run on GPU because neither UDF implemented by class org.apache.spark.ml.functions$$$Lambda$3697/1027037449 provides a GPU implementation, nor the conf `spark.rapids.sql.rowBasedUDF.enabled` is enabled; expression ScalaUDF UDF(features#0) produces an unsupported type org.apache.spark.ml.linalg.VectorUDT@3bfc3ba7\n",
      "          @Expression <AttributeReference> features#0 could run on GPU\n",
      "      ! <RDDScanExec> cannot run on GPU because GPU does not currently support the operator class org.apache.spark.sql.execution.RDDScanExec\n",
      "        @Expression <AttributeReference> features#0 could run on GPU\n",
      "\n",
      "23/05/24 14:53:01 WARN TaskSetManager: Stage 55 contains a task of very large size (24467 KiB). The maximum recommended task size is 1000 KiB.\n",
      "+--------------------+-----------+\n",
      "|            features|transformed|\n",
      "+--------------------+-----------+\n",
      "|[7.60500764846801...|        167|\n",
      "|[3.42933940887451...|        133|\n",
      "|[-7.0488376617431...|        117|\n",
      "|[4.56557607650756...|        123|\n",
      "|[3.64227962493896...|        143|\n",
      "|[-4.4982471466064...|         19|\n",
      "|[4.66437816619873...|        105|\n",
      "|[-7.5873112678527...|         20|\n",
      "|[8.58247280120849...|         88|\n",
      "|[5.78661394119262...|         27|\n",
      "+--------------------+-----------+\n",
      "only showing top 10 rows\n",
      "\n"
     ]
    }
   ],
   "source": [
    "spark_transformed.show(10)"
   ]
  },
  {
   "cell_type": "markdown",
   "metadata": {},
   "source": [
    "## Pipeline: CPU MinMaxScaler + GPU KMeans"
   ]
  },
  {
   "cell_type": "markdown",
   "metadata": {},
   "source": [
    "Note: cuML has a [MinMaxScaler](https://docs.rapids.ai/api/cuml/nightly/api.html#cuml.preprocessing.MinMaxScaler), but it needs to be exposed as a [Spark ML Transformer](https://spark.apache.org/docs/latest/ml-pipeline.html#transformers) (not sure of potential impact on performance)."
   ]
  },
  {
   "cell_type": "code",
   "execution_count": 30,
   "metadata": {
    "tags": []
   },
   "outputs": [],
   "source": [
    "from pyspark.ml.pipeline import Pipeline\n",
    "from pyspark.ml.feature import MinMaxScaler\n",
    "from pyspark.ml.functions import array_to_vector\n",
    "\n",
    "from spark_rapids_ml.clustering import KMeans"
   ]
  },
  {
   "cell_type": "code",
   "execution_count": 31,
   "metadata": {
    "tags": []
   },
   "outputs": [],
   "source": [
    "scaler = MinMaxScaler(inputCol='features', outputCol='scaled_features')\n",
    "gpu_kmeans = (\n",
    "    KMeans()\n",
    "    .setTol(1.0e-20)\n",
    "    .setK(200)\n",
    "    .setFeaturesCol(\"scaled_features\")\n",
    "    .setPredictionCol(\"transformed\")\n",
    "    .setMaxIter(15)\n",
    ")"
   ]
  },
  {
   "cell_type": "code",
   "execution_count": 32,
   "metadata": {
    "tags": []
   },
   "outputs": [],
   "source": [
    "pipe = Pipeline(stages=[scaler, gpu_kmeans])"
   ]
  },
  {
   "cell_type": "code",
   "execution_count": 33,
   "metadata": {
    "tags": []
   },
   "outputs": [
    {
     "name": "stdout",
     "output_type": "stream",
     "text": [
      "23/05/24 14:53:01 WARN GpuOverrides: \n",
      "!Exec <ProjectExec> cannot run on GPU because unsupported data types in input: StructType(StructField(max,org.apache.spark.ml.linalg.VectorUDT@3bfc3ba7,false),StructField(min,org.apache.spark.ml.linalg.VectorUDT@3bfc3ba7,false)) [summary#121]; unsupported data types in output: org.apache.spark.ml.linalg.VectorUDT@3bfc3ba7 [max#123, min#124]; not all expressions can be replaced\n",
      "  !Expression <Alias> summary#121.max AS max#123 cannot run on GPU because input expression GetStructField summary#121.max (org.apache.spark.ml.linalg.VectorUDT@3bfc3ba7 is not supported); expression Alias summary#121.max AS max#123 produces an unsupported type org.apache.spark.ml.linalg.VectorUDT@3bfc3ba7\n",
      "    !Expression <GetStructField> summary#121.max cannot run on GPU because input expression AttributeReference summary#121 (child org.apache.spark.ml.linalg.VectorUDT@3bfc3ba7 is not supported, child org.apache.spark.ml.linalg.VectorUDT@3bfc3ba7 is not supported); expression GetStructField summary#121.max produces an unsupported type org.apache.spark.ml.linalg.VectorUDT@3bfc3ba7\n",
      "      !Expression <AttributeReference> summary#121 cannot run on GPU because expression AttributeReference summary#121 produces an unsupported type StructType(StructField(max,org.apache.spark.ml.linalg.VectorUDT@3bfc3ba7,false),StructField(min,org.apache.spark.ml.linalg.VectorUDT@3bfc3ba7,false))\n",
      "  !Expression <Alias> summary#121.min AS min#124 cannot run on GPU because input expression GetStructField summary#121.min (org.apache.spark.ml.linalg.VectorUDT@3bfc3ba7 is not supported); expression Alias summary#121.min AS min#124 produces an unsupported type org.apache.spark.ml.linalg.VectorUDT@3bfc3ba7\n",
      "    !Expression <GetStructField> summary#121.min cannot run on GPU because input expression AttributeReference summary#121 (child org.apache.spark.ml.linalg.VectorUDT@3bfc3ba7 is not supported, child org.apache.spark.ml.linalg.VectorUDT@3bfc3ba7 is not supported); expression GetStructField summary#121.min produces an unsupported type org.apache.spark.ml.linalg.VectorUDT@3bfc3ba7\n",
      "      !Expression <AttributeReference> summary#121 cannot run on GPU because expression AttributeReference summary#121 produces an unsupported type StructType(StructField(max,org.apache.spark.ml.linalg.VectorUDT@3bfc3ba7,false),StructField(min,org.apache.spark.ml.linalg.VectorUDT@3bfc3ba7,false))\n",
      "  !Exec <ObjectHashAggregateExec> cannot run on GPU because unsupported data types in output: StructType(StructField(max,org.apache.spark.ml.linalg.VectorUDT@3bfc3ba7,false),StructField(min,org.apache.spark.ml.linalg.VectorUDT@3bfc3ba7,false)) [summary#121]; not all expressions can be replaced\n",
      "    !Expression <AggregateExpression> aggregate_metrics(Max, Min, ComputeMax, ComputeMin, ComputeNNZ, features#45, 1.0, 0, 0) cannot run on GPU because expression AggregateExpression aggregate_metrics(Max, Min, ComputeMax, ComputeMin, ComputeNNZ, features#45, 1.0, 0, 0) produces an unsupported type StructType(StructField(max,org.apache.spark.ml.linalg.VectorUDT@3bfc3ba7,false),StructField(min,org.apache.spark.ml.linalg.VectorUDT@3bfc3ba7,false)); aggFunc expression MetricsAggregate aggregate_metrics(Max, Min, ComputeMax, ComputeMin, ComputeNNZ, features#45, 1.0, 0, 0) (child org.apache.spark.ml.linalg.VectorUDT@3bfc3ba7 is not supported, child org.apache.spark.ml.linalg.VectorUDT@3bfc3ba7 is not supported)\n",
      "      ! <MetricsAggregate> aggregate_metrics(Max, Min, ComputeMax, ComputeMin, ComputeNNZ, features#45, 1.0, 0, 0) cannot run on GPU because GPU does not currently support the operator class org.apache.spark.ml.stat.SummaryBuilderImpl$MetricsAggregate\n",
      "        !Expression <AttributeReference> features#45 cannot run on GPU because expression AttributeReference features#45 produces an unsupported type org.apache.spark.ml.linalg.VectorUDT@3bfc3ba7\n",
      "        @Expression <Literal> 1.0 could run on GPU\n",
      "    !Expression <AttributeReference> aggregate_metrics(Max, Min, ComputeMax, ComputeMin, ComputeNNZ, features#45, 1.0, 0, 0)#120 cannot run on GPU because expression AttributeReference aggregate_metrics(Max, Min, ComputeMax, ComputeMin, ComputeNNZ, features#45, 1.0, 0, 0)#120 produces an unsupported type StructType(StructField(max,org.apache.spark.ml.linalg.VectorUDT@3bfc3ba7,false),StructField(min,org.apache.spark.ml.linalg.VectorUDT@3bfc3ba7,false))\n",
      "    !Expression <Alias> aggregate_metrics(Max, Min, ComputeMax, ComputeMin, ComputeNNZ, features#45, 1.0, 0, 0)#120 AS summary#121 cannot run on GPU because input expression AttributeReference aggregate_metrics(Max, Min, ComputeMax, ComputeMin, ComputeNNZ, features#45, 1.0, 0, 0)#120 (child org.apache.spark.ml.linalg.VectorUDT@3bfc3ba7 is not supported, child org.apache.spark.ml.linalg.VectorUDT@3bfc3ba7 is not supported); expression Alias aggregate_metrics(Max, Min, ComputeMax, ComputeMin, ComputeNNZ, features#45, 1.0, 0, 0)#120 AS summary#121 produces an unsupported type StructType(StructField(max,org.apache.spark.ml.linalg.VectorUDT@3bfc3ba7,false),StructField(min,org.apache.spark.ml.linalg.VectorUDT@3bfc3ba7,false))\n",
      "      !Expression <AttributeReference> aggregate_metrics(Max, Min, ComputeMax, ComputeMin, ComputeNNZ, features#45, 1.0, 0, 0)#120 cannot run on GPU because expression AttributeReference aggregate_metrics(Max, Min, ComputeMax, ComputeMin, ComputeNNZ, features#45, 1.0, 0, 0)#120 produces an unsupported type StructType(StructField(max,org.apache.spark.ml.linalg.VectorUDT@3bfc3ba7,false),StructField(min,org.apache.spark.ml.linalg.VectorUDT@3bfc3ba7,false))\n",
      "    !Exec <ShuffleExchangeExec> cannot run on GPU because Columnar exchange without columnar children is inefficient\n",
      "      @Partitioning <SinglePartition$> could run on GPU\n",
      "      !Exec <ObjectHashAggregateExec> cannot run on GPU because not all expressions can be replaced; unsupported data types in input: org.apache.spark.ml.linalg.VectorUDT@3bfc3ba7 [features#45]\n",
      "        !Expression <AggregateExpression> partial_aggregate_metrics(Max, Min, ComputeMax, ComputeMin, ComputeNNZ, features#45, 1.0, 0, 0) cannot run on GPU because expression AggregateExpression partial_aggregate_metrics(Max, Min, ComputeMax, ComputeMin, ComputeNNZ, features#45, 1.0, 0, 0) produces an unsupported type StructType(StructField(max,org.apache.spark.ml.linalg.VectorUDT@3bfc3ba7,false),StructField(min,org.apache.spark.ml.linalg.VectorUDT@3bfc3ba7,false)); aggFunc expression MetricsAggregate aggregate_metrics(Max, Min, ComputeMax, ComputeMin, ComputeNNZ, features#45, 1.0, 0, 0) (child org.apache.spark.ml.linalg.VectorUDT@3bfc3ba7 is not supported, child org.apache.spark.ml.linalg.VectorUDT@3bfc3ba7 is not supported)\n",
      "          ! <MetricsAggregate> aggregate_metrics(Max, Min, ComputeMax, ComputeMin, ComputeNNZ, features#45, 1.0, 0, 0) cannot run on GPU because GPU does not currently support the operator class org.apache.spark.ml.stat.SummaryBuilderImpl$MetricsAggregate\n",
      "            !Expression <AttributeReference> features#45 cannot run on GPU because expression AttributeReference features#45 produces an unsupported type org.apache.spark.ml.linalg.VectorUDT@3bfc3ba7\n",
      "            @Expression <Literal> 1.0 could run on GPU\n",
      "        @Expression <AttributeReference> buf#127 could run on GPU\n",
      "        @Expression <AttributeReference> buf#128 could run on GPU\n",
      "        !Exec <ProjectExec> cannot run on GPU because unsupported data types in output: org.apache.spark.ml.linalg.VectorUDT@3bfc3ba7 [features#45]; not all expressions can be replaced\n",
      "          !Expression <Alias> UDF(features#0) AS features#45 cannot run on GPU because input expression ScalaUDF UDF(features#0) (org.apache.spark.ml.linalg.VectorUDT@3bfc3ba7 is not supported); expression Alias UDF(features#0) AS features#45 produces an unsupported type org.apache.spark.ml.linalg.VectorUDT@3bfc3ba7\n",
      "            !Expression <ScalaUDF> UDF(features#0) cannot run on GPU because neither UDF implemented by class org.apache.spark.ml.functions$$$Lambda$3697/1027037449 provides a GPU implementation, nor the conf `spark.rapids.sql.rowBasedUDF.enabled` is enabled; expression ScalaUDF UDF(features#0) produces an unsupported type org.apache.spark.ml.linalg.VectorUDT@3bfc3ba7\n",
      "              @Expression <AttributeReference> features#0 could run on GPU\n",
      "          ! <RDDScanExec> cannot run on GPU because GPU does not currently support the operator class org.apache.spark.sql.execution.RDDScanExec\n",
      "            @Expression <AttributeReference> features#0 could run on GPU\n",
      "\n",
      "23/05/24 14:53:01 WARN GpuOverrides: \n",
      "!Exec <ProjectExec> cannot run on GPU because unsupported data types in input: StructType(StructField(max,org.apache.spark.ml.linalg.VectorUDT@3bfc3ba7,false),StructField(min,org.apache.spark.ml.linalg.VectorUDT@3bfc3ba7,false)) [summary#121]; unsupported data types in output: org.apache.spark.ml.linalg.VectorUDT@3bfc3ba7 [max#123, min#124]; not all expressions can be replaced\n",
      "  !Expression <Alias> summary#121.max AS max#123 cannot run on GPU because input expression GetStructField summary#121.max (org.apache.spark.ml.linalg.VectorUDT@3bfc3ba7 is not supported); expression Alias summary#121.max AS max#123 produces an unsupported type org.apache.spark.ml.linalg.VectorUDT@3bfc3ba7\n",
      "    !Expression <GetStructField> summary#121.max cannot run on GPU because input expression AttributeReference summary#121 (child org.apache.spark.ml.linalg.VectorUDT@3bfc3ba7 is not supported, child org.apache.spark.ml.linalg.VectorUDT@3bfc3ba7 is not supported); expression GetStructField summary#121.max produces an unsupported type org.apache.spark.ml.linalg.VectorUDT@3bfc3ba7\n",
      "      !Expression <AttributeReference> summary#121 cannot run on GPU because expression AttributeReference summary#121 produces an unsupported type StructType(StructField(max,org.apache.spark.ml.linalg.VectorUDT@3bfc3ba7,false),StructField(min,org.apache.spark.ml.linalg.VectorUDT@3bfc3ba7,false))\n",
      "  !Expression <Alias> summary#121.min AS min#124 cannot run on GPU because input expression GetStructField summary#121.min (org.apache.spark.ml.linalg.VectorUDT@3bfc3ba7 is not supported); expression Alias summary#121.min AS min#124 produces an unsupported type org.apache.spark.ml.linalg.VectorUDT@3bfc3ba7\n",
      "    !Expression <GetStructField> summary#121.min cannot run on GPU because input expression AttributeReference summary#121 (child org.apache.spark.ml.linalg.VectorUDT@3bfc3ba7 is not supported, child org.apache.spark.ml.linalg.VectorUDT@3bfc3ba7 is not supported); expression GetStructField summary#121.min produces an unsupported type org.apache.spark.ml.linalg.VectorUDT@3bfc3ba7\n",
      "      !Expression <AttributeReference> summary#121 cannot run on GPU because expression AttributeReference summary#121 produces an unsupported type StructType(StructField(max,org.apache.spark.ml.linalg.VectorUDT@3bfc3ba7,false),StructField(min,org.apache.spark.ml.linalg.VectorUDT@3bfc3ba7,false))\n",
      "  !Exec <ObjectHashAggregateExec> cannot run on GPU because unsupported data types in output: StructType(StructField(max,org.apache.spark.ml.linalg.VectorUDT@3bfc3ba7,false),StructField(min,org.apache.spark.ml.linalg.VectorUDT@3bfc3ba7,false)) [summary#121]; not all expressions can be replaced\n",
      "    !Expression <AggregateExpression> aggregate_metrics(Max, Min, ComputeMax, ComputeMin, ComputeNNZ, features#45, 1.0, 0, 0) cannot run on GPU because expression AggregateExpression aggregate_metrics(Max, Min, ComputeMax, ComputeMin, ComputeNNZ, features#45, 1.0, 0, 0) produces an unsupported type StructType(StructField(max,org.apache.spark.ml.linalg.VectorUDT@3bfc3ba7,false),StructField(min,org.apache.spark.ml.linalg.VectorUDT@3bfc3ba7,false)); aggFunc expression MetricsAggregate aggregate_metrics(Max, Min, ComputeMax, ComputeMin, ComputeNNZ, features#45, 1.0, 0, 0) (child org.apache.spark.ml.linalg.VectorUDT@3bfc3ba7 is not supported, child org.apache.spark.ml.linalg.VectorUDT@3bfc3ba7 is not supported)\n",
      "      ! <MetricsAggregate> aggregate_metrics(Max, Min, ComputeMax, ComputeMin, ComputeNNZ, features#45, 1.0, 0, 0) cannot run on GPU because GPU does not currently support the operator class org.apache.spark.ml.stat.SummaryBuilderImpl$MetricsAggregate\n",
      "        !Expression <AttributeReference> features#45 cannot run on GPU because expression AttributeReference features#45 produces an unsupported type org.apache.spark.ml.linalg.VectorUDT@3bfc3ba7\n",
      "        @Expression <Literal> 1.0 could run on GPU\n",
      "    !Expression <AttributeReference> aggregate_metrics(Max, Min, ComputeMax, ComputeMin, ComputeNNZ, features#45, 1.0, 0, 0)#120 cannot run on GPU because expression AttributeReference aggregate_metrics(Max, Min, ComputeMax, ComputeMin, ComputeNNZ, features#45, 1.0, 0, 0)#120 produces an unsupported type StructType(StructField(max,org.apache.spark.ml.linalg.VectorUDT@3bfc3ba7,false),StructField(min,org.apache.spark.ml.linalg.VectorUDT@3bfc3ba7,false))\n",
      "    !Expression <Alias> aggregate_metrics(Max, Min, ComputeMax, ComputeMin, ComputeNNZ, features#45, 1.0, 0, 0)#120 AS summary#121 cannot run on GPU because input expression AttributeReference aggregate_metrics(Max, Min, ComputeMax, ComputeMin, ComputeNNZ, features#45, 1.0, 0, 0)#120 (child org.apache.spark.ml.linalg.VectorUDT@3bfc3ba7 is not supported, child org.apache.spark.ml.linalg.VectorUDT@3bfc3ba7 is not supported); expression Alias aggregate_metrics(Max, Min, ComputeMax, ComputeMin, ComputeNNZ, features#45, 1.0, 0, 0)#120 AS summary#121 produces an unsupported type StructType(StructField(max,org.apache.spark.ml.linalg.VectorUDT@3bfc3ba7,false),StructField(min,org.apache.spark.ml.linalg.VectorUDT@3bfc3ba7,false))\n",
      "      !Expression <AttributeReference> aggregate_metrics(Max, Min, ComputeMax, ComputeMin, ComputeNNZ, features#45, 1.0, 0, 0)#120 cannot run on GPU because expression AttributeReference aggregate_metrics(Max, Min, ComputeMax, ComputeMin, ComputeNNZ, features#45, 1.0, 0, 0)#120 produces an unsupported type StructType(StructField(max,org.apache.spark.ml.linalg.VectorUDT@3bfc3ba7,false),StructField(min,org.apache.spark.ml.linalg.VectorUDT@3bfc3ba7,false))\n",
      "    !Exec <ShuffleExchangeExec> cannot run on GPU because Columnar exchange without columnar children is inefficient\n",
      "      @Partitioning <SinglePartition$> could run on GPU\n",
      "      !Exec <ObjectHashAggregateExec> cannot run on GPU because not all expressions can be replaced; unsupported data types in input: org.apache.spark.ml.linalg.VectorUDT@3bfc3ba7 [features#45]\n",
      "        !Expression <AggregateExpression> partial_aggregate_metrics(Max, Min, ComputeMax, ComputeMin, ComputeNNZ, features#45, 1.0, 0, 0) cannot run on GPU because expression AggregateExpression partial_aggregate_metrics(Max, Min, ComputeMax, ComputeMin, ComputeNNZ, features#45, 1.0, 0, 0) produces an unsupported type StructType(StructField(max,org.apache.spark.ml.linalg.VectorUDT@3bfc3ba7,false),StructField(min,org.apache.spark.ml.linalg.VectorUDT@3bfc3ba7,false)); aggFunc expression MetricsAggregate aggregate_metrics(Max, Min, ComputeMax, ComputeMin, ComputeNNZ, features#45, 1.0, 0, 0) (child org.apache.spark.ml.linalg.VectorUDT@3bfc3ba7 is not supported, child org.apache.spark.ml.linalg.VectorUDT@3bfc3ba7 is not supported)\n",
      "          ! <MetricsAggregate> aggregate_metrics(Max, Min, ComputeMax, ComputeMin, ComputeNNZ, features#45, 1.0, 0, 0) cannot run on GPU because GPU does not currently support the operator class org.apache.spark.ml.stat.SummaryBuilderImpl$MetricsAggregate\n",
      "            !Expression <AttributeReference> features#45 cannot run on GPU because expression AttributeReference features#45 produces an unsupported type org.apache.spark.ml.linalg.VectorUDT@3bfc3ba7\n",
      "            @Expression <Literal> 1.0 could run on GPU\n",
      "        @Expression <AttributeReference> buf#127 could run on GPU\n",
      "        @Expression <AttributeReference> buf#128 could run on GPU\n",
      "        !Exec <ProjectExec> cannot run on GPU because unsupported data types in output: org.apache.spark.ml.linalg.VectorUDT@3bfc3ba7 [features#45]; not all expressions can be replaced\n",
      "          !Expression <Alias> UDF(features#0) AS features#45 cannot run on GPU because input expression ScalaUDF UDF(features#0) (org.apache.spark.ml.linalg.VectorUDT@3bfc3ba7 is not supported); expression Alias UDF(features#0) AS features#45 produces an unsupported type org.apache.spark.ml.linalg.VectorUDT@3bfc3ba7\n",
      "            !Expression <ScalaUDF> UDF(features#0) cannot run on GPU because neither UDF implemented by class org.apache.spark.ml.functions$$$Lambda$3697/1027037449 provides a GPU implementation, nor the conf `spark.rapids.sql.rowBasedUDF.enabled` is enabled; expression ScalaUDF UDF(features#0) produces an unsupported type org.apache.spark.ml.linalg.VectorUDT@3bfc3ba7\n",
      "              @Expression <AttributeReference> features#0 could run on GPU\n",
      "          ! <RDDScanExec> cannot run on GPU because GPU does not currently support the operator class org.apache.spark.sql.execution.RDDScanExec\n",
      "            @Expression <AttributeReference> features#0 could run on GPU\n",
      "\n",
      "23/05/24 14:53:01 WARN GpuOverrides: \n",
      "!Exec <ProjectExec> cannot run on GPU because unsupported data types in input: StructType(StructField(max,org.apache.spark.ml.linalg.VectorUDT@3bfc3ba7,false),StructField(min,org.apache.spark.ml.linalg.VectorUDT@3bfc3ba7,false)) [summary#121]; unsupported data types in output: org.apache.spark.ml.linalg.VectorUDT@3bfc3ba7 [max#123, min#124]; not all expressions can be replaced\n",
      "  !Expression <Alias> summary#121.max AS max#123 cannot run on GPU because input expression GetStructField summary#121.max (org.apache.spark.ml.linalg.VectorUDT@3bfc3ba7 is not supported); expression Alias summary#121.max AS max#123 produces an unsupported type org.apache.spark.ml.linalg.VectorUDT@3bfc3ba7\n",
      "    !Expression <GetStructField> summary#121.max cannot run on GPU because input expression AttributeReference summary#121 (child org.apache.spark.ml.linalg.VectorUDT@3bfc3ba7 is not supported, child org.apache.spark.ml.linalg.VectorUDT@3bfc3ba7 is not supported); expression GetStructField summary#121.max produces an unsupported type org.apache.spark.ml.linalg.VectorUDT@3bfc3ba7\n",
      "      !Expression <AttributeReference> summary#121 cannot run on GPU because expression AttributeReference summary#121 produces an unsupported type StructType(StructField(max,org.apache.spark.ml.linalg.VectorUDT@3bfc3ba7,false),StructField(min,org.apache.spark.ml.linalg.VectorUDT@3bfc3ba7,false))\n",
      "  !Expression <Alias> summary#121.min AS min#124 cannot run on GPU because input expression GetStructField summary#121.min (org.apache.spark.ml.linalg.VectorUDT@3bfc3ba7 is not supported); expression Alias summary#121.min AS min#124 produces an unsupported type org.apache.spark.ml.linalg.VectorUDT@3bfc3ba7\n",
      "    !Expression <GetStructField> summary#121.min cannot run on GPU because input expression AttributeReference summary#121 (child org.apache.spark.ml.linalg.VectorUDT@3bfc3ba7 is not supported, child org.apache.spark.ml.linalg.VectorUDT@3bfc3ba7 is not supported); expression GetStructField summary#121.min produces an unsupported type org.apache.spark.ml.linalg.VectorUDT@3bfc3ba7\n",
      "      !Expression <AttributeReference> summary#121 cannot run on GPU because expression AttributeReference summary#121 produces an unsupported type StructType(StructField(max,org.apache.spark.ml.linalg.VectorUDT@3bfc3ba7,false),StructField(min,org.apache.spark.ml.linalg.VectorUDT@3bfc3ba7,false))\n",
      "  !Exec <ObjectHashAggregateExec> cannot run on GPU because unsupported data types in output: StructType(StructField(max,org.apache.spark.ml.linalg.VectorUDT@3bfc3ba7,false),StructField(min,org.apache.spark.ml.linalg.VectorUDT@3bfc3ba7,false)) [summary#121]; not all expressions can be replaced\n",
      "    !Expression <AggregateExpression> aggregate_metrics(Max, Min, ComputeMax, ComputeMin, ComputeNNZ, features#45, 1.0, 0, 0) cannot run on GPU because expression AggregateExpression aggregate_metrics(Max, Min, ComputeMax, ComputeMin, ComputeNNZ, features#45, 1.0, 0, 0) produces an unsupported type StructType(StructField(max,org.apache.spark.ml.linalg.VectorUDT@3bfc3ba7,false),StructField(min,org.apache.spark.ml.linalg.VectorUDT@3bfc3ba7,false)); aggFunc expression MetricsAggregate aggregate_metrics(Max, Min, ComputeMax, ComputeMin, ComputeNNZ, features#45, 1.0, 0, 0) (child org.apache.spark.ml.linalg.VectorUDT@3bfc3ba7 is not supported, child org.apache.spark.ml.linalg.VectorUDT@3bfc3ba7 is not supported)\n",
      "      ! <MetricsAggregate> aggregate_metrics(Max, Min, ComputeMax, ComputeMin, ComputeNNZ, features#45, 1.0, 0, 0) cannot run on GPU because GPU does not currently support the operator class org.apache.spark.ml.stat.SummaryBuilderImpl$MetricsAggregate\n",
      "        !Expression <AttributeReference> features#45 cannot run on GPU because expression AttributeReference features#45 produces an unsupported type org.apache.spark.ml.linalg.VectorUDT@3bfc3ba7\n",
      "        @Expression <Literal> 1.0 could run on GPU\n",
      "    !Expression <AttributeReference> aggregate_metrics(Max, Min, ComputeMax, ComputeMin, ComputeNNZ, features#45, 1.0, 0, 0)#120 cannot run on GPU because expression AttributeReference aggregate_metrics(Max, Min, ComputeMax, ComputeMin, ComputeNNZ, features#45, 1.0, 0, 0)#120 produces an unsupported type StructType(StructField(max,org.apache.spark.ml.linalg.VectorUDT@3bfc3ba7,false),StructField(min,org.apache.spark.ml.linalg.VectorUDT@3bfc3ba7,false))\n",
      "    !Expression <Alias> aggregate_metrics(Max, Min, ComputeMax, ComputeMin, ComputeNNZ, features#45, 1.0, 0, 0)#120 AS summary#121 cannot run on GPU because input expression AttributeReference aggregate_metrics(Max, Min, ComputeMax, ComputeMin, ComputeNNZ, features#45, 1.0, 0, 0)#120 (child org.apache.spark.ml.linalg.VectorUDT@3bfc3ba7 is not supported, child org.apache.spark.ml.linalg.VectorUDT@3bfc3ba7 is not supported); expression Alias aggregate_metrics(Max, Min, ComputeMax, ComputeMin, ComputeNNZ, features#45, 1.0, 0, 0)#120 AS summary#121 produces an unsupported type StructType(StructField(max,org.apache.spark.ml.linalg.VectorUDT@3bfc3ba7,false),StructField(min,org.apache.spark.ml.linalg.VectorUDT@3bfc3ba7,false))\n",
      "      !Expression <AttributeReference> aggregate_metrics(Max, Min, ComputeMax, ComputeMin, ComputeNNZ, features#45, 1.0, 0, 0)#120 cannot run on GPU because expression AttributeReference aggregate_metrics(Max, Min, ComputeMax, ComputeMin, ComputeNNZ, features#45, 1.0, 0, 0)#120 produces an unsupported type StructType(StructField(max,org.apache.spark.ml.linalg.VectorUDT@3bfc3ba7,false),StructField(min,org.apache.spark.ml.linalg.VectorUDT@3bfc3ba7,false))\n",
      "    !Exec <ShuffleExchangeExec> cannot run on GPU because Columnar exchange without columnar children is inefficient\n",
      "      @Partitioning <SinglePartition$> could run on GPU\n",
      "      !Exec <ObjectHashAggregateExec> cannot run on GPU because not all expressions can be replaced; unsupported data types in input: org.apache.spark.ml.linalg.VectorUDT@3bfc3ba7 [features#45]\n",
      "        !Expression <AggregateExpression> partial_aggregate_metrics(Max, Min, ComputeMax, ComputeMin, ComputeNNZ, features#45, 1.0, 0, 0) cannot run on GPU because expression AggregateExpression partial_aggregate_metrics(Max, Min, ComputeMax, ComputeMin, ComputeNNZ, features#45, 1.0, 0, 0) produces an unsupported type StructType(StructField(max,org.apache.spark.ml.linalg.VectorUDT@3bfc3ba7,false),StructField(min,org.apache.spark.ml.linalg.VectorUDT@3bfc3ba7,false)); aggFunc expression MetricsAggregate aggregate_metrics(Max, Min, ComputeMax, ComputeMin, ComputeNNZ, features#45, 1.0, 0, 0) (child org.apache.spark.ml.linalg.VectorUDT@3bfc3ba7 is not supported, child org.apache.spark.ml.linalg.VectorUDT@3bfc3ba7 is not supported)\n",
      "          ! <MetricsAggregate> aggregate_metrics(Max, Min, ComputeMax, ComputeMin, ComputeNNZ, features#45, 1.0, 0, 0) cannot run on GPU because GPU does not currently support the operator class org.apache.spark.ml.stat.SummaryBuilderImpl$MetricsAggregate\n",
      "            !Expression <AttributeReference> features#45 cannot run on GPU because expression AttributeReference features#45 produces an unsupported type org.apache.spark.ml.linalg.VectorUDT@3bfc3ba7\n",
      "            @Expression <Literal> 1.0 could run on GPU\n",
      "        @Expression <AttributeReference> buf#127 could run on GPU\n",
      "        @Expression <AttributeReference> buf#128 could run on GPU\n",
      "        !Exec <ProjectExec> cannot run on GPU because unsupported data types in output: org.apache.spark.ml.linalg.VectorUDT@3bfc3ba7 [features#45]; not all expressions can be replaced\n",
      "          !Expression <Alias> UDF(features#0) AS features#45 cannot run on GPU because input expression ScalaUDF UDF(features#0) (org.apache.spark.ml.linalg.VectorUDT@3bfc3ba7 is not supported); expression Alias UDF(features#0) AS features#45 produces an unsupported type org.apache.spark.ml.linalg.VectorUDT@3bfc3ba7\n",
      "            !Expression <ScalaUDF> UDF(features#0) cannot run on GPU because neither UDF implemented by class org.apache.spark.ml.functions$$$Lambda$3697/1027037449 provides a GPU implementation, nor the conf `spark.rapids.sql.rowBasedUDF.enabled` is enabled; expression ScalaUDF UDF(features#0) produces an unsupported type org.apache.spark.ml.linalg.VectorUDT@3bfc3ba7\n",
      "              @Expression <AttributeReference> features#0 could run on GPU\n",
      "          ! <RDDScanExec> cannot run on GPU because GPU does not currently support the operator class org.apache.spark.sql.execution.RDDScanExec\n",
      "            @Expression <AttributeReference> features#0 could run on GPU\n",
      "\n",
      "23/05/24 14:53:01 WARN GpuOverrides: \n",
      "!Exec <ShuffleExchangeExec> cannot run on GPU because Columnar exchange without columnar children is inefficient\n",
      "  @Partitioning <SinglePartition$> could run on GPU\n",
      "  !Exec <ObjectHashAggregateExec> cannot run on GPU because not all expressions can be replaced; unsupported data types in input: org.apache.spark.ml.linalg.VectorUDT@3bfc3ba7 [features#45]\n",
      "    !Expression <AggregateExpression> partial_aggregate_metrics(Max, Min, ComputeMax, ComputeMin, ComputeNNZ, features#45, 1.0, 0, 0) cannot run on GPU because expression AggregateExpression partial_aggregate_metrics(Max, Min, ComputeMax, ComputeMin, ComputeNNZ, features#45, 1.0, 0, 0) produces an unsupported type StructType(StructField(max,org.apache.spark.ml.linalg.VectorUDT@3bfc3ba7,false),StructField(min,org.apache.spark.ml.linalg.VectorUDT@3bfc3ba7,false)); aggFunc expression MetricsAggregate aggregate_metrics(Max, Min, ComputeMax, ComputeMin, ComputeNNZ, features#45, 1.0, 0, 0) (child org.apache.spark.ml.linalg.VectorUDT@3bfc3ba7 is not supported, child org.apache.spark.ml.linalg.VectorUDT@3bfc3ba7 is not supported)\n",
      "      ! <MetricsAggregate> aggregate_metrics(Max, Min, ComputeMax, ComputeMin, ComputeNNZ, features#45, 1.0, 0, 0) cannot run on GPU because GPU does not currently support the operator class org.apache.spark.ml.stat.SummaryBuilderImpl$MetricsAggregate\n",
      "        !Expression <AttributeReference> features#45 cannot run on GPU because expression AttributeReference features#45 produces an unsupported type org.apache.spark.ml.linalg.VectorUDT@3bfc3ba7\n",
      "        @Expression <Literal> 1.0 could run on GPU\n",
      "    @Expression <AttributeReference> buf#127 could run on GPU\n",
      "    @Expression <AttributeReference> buf#128 could run on GPU\n",
      "    !Exec <ProjectExec> cannot run on GPU because unsupported data types in output: org.apache.spark.ml.linalg.VectorUDT@3bfc3ba7 [features#45]; not all expressions can be replaced\n",
      "      !Expression <Alias> UDF(features#0) AS features#45 cannot run on GPU because input expression ScalaUDF UDF(features#0) (org.apache.spark.ml.linalg.VectorUDT@3bfc3ba7 is not supported); expression Alias UDF(features#0) AS features#45 produces an unsupported type org.apache.spark.ml.linalg.VectorUDT@3bfc3ba7\n",
      "        !Expression <ScalaUDF> UDF(features#0) cannot run on GPU because neither UDF implemented by class org.apache.spark.ml.functions$$$Lambda$3697/1027037449 provides a GPU implementation, nor the conf `spark.rapids.sql.rowBasedUDF.enabled` is enabled; expression ScalaUDF UDF(features#0) produces an unsupported type org.apache.spark.ml.linalg.VectorUDT@3bfc3ba7\n",
      "          @Expression <AttributeReference> features#0 could run on GPU\n",
      "      ! <RDDScanExec> cannot run on GPU because GPU does not currently support the operator class org.apache.spark.sql.execution.RDDScanExec\n",
      "        @Expression <AttributeReference> features#0 could run on GPU\n",
      "\n",
      "23/05/24 14:53:01 WARN TaskSetManager: Stage 56 contains a task of very large size (24467 KiB). The maximum recommended task size is 1000 KiB.\n"
     ]
    },
    {
     "name": "stderr",
     "output_type": "stream",
     "text": [
      "[Stage 56:==================================================>       (7 + 1) / 8]\r"
     ]
    },
    {
     "name": "stdout",
     "output_type": "stream",
     "text": [
      "23/05/24 14:53:04 WARN GpuOverrides: \n",
      "!Exec <ProjectExec> cannot run on GPU because unsupported data types in input: StructType(StructField(max,org.apache.spark.ml.linalg.VectorUDT@3bfc3ba7,false),StructField(min,org.apache.spark.ml.linalg.VectorUDT@3bfc3ba7,false)) [summary#121]; unsupported data types in output: org.apache.spark.ml.linalg.VectorUDT@3bfc3ba7 [max#123, min#124]; not all expressions can be replaced\n",
      "  !Expression <Alias> summary#121.max AS max#123 cannot run on GPU because input expression GetStructField summary#121.max (org.apache.spark.ml.linalg.VectorUDT@3bfc3ba7 is not supported); expression Alias summary#121.max AS max#123 produces an unsupported type org.apache.spark.ml.linalg.VectorUDT@3bfc3ba7\n",
      "    !Expression <GetStructField> summary#121.max cannot run on GPU because input expression AttributeReference summary#121 (child org.apache.spark.ml.linalg.VectorUDT@3bfc3ba7 is not supported, child org.apache.spark.ml.linalg.VectorUDT@3bfc3ba7 is not supported); expression GetStructField summary#121.max produces an unsupported type org.apache.spark.ml.linalg.VectorUDT@3bfc3ba7\n",
      "      !Expression <AttributeReference> summary#121 cannot run on GPU because expression AttributeReference summary#121 produces an unsupported type StructType(StructField(max,org.apache.spark.ml.linalg.VectorUDT@3bfc3ba7,false),StructField(min,org.apache.spark.ml.linalg.VectorUDT@3bfc3ba7,false))\n",
      "  !Expression <Alias> summary#121.min AS min#124 cannot run on GPU because input expression GetStructField summary#121.min (org.apache.spark.ml.linalg.VectorUDT@3bfc3ba7 is not supported); expression Alias summary#121.min AS min#124 produces an unsupported type org.apache.spark.ml.linalg.VectorUDT@3bfc3ba7\n",
      "    !Expression <GetStructField> summary#121.min cannot run on GPU because input expression AttributeReference summary#121 (child org.apache.spark.ml.linalg.VectorUDT@3bfc3ba7 is not supported, child org.apache.spark.ml.linalg.VectorUDT@3bfc3ba7 is not supported); expression GetStructField summary#121.min produces an unsupported type org.apache.spark.ml.linalg.VectorUDT@3bfc3ba7\n",
      "      !Expression <AttributeReference> summary#121 cannot run on GPU because expression AttributeReference summary#121 produces an unsupported type StructType(StructField(max,org.apache.spark.ml.linalg.VectorUDT@3bfc3ba7,false),StructField(min,org.apache.spark.ml.linalg.VectorUDT@3bfc3ba7,false))\n",
      "  !Exec <ObjectHashAggregateExec> cannot run on GPU because unsupported data types in output: StructType(StructField(max,org.apache.spark.ml.linalg.VectorUDT@3bfc3ba7,false),StructField(min,org.apache.spark.ml.linalg.VectorUDT@3bfc3ba7,false)) [summary#121]; not all expressions can be replaced\n",
      "    !Expression <AggregateExpression> aggregate_metrics(Max, Min, ComputeMax, ComputeMin, ComputeNNZ, features#45, 1.0, 0, 0) cannot run on GPU because expression AggregateExpression aggregate_metrics(Max, Min, ComputeMax, ComputeMin, ComputeNNZ, features#45, 1.0, 0, 0) produces an unsupported type StructType(StructField(max,org.apache.spark.ml.linalg.VectorUDT@3bfc3ba7,false),StructField(min,org.apache.spark.ml.linalg.VectorUDT@3bfc3ba7,false)); aggFunc expression MetricsAggregate aggregate_metrics(Max, Min, ComputeMax, ComputeMin, ComputeNNZ, features#45, 1.0, 0, 0) (child org.apache.spark.ml.linalg.VectorUDT@3bfc3ba7 is not supported, child org.apache.spark.ml.linalg.VectorUDT@3bfc3ba7 is not supported)\n",
      "      ! <MetricsAggregate> aggregate_metrics(Max, Min, ComputeMax, ComputeMin, ComputeNNZ, features#45, 1.0, 0, 0) cannot run on GPU because GPU does not currently support the operator class org.apache.spark.ml.stat.SummaryBuilderImpl$MetricsAggregate\n",
      "        !Expression <AttributeReference> features#45 cannot run on GPU because expression AttributeReference features#45 produces an unsupported type org.apache.spark.ml.linalg.VectorUDT@3bfc3ba7\n",
      "        @Expression <Literal> 1.0 could run on GPU\n",
      "    !Expression <AttributeReference> aggregate_metrics(Max, Min, ComputeMax, ComputeMin, ComputeNNZ, features#45, 1.0, 0, 0)#120 cannot run on GPU because expression AttributeReference aggregate_metrics(Max, Min, ComputeMax, ComputeMin, ComputeNNZ, features#45, 1.0, 0, 0)#120 produces an unsupported type StructType(StructField(max,org.apache.spark.ml.linalg.VectorUDT@3bfc3ba7,false),StructField(min,org.apache.spark.ml.linalg.VectorUDT@3bfc3ba7,false))\n",
      "    !Expression <Alias> aggregate_metrics(Max, Min, ComputeMax, ComputeMin, ComputeNNZ, features#45, 1.0, 0, 0)#120 AS summary#121 cannot run on GPU because input expression AttributeReference aggregate_metrics(Max, Min, ComputeMax, ComputeMin, ComputeNNZ, features#45, 1.0, 0, 0)#120 (child org.apache.spark.ml.linalg.VectorUDT@3bfc3ba7 is not supported, child org.apache.spark.ml.linalg.VectorUDT@3bfc3ba7 is not supported); expression Alias aggregate_metrics(Max, Min, ComputeMax, ComputeMin, ComputeNNZ, features#45, 1.0, 0, 0)#120 AS summary#121 produces an unsupported type StructType(StructField(max,org.apache.spark.ml.linalg.VectorUDT@3bfc3ba7,false),StructField(min,org.apache.spark.ml.linalg.VectorUDT@3bfc3ba7,false))\n",
      "      !Expression <AttributeReference> aggregate_metrics(Max, Min, ComputeMax, ComputeMin, ComputeNNZ, features#45, 1.0, 0, 0)#120 cannot run on GPU because expression AttributeReference aggregate_metrics(Max, Min, ComputeMax, ComputeMin, ComputeNNZ, features#45, 1.0, 0, 0)#120 produces an unsupported type StructType(StructField(max,org.apache.spark.ml.linalg.VectorUDT@3bfc3ba7,false),StructField(min,org.apache.spark.ml.linalg.VectorUDT@3bfc3ba7,false))\n",
      "\n",
      "23/05/24 14:53:04 WARN GpuOverrides: \n",
      "!Exec <ProjectExec> cannot run on GPU because unsupported data types in input: StructType(StructField(max,org.apache.spark.ml.linalg.VectorUDT@3bfc3ba7,false),StructField(min,org.apache.spark.ml.linalg.VectorUDT@3bfc3ba7,false)) [summary#121]; unsupported data types in output: org.apache.spark.ml.linalg.VectorUDT@3bfc3ba7 [max#123, min#124]; not all expressions can be replaced\n",
      "  !Expression <Alias> summary#121.max AS max#123 cannot run on GPU because input expression GetStructField summary#121.max (org.apache.spark.ml.linalg.VectorUDT@3bfc3ba7 is not supported); expression Alias summary#121.max AS max#123 produces an unsupported type org.apache.spark.ml.linalg.VectorUDT@3bfc3ba7\n",
      "    !Expression <GetStructField> summary#121.max cannot run on GPU because input expression AttributeReference summary#121 (child org.apache.spark.ml.linalg.VectorUDT@3bfc3ba7 is not supported, child org.apache.spark.ml.linalg.VectorUDT@3bfc3ba7 is not supported); expression GetStructField summary#121.max produces an unsupported type org.apache.spark.ml.linalg.VectorUDT@3bfc3ba7\n",
      "      !Expression <AttributeReference> summary#121 cannot run on GPU because expression AttributeReference summary#121 produces an unsupported type StructType(StructField(max,org.apache.spark.ml.linalg.VectorUDT@3bfc3ba7,false),StructField(min,org.apache.spark.ml.linalg.VectorUDT@3bfc3ba7,false))\n",
      "  !Expression <Alias> summary#121.min AS min#124 cannot run on GPU because input expression GetStructField summary#121.min (org.apache.spark.ml.linalg.VectorUDT@3bfc3ba7 is not supported); expression Alias summary#121.min AS min#124 produces an unsupported type org.apache.spark.ml.linalg.VectorUDT@3bfc3ba7\n",
      "    !Expression <GetStructField> summary#121.min cannot run on GPU because input expression AttributeReference summary#121 (child org.apache.spark.ml.linalg.VectorUDT@3bfc3ba7 is not supported, child org.apache.spark.ml.linalg.VectorUDT@3bfc3ba7 is not supported); expression GetStructField summary#121.min produces an unsupported type org.apache.spark.ml.linalg.VectorUDT@3bfc3ba7\n",
      "      !Expression <AttributeReference> summary#121 cannot run on GPU because expression AttributeReference summary#121 produces an unsupported type StructType(StructField(max,org.apache.spark.ml.linalg.VectorUDT@3bfc3ba7,false),StructField(min,org.apache.spark.ml.linalg.VectorUDT@3bfc3ba7,false))\n",
      "  !Exec <ObjectHashAggregateExec> cannot run on GPU because unsupported data types in output: StructType(StructField(max,org.apache.spark.ml.linalg.VectorUDT@3bfc3ba7,false),StructField(min,org.apache.spark.ml.linalg.VectorUDT@3bfc3ba7,false)) [summary#121]; not all expressions can be replaced\n",
      "    !Expression <AggregateExpression> aggregate_metrics(Max, Min, ComputeMax, ComputeMin, ComputeNNZ, features#45, 1.0, 0, 0) cannot run on GPU because expression AggregateExpression aggregate_metrics(Max, Min, ComputeMax, ComputeMin, ComputeNNZ, features#45, 1.0, 0, 0) produces an unsupported type StructType(StructField(max,org.apache.spark.ml.linalg.VectorUDT@3bfc3ba7,false),StructField(min,org.apache.spark.ml.linalg.VectorUDT@3bfc3ba7,false)); aggFunc expression MetricsAggregate aggregate_metrics(Max, Min, ComputeMax, ComputeMin, ComputeNNZ, features#45, 1.0, 0, 0) (child org.apache.spark.ml.linalg.VectorUDT@3bfc3ba7 is not supported, child org.apache.spark.ml.linalg.VectorUDT@3bfc3ba7 is not supported)\n",
      "      ! <MetricsAggregate> aggregate_metrics(Max, Min, ComputeMax, ComputeMin, ComputeNNZ, features#45, 1.0, 0, 0) cannot run on GPU because GPU does not currently support the operator class org.apache.spark.ml.stat.SummaryBuilderImpl$MetricsAggregate\n",
      "        !Expression <AttributeReference> features#45 cannot run on GPU because expression AttributeReference features#45 produces an unsupported type org.apache.spark.ml.linalg.VectorUDT@3bfc3ba7\n",
      "        @Expression <Literal> 1.0 could run on GPU\n",
      "    !Expression <AttributeReference> aggregate_metrics(Max, Min, ComputeMax, ComputeMin, ComputeNNZ, features#45, 1.0, 0, 0)#120 cannot run on GPU because expression AttributeReference aggregate_metrics(Max, Min, ComputeMax, ComputeMin, ComputeNNZ, features#45, 1.0, 0, 0)#120 produces an unsupported type StructType(StructField(max,org.apache.spark.ml.linalg.VectorUDT@3bfc3ba7,false),StructField(min,org.apache.spark.ml.linalg.VectorUDT@3bfc3ba7,false))\n",
      "    !Expression <Alias> aggregate_metrics(Max, Min, ComputeMax, ComputeMin, ComputeNNZ, features#45, 1.0, 0, 0)#120 AS summary#121 cannot run on GPU because input expression AttributeReference aggregate_metrics(Max, Min, ComputeMax, ComputeMin, ComputeNNZ, features#45, 1.0, 0, 0)#120 (child org.apache.spark.ml.linalg.VectorUDT@3bfc3ba7 is not supported, child org.apache.spark.ml.linalg.VectorUDT@3bfc3ba7 is not supported); expression Alias aggregate_metrics(Max, Min, ComputeMax, ComputeMin, ComputeNNZ, features#45, 1.0, 0, 0)#120 AS summary#121 produces an unsupported type StructType(StructField(max,org.apache.spark.ml.linalg.VectorUDT@3bfc3ba7,false),StructField(min,org.apache.spark.ml.linalg.VectorUDT@3bfc3ba7,false))\n",
      "      !Expression <AttributeReference> aggregate_metrics(Max, Min, ComputeMax, ComputeMin, ComputeNNZ, features#45, 1.0, 0, 0)#120 cannot run on GPU because expression AttributeReference aggregate_metrics(Max, Min, ComputeMax, ComputeMin, ComputeNNZ, features#45, 1.0, 0, 0)#120 produces an unsupported type StructType(StructField(max,org.apache.spark.ml.linalg.VectorUDT@3bfc3ba7,false),StructField(min,org.apache.spark.ml.linalg.VectorUDT@3bfc3ba7,false))\n",
      "\n",
      "23/05/24 14:53:04 WARN GpuOverrides: \n",
      "!Exec <CollectLimitExec> cannot run on GPU because unsupported data types in input: org.apache.spark.ml.linalg.VectorUDT@3bfc3ba7 [features#45, scaled_features#137]; unsupported data types in output: org.apache.spark.ml.linalg.VectorUDT@3bfc3ba7 [features#45, scaled_features#137]; the Exec CollectLimitExec has been disabled, and is disabled by default because Collect Limit replacement can be slower on the GPU, if huge number of rows in a batch it could help by limiting the number of rows transferred from GPU to CPU. Set spark.rapids.sql.exec.CollectLimitExec to true if you wish to enable it\n",
      "  @Partitioning <SinglePartition$> could run on GPU\n",
      "  !Exec <ProjectExec> cannot run on GPU because not all expressions can be replaced; unsupported data types in output: org.apache.spark.ml.linalg.VectorUDT@3bfc3ba7 [features#45, scaled_features#137]; unsupported data types in input: org.apache.spark.ml.linalg.VectorUDT@3bfc3ba7 [features#45]\n",
      "    !Expression <AttributeReference> features#45 cannot run on GPU because expression AttributeReference features#45 produces an unsupported type org.apache.spark.ml.linalg.VectorUDT@3bfc3ba7\n",
      "    !Expression <Alias> UDF(features#45) AS scaled_features#137 cannot run on GPU because input expression ScalaUDF UDF(features#45) (org.apache.spark.ml.linalg.VectorUDT@3bfc3ba7 is not supported); expression Alias UDF(features#45) AS scaled_features#137 produces an unsupported type org.apache.spark.ml.linalg.VectorUDT@3bfc3ba7\n",
      "      !Expression <ScalaUDF> UDF(features#45) cannot run on GPU because param expression AttributeReference features#45 (org.apache.spark.ml.linalg.VectorUDT@3bfc3ba7 is not supported); neither UDF implemented by class org.apache.spark.ml.feature.MinMaxScalerModel$$Lambda$4233/1510773388 provides a GPU implementation, nor the conf `spark.rapids.sql.rowBasedUDF.enabled` is enabled; expression ScalaUDF UDF(features#45) produces an unsupported type org.apache.spark.ml.linalg.VectorUDT@3bfc3ba7\n",
      "        !Expression <AttributeReference> features#45 cannot run on GPU because expression AttributeReference features#45 produces an unsupported type org.apache.spark.ml.linalg.VectorUDT@3bfc3ba7\n",
      "    !Exec <ProjectExec> cannot run on GPU because unsupported data types in output: org.apache.spark.ml.linalg.VectorUDT@3bfc3ba7 [features#45]; not all expressions can be replaced\n",
      "      !Expression <Alias> UDF(features#0) AS features#45 cannot run on GPU because input expression ScalaUDF UDF(features#0) (org.apache.spark.ml.linalg.VectorUDT@3bfc3ba7 is not supported); expression Alias UDF(features#0) AS features#45 produces an unsupported type org.apache.spark.ml.linalg.VectorUDT@3bfc3ba7\n",
      "        !Expression <ScalaUDF> UDF(features#0) cannot run on GPU because neither UDF implemented by class org.apache.spark.ml.functions$$$Lambda$3697/1027037449 provides a GPU implementation, nor the conf `spark.rapids.sql.rowBasedUDF.enabled` is enabled; expression ScalaUDF UDF(features#0) produces an unsupported type org.apache.spark.ml.linalg.VectorUDT@3bfc3ba7\n",
      "          @Expression <AttributeReference> features#0 could run on GPU\n",
      "      ! <RDDScanExec> cannot run on GPU because GPU does not currently support the operator class org.apache.spark.sql.execution.RDDScanExec\n",
      "        @Expression <AttributeReference> features#0 could run on GPU\n",
      "\n"
     ]
    },
    {
     "name": "stderr",
     "output_type": "stream",
     "text": [
      "                                                                                \r"
     ]
    },
    {
     "name": "stdout",
     "output_type": "stream",
     "text": [
      "23/05/24 14:53:04 WARN TaskSetManager: Stage 59 contains a task of very large size (24467 KiB). The maximum recommended task size is 1000 KiB.\n",
      "23/05/24 14:53:04 WARN GpuOverrides: \n",
      "!Exec <ProjectExec> cannot run on GPU because not all expressions can be replaced\n",
      "  @Expression <Alias> UDF(UDF(UDF(features#0))) AS cuml_values#143 could run on GPU\n",
      "    !Expression <ScalaUDF> UDF(UDF(UDF(features#0))) cannot run on GPU because neither UDF implemented by class org.apache.spark.ml.functions$$$Lambda$3658/1023321880 provides a GPU implementation, nor the conf `spark.rapids.sql.rowBasedUDF.enabled` is enabled; param expression ScalaUDF UDF(UDF(features#0)) (org.apache.spark.ml.linalg.VectorUDT@3bfc3ba7 is not supported)\n",
      "      !Expression <ScalaUDF> UDF(UDF(features#0)) cannot run on GPU because neither UDF implemented by class org.apache.spark.ml.feature.MinMaxScalerModel$$Lambda$4233/1510773388 provides a GPU implementation, nor the conf `spark.rapids.sql.rowBasedUDF.enabled` is enabled; expression ScalaUDF UDF(UDF(features#0)) produces an unsupported type org.apache.spark.ml.linalg.VectorUDT@3bfc3ba7; param expression ScalaUDF UDF(features#0) (org.apache.spark.ml.linalg.VectorUDT@3bfc3ba7 is not supported)\n",
      "        !Expression <ScalaUDF> UDF(features#0) cannot run on GPU because neither UDF implemented by class org.apache.spark.ml.functions$$$Lambda$3697/1027037449 provides a GPU implementation, nor the conf `spark.rapids.sql.rowBasedUDF.enabled` is enabled; expression ScalaUDF UDF(features#0) produces an unsupported type org.apache.spark.ml.linalg.VectorUDT@3bfc3ba7\n",
      "          @Expression <AttributeReference> features#0 could run on GPU\n",
      "  ! <RDDScanExec> cannot run on GPU because GPU does not currently support the operator class org.apache.spark.sql.execution.RDDScanExec\n",
      "    @Expression <AttributeReference> features#0 could run on GPU\n",
      "\n",
      "23/05/24 14:53:04 WARN GpuOverrides: \n",
      "  !Exec <ShuffleExchangeExec> cannot run on GPU because Columnar exchange without columnar children is inefficient\n",
      "    @Partitioning <SinglePartition$> could run on GPU\n",
      "    !Exec <ProjectExec> cannot run on GPU because not all expressions can be replaced\n",
      "      @Expression <Alias> UDF(UDF(UDF(features#0))) AS cuml_values#143 could run on GPU\n",
      "        !Expression <ScalaUDF> UDF(UDF(UDF(features#0))) cannot run on GPU because neither UDF implemented by class org.apache.spark.ml.functions$$$Lambda$3658/1023321880 provides a GPU implementation, nor the conf `spark.rapids.sql.rowBasedUDF.enabled` is enabled; param expression ScalaUDF UDF(UDF(features#0)) (org.apache.spark.ml.linalg.VectorUDT@3bfc3ba7 is not supported)\n",
      "          !Expression <ScalaUDF> UDF(UDF(features#0)) cannot run on GPU because neither UDF implemented by class org.apache.spark.ml.feature.MinMaxScalerModel$$Lambda$4233/1510773388 provides a GPU implementation, nor the conf `spark.rapids.sql.rowBasedUDF.enabled` is enabled; expression ScalaUDF UDF(UDF(features#0)) produces an unsupported type org.apache.spark.ml.linalg.VectorUDT@3bfc3ba7; param expression ScalaUDF UDF(features#0) (org.apache.spark.ml.linalg.VectorUDT@3bfc3ba7 is not supported)\n",
      "            !Expression <ScalaUDF> UDF(features#0) cannot run on GPU because neither UDF implemented by class org.apache.spark.ml.functions$$$Lambda$3697/1027037449 provides a GPU implementation, nor the conf `spark.rapids.sql.rowBasedUDF.enabled` is enabled; expression ScalaUDF UDF(features#0) produces an unsupported type org.apache.spark.ml.linalg.VectorUDT@3bfc3ba7\n",
      "              @Expression <AttributeReference> features#0 could run on GPU\n",
      "      ! <RDDScanExec> cannot run on GPU because GPU does not currently support the operator class org.apache.spark.sql.execution.RDDScanExec\n",
      "        @Expression <AttributeReference> features#0 could run on GPU\n",
      "\n",
      "23/05/24 14:53:04 WARN GpuOverrides: \n",
      "  !Exec <ShuffleExchangeExec> cannot run on GPU because Columnar exchange without columnar children is inefficient\n",
      "    @Partitioning <SinglePartition$> could run on GPU\n",
      "    !Exec <ProjectExec> cannot run on GPU because not all expressions can be replaced\n",
      "      @Expression <Alias> UDF(UDF(UDF(features#0))) AS cuml_values#143 could run on GPU\n",
      "        !Expression <ScalaUDF> UDF(UDF(UDF(features#0))) cannot run on GPU because neither UDF implemented by class org.apache.spark.ml.functions$$$Lambda$3658/1023321880 provides a GPU implementation, nor the conf `spark.rapids.sql.rowBasedUDF.enabled` is enabled; param expression ScalaUDF UDF(UDF(features#0)) (org.apache.spark.ml.linalg.VectorUDT@3bfc3ba7 is not supported)\n",
      "          !Expression <ScalaUDF> UDF(UDF(features#0)) cannot run on GPU because neither UDF implemented by class org.apache.spark.ml.feature.MinMaxScalerModel$$Lambda$4233/1510773388 provides a GPU implementation, nor the conf `spark.rapids.sql.rowBasedUDF.enabled` is enabled; expression ScalaUDF UDF(UDF(features#0)) produces an unsupported type org.apache.spark.ml.linalg.VectorUDT@3bfc3ba7; param expression ScalaUDF UDF(features#0) (org.apache.spark.ml.linalg.VectorUDT@3bfc3ba7 is not supported)\n",
      "            !Expression <ScalaUDF> UDF(features#0) cannot run on GPU because neither UDF implemented by class org.apache.spark.ml.functions$$$Lambda$3697/1027037449 provides a GPU implementation, nor the conf `spark.rapids.sql.rowBasedUDF.enabled` is enabled; expression ScalaUDF UDF(features#0) produces an unsupported type org.apache.spark.ml.linalg.VectorUDT@3bfc3ba7\n",
      "              @Expression <AttributeReference> features#0 could run on GPU\n",
      "      ! <RDDScanExec> cannot run on GPU because GPU does not currently support the operator class org.apache.spark.sql.execution.RDDScanExec\n",
      "        @Expression <AttributeReference> features#0 could run on GPU\n",
      "\n",
      "23/05/24 14:53:04 WARN GpuOverrides: \n",
      "  !Exec <ShuffleExchangeExec> cannot run on GPU because Columnar exchange without columnar children is inefficient\n",
      "    @Partitioning <SinglePartition$> could run on GPU\n",
      "    !Exec <ProjectExec> cannot run on GPU because not all expressions can be replaced\n",
      "      @Expression <Alias> UDF(UDF(UDF(features#0))) AS cuml_values#143 could run on GPU\n",
      "        !Expression <ScalaUDF> UDF(UDF(UDF(features#0))) cannot run on GPU because neither UDF implemented by class org.apache.spark.ml.functions$$$Lambda$3658/1023321880 provides a GPU implementation, nor the conf `spark.rapids.sql.rowBasedUDF.enabled` is enabled; param expression ScalaUDF UDF(UDF(features#0)) (org.apache.spark.ml.linalg.VectorUDT@3bfc3ba7 is not supported)\n",
      "          !Expression <ScalaUDF> UDF(UDF(features#0)) cannot run on GPU because neither UDF implemented by class org.apache.spark.ml.feature.MinMaxScalerModel$$Lambda$4233/1510773388 provides a GPU implementation, nor the conf `spark.rapids.sql.rowBasedUDF.enabled` is enabled; expression ScalaUDF UDF(UDF(features#0)) produces an unsupported type org.apache.spark.ml.linalg.VectorUDT@3bfc3ba7; param expression ScalaUDF UDF(features#0) (org.apache.spark.ml.linalg.VectorUDT@3bfc3ba7 is not supported)\n",
      "            !Expression <ScalaUDF> UDF(features#0) cannot run on GPU because neither UDF implemented by class org.apache.spark.ml.functions$$$Lambda$3697/1027037449 provides a GPU implementation, nor the conf `spark.rapids.sql.rowBasedUDF.enabled` is enabled; expression ScalaUDF UDF(features#0) produces an unsupported type org.apache.spark.ml.linalg.VectorUDT@3bfc3ba7\n",
      "              @Expression <AttributeReference> features#0 could run on GPU\n",
      "      ! <RDDScanExec> cannot run on GPU because GPU does not currently support the operator class org.apache.spark.sql.execution.RDDScanExec\n",
      "        @Expression <AttributeReference> features#0 could run on GPU\n",
      "\n",
      "23/05/24 14:53:04 WARN GpuOverrides: \n",
      "!Exec <ShuffleExchangeExec> cannot run on GPU because Columnar exchange without columnar children is inefficient\n",
      "  @Partitioning <SinglePartition$> could run on GPU\n",
      "  !Exec <ProjectExec> cannot run on GPU because not all expressions can be replaced\n",
      "    @Expression <Alias> UDF(UDF(UDF(features#0))) AS cuml_values#143 could run on GPU\n",
      "      !Expression <ScalaUDF> UDF(UDF(UDF(features#0))) cannot run on GPU because neither UDF implemented by class org.apache.spark.ml.functions$$$Lambda$3658/1023321880 provides a GPU implementation, nor the conf `spark.rapids.sql.rowBasedUDF.enabled` is enabled; param expression ScalaUDF UDF(UDF(features#0)) (org.apache.spark.ml.linalg.VectorUDT@3bfc3ba7 is not supported)\n",
      "        !Expression <ScalaUDF> UDF(UDF(features#0)) cannot run on GPU because neither UDF implemented by class org.apache.spark.ml.feature.MinMaxScalerModel$$Lambda$4233/1510773388 provides a GPU implementation, nor the conf `spark.rapids.sql.rowBasedUDF.enabled` is enabled; expression ScalaUDF UDF(UDF(features#0)) produces an unsupported type org.apache.spark.ml.linalg.VectorUDT@3bfc3ba7; param expression ScalaUDF UDF(features#0) (org.apache.spark.ml.linalg.VectorUDT@3bfc3ba7 is not supported)\n",
      "          !Expression <ScalaUDF> UDF(features#0) cannot run on GPU because neither UDF implemented by class org.apache.spark.ml.functions$$$Lambda$3697/1027037449 provides a GPU implementation, nor the conf `spark.rapids.sql.rowBasedUDF.enabled` is enabled; expression ScalaUDF UDF(features#0) produces an unsupported type org.apache.spark.ml.linalg.VectorUDT@3bfc3ba7\n",
      "            @Expression <AttributeReference> features#0 could run on GPU\n",
      "    ! <RDDScanExec> cannot run on GPU because GPU does not currently support the operator class org.apache.spark.sql.execution.RDDScanExec\n",
      "      @Expression <AttributeReference> features#0 could run on GPU\n",
      "\n",
      "23/05/24 14:53:04 WARN TaskSetManager: Stage 60 contains a task of very large size (24467 KiB). The maximum recommended task size is 1000 KiB.\n"
     ]
    },
    {
     "name": "stderr",
     "output_type": "stream",
     "text": [
      "[Stage 62:>                                                         (0 + 1) / 1]\r"
     ]
    },
    {
     "name": "stdout",
     "output_type": "stream",
     "text": [
      "Fit took: 18.478280305862427 sec\n"
     ]
    },
    {
     "name": "stderr",
     "output_type": "stream",
     "text": [
      "                                                                                \r"
     ]
    }
   ],
   "source": [
    "start_time = time.time()\n",
    "pipe_model = pipe.fit(vector_df)\n",
    "cpu_gpu_pipe = time.time() - start_time\n",
    "print(f\"Fit took: {cpu_gpu_pipe} sec\")"
   ]
  },
  {
   "cell_type": "code",
   "execution_count": 34,
   "metadata": {
    "tags": []
   },
   "outputs": [
    {
     "name": "stdout",
     "output_type": "stream",
     "text": [
      "23/05/24 14:53:19 WARN GpuOverrides: \n",
      "!Exec <CollectLimitExec> cannot run on GPU because the Exec CollectLimitExec has been disabled, and is disabled by default because Collect Limit replacement can be slower on the GPU, if huge number of rows in a batch it could help by limiting the number of rows transferred from GPU to CPU. Set spark.rapids.sql.exec.CollectLimitExec to true if you wish to enable it\n",
      "  @Partitioning <SinglePartition$> could run on GPU\n",
      "  !Exec <ProjectExec> cannot run on GPU because not all expressions can be replaced; unsupported data types in input: org.apache.spark.ml.linalg.VectorUDT@3bfc3ba7 [features#45]\n",
      "    @Expression <Alias> cast(features#45 as string) AS features#178 could run on GPU\n",
      "      !Expression <Cast> cast(features#45 as string) cannot run on GPU because Cast from org.apache.spark.ml.linalg.VectorUDT@3bfc3ba7 to StringType is not supported\n",
      "        !Expression <AttributeReference> features#45 cannot run on GPU because expression AttributeReference features#45 produces an unsupported type org.apache.spark.ml.linalg.VectorUDT@3bfc3ba7\n",
      "    @Expression <Alias> cast(scaled_features#164 as string) AS scaled_features#179 could run on GPU\n",
      "      @Expression <Cast> cast(scaled_features#164 as string) could run on GPU\n",
      "        @Expression <AttributeReference> scaled_features#164 could run on GPU\n",
      "    @Expression <Alias> cast(pythonUDF0#184 as string) AS transformed#180 could run on GPU\n",
      "      @Expression <Cast> cast(pythonUDF0#184 as string) could run on GPU\n",
      "        @Expression <AttributeReference> pythonUDF0#184 could run on GPU\n",
      "    !Exec <ArrowEvalPythonExec> cannot run even partially on the GPU because unsupported data types in output: org.apache.spark.ml.linalg.VectorUDT@3bfc3ba7 [features#45]; unsupported data types in input: org.apache.spark.ml.linalg.VectorUDT@3bfc3ba7 [features#45]\n",
      "      @Expression <PythonUDF> predict_udf(struct(scaled_features, scaled_features#164))#170 could not block GPU acceleration\n",
      "        @Expression <CreateNamedStruct> struct(scaled_features, scaled_features#164) could run on GPU\n",
      "          @Expression <Literal> scaled_features could run on GPU\n",
      "          @Expression <AttributeReference> scaled_features#164 could run on GPU\n",
      "      @Expression <AttributeReference> pythonUDF0#184 could run on GPU\n",
      "      !Exec <ProjectExec> cannot run on GPU because unsupported data types in output: org.apache.spark.ml.linalg.VectorUDT@3bfc3ba7 [features#45]; not all expressions can be replaced; unsupported data types in input: org.apache.spark.ml.linalg.VectorUDT@3bfc3ba7 [features#45]\n",
      "        !Expression <AttributeReference> features#45 cannot run on GPU because expression AttributeReference features#45 produces an unsupported type org.apache.spark.ml.linalg.VectorUDT@3bfc3ba7\n",
      "        @Expression <Alias> UDF(UDF(features#45)) AS scaled_features#164 could run on GPU\n",
      "          !Expression <ScalaUDF> UDF(UDF(features#45)) cannot run on GPU because neither UDF implemented by class org.apache.spark.ml.functions$$$Lambda$3658/1023321880 provides a GPU implementation, nor the conf `spark.rapids.sql.rowBasedUDF.enabled` is enabled; param expression ScalaUDF UDF(features#45) (org.apache.spark.ml.linalg.VectorUDT@3bfc3ba7 is not supported)\n",
      "            !Expression <ScalaUDF> UDF(features#45) cannot run on GPU because param expression AttributeReference features#45 (org.apache.spark.ml.linalg.VectorUDT@3bfc3ba7 is not supported); neither UDF implemented by class org.apache.spark.ml.feature.MinMaxScalerModel$$Lambda$4233/1510773388 provides a GPU implementation, nor the conf `spark.rapids.sql.rowBasedUDF.enabled` is enabled; expression ScalaUDF UDF(features#45) produces an unsupported type org.apache.spark.ml.linalg.VectorUDT@3bfc3ba7\n",
      "              !Expression <AttributeReference> features#45 cannot run on GPU because expression AttributeReference features#45 produces an unsupported type org.apache.spark.ml.linalg.VectorUDT@3bfc3ba7\n",
      "        !Exec <ProjectExec> cannot run on GPU because unsupported data types in output: org.apache.spark.ml.linalg.VectorUDT@3bfc3ba7 [features#45]; not all expressions can be replaced\n",
      "          !Expression <Alias> UDF(features#0) AS features#45 cannot run on GPU because input expression ScalaUDF UDF(features#0) (org.apache.spark.ml.linalg.VectorUDT@3bfc3ba7 is not supported); expression Alias UDF(features#0) AS features#45 produces an unsupported type org.apache.spark.ml.linalg.VectorUDT@3bfc3ba7\n",
      "            !Expression <ScalaUDF> UDF(features#0) cannot run on GPU because neither UDF implemented by class org.apache.spark.ml.functions$$$Lambda$3697/1027037449 provides a GPU implementation, nor the conf `spark.rapids.sql.rowBasedUDF.enabled` is enabled; expression ScalaUDF UDF(features#0) produces an unsupported type org.apache.spark.ml.linalg.VectorUDT@3bfc3ba7\n",
      "              @Expression <AttributeReference> features#0 could run on GPU\n",
      "          ! <RDDScanExec> cannot run on GPU because GPU does not currently support the operator class org.apache.spark.sql.execution.RDDScanExec\n",
      "            @Expression <AttributeReference> features#0 could run on GPU\n",
      "\n",
      "23/05/24 14:53:19 WARN TaskSetManager: Stage 63 contains a task of very large size (24467 KiB). The maximum recommended task size is 1000 KiB.\n"
     ]
    },
    {
     "name": "stderr",
     "output_type": "stream",
     "text": [
      "[Stage 63:>                                                         (0 + 1) / 1]\r"
     ]
    },
    {
     "name": "stdout",
     "output_type": "stream",
     "text": [
      "+--------------------+--------------------+-----------+\n",
      "|            features|     scaled_features|transformed|\n",
      "+--------------------+--------------------+-----------+\n",
      "|[7.60500764846801...|[0.78957140222302...|        194|\n",
      "|[3.42933940887451...|[0.63245732071398...|         80|\n",
      "|[-7.0488376617431...|[0.23820445581219...|         63|\n",
      "|[4.56557607650756...|[0.67520946723735...|          6|\n",
      "|[3.64227962493896...|[0.64046942908650...|        198|\n",
      "|[-4.4982471466064...|[0.33417321173289...|         61|\n",
      "|[4.66437816619873...|[0.67892700385240...|        132|\n",
      "|[-7.5873112678527...|[0.21794379783209...|         83|\n",
      "|[8.58247280120849...|[0.82634959696171...|         97|\n",
      "|[5.78661394119262...|[0.72115235148728...|        169|\n",
      "+--------------------+--------------------+-----------+\n",
      "only showing top 10 rows\n",
      "\n"
     ]
    },
    {
     "name": "stderr",
     "output_type": "stream",
     "text": [
      "                                                                                \r"
     ]
    }
   ],
   "source": [
    "pipe_transformed = pipe_model.transform(vector_df)\n",
    "pipe_transformed.show(10)"
   ]
  },
  {
   "cell_type": "markdown",
   "metadata": {},
   "source": [
    "## Pipeline: CPU MinMaxScaler + CPU KMeans"
   ]
  },
  {
   "cell_type": "code",
   "execution_count": 35,
   "metadata": {
    "tags": []
   },
   "outputs": [],
   "source": [
    "from pyspark.ml.pipeline import Pipeline\n",
    "from pyspark.ml.feature import MinMaxScaler\n",
    "from pyspark.ml.functions import array_to_vector\n",
    "\n",
    "from pyspark.ml.clustering import KMeans"
   ]
  },
  {
   "cell_type": "code",
   "execution_count": 36,
   "metadata": {
    "tags": []
   },
   "outputs": [],
   "source": [
    "scaler = MinMaxScaler(inputCol='features', outputCol='scaled_features')\n",
    "cpu_kmeans = (\n",
    "    KMeans()\n",
    "    .setTol(1.0e-20)\n",
    "    .setK(200)\n",
    "    .setFeaturesCol(\"scaled_features\")\n",
    "    .setPredictionCol(\"transformed\")\n",
    "    .setMaxIter(15)\n",
    ")"
   ]
  },
  {
   "cell_type": "code",
   "execution_count": 37,
   "metadata": {
    "tags": []
   },
   "outputs": [],
   "source": [
    "pipe = Pipeline(stages=[scaler, cpu_kmeans])"
   ]
  },
  {
   "cell_type": "code",
   "execution_count": 38,
   "metadata": {
    "tags": []
   },
   "outputs": [
    {
     "name": "stdout",
     "output_type": "stream",
     "text": [
      "23/05/24 14:53:24 WARN GpuOverrides: \n",
      "!Exec <ProjectExec> cannot run on GPU because not all expressions can be replaced; unsupported data types in input: StructType(StructField(max,org.apache.spark.ml.linalg.VectorUDT@3bfc3ba7,false),StructField(min,org.apache.spark.ml.linalg.VectorUDT@3bfc3ba7,false)) [summary#190]; unsupported data types in output: org.apache.spark.ml.linalg.VectorUDT@3bfc3ba7 [max#192, min#193]\n",
      "  !Expression <Alias> summary#190.max AS max#192 cannot run on GPU because expression Alias summary#190.max AS max#192 produces an unsupported type org.apache.spark.ml.linalg.VectorUDT@3bfc3ba7; input expression GetStructField summary#190.max (org.apache.spark.ml.linalg.VectorUDT@3bfc3ba7 is not supported)\n",
      "    !Expression <GetStructField> summary#190.max cannot run on GPU because expression GetStructField summary#190.max produces an unsupported type org.apache.spark.ml.linalg.VectorUDT@3bfc3ba7; input expression AttributeReference summary#190 (child org.apache.spark.ml.linalg.VectorUDT@3bfc3ba7 is not supported, child org.apache.spark.ml.linalg.VectorUDT@3bfc3ba7 is not supported)\n",
      "      !Expression <AttributeReference> summary#190 cannot run on GPU because expression AttributeReference summary#190 produces an unsupported type StructType(StructField(max,org.apache.spark.ml.linalg.VectorUDT@3bfc3ba7,false),StructField(min,org.apache.spark.ml.linalg.VectorUDT@3bfc3ba7,false))\n",
      "  !Expression <Alias> summary#190.min AS min#193 cannot run on GPU because expression Alias summary#190.min AS min#193 produces an unsupported type org.apache.spark.ml.linalg.VectorUDT@3bfc3ba7; input expression GetStructField summary#190.min (org.apache.spark.ml.linalg.VectorUDT@3bfc3ba7 is not supported)\n",
      "    !Expression <GetStructField> summary#190.min cannot run on GPU because expression GetStructField summary#190.min produces an unsupported type org.apache.spark.ml.linalg.VectorUDT@3bfc3ba7; input expression AttributeReference summary#190 (child org.apache.spark.ml.linalg.VectorUDT@3bfc3ba7 is not supported, child org.apache.spark.ml.linalg.VectorUDT@3bfc3ba7 is not supported)\n",
      "      !Expression <AttributeReference> summary#190 cannot run on GPU because expression AttributeReference summary#190 produces an unsupported type StructType(StructField(max,org.apache.spark.ml.linalg.VectorUDT@3bfc3ba7,false),StructField(min,org.apache.spark.ml.linalg.VectorUDT@3bfc3ba7,false))\n",
      "  !Exec <ObjectHashAggregateExec> cannot run on GPU because not all expressions can be replaced; unsupported data types in output: StructType(StructField(max,org.apache.spark.ml.linalg.VectorUDT@3bfc3ba7,false),StructField(min,org.apache.spark.ml.linalg.VectorUDT@3bfc3ba7,false)) [summary#190]\n",
      "    !Expression <AggregateExpression> aggregate_metrics(Max, Min, ComputeMax, ComputeMin, ComputeNNZ, features#45, 1.0, 0, 0) cannot run on GPU because expression AggregateExpression aggregate_metrics(Max, Min, ComputeMax, ComputeMin, ComputeNNZ, features#45, 1.0, 0, 0) produces an unsupported type StructType(StructField(max,org.apache.spark.ml.linalg.VectorUDT@3bfc3ba7,false),StructField(min,org.apache.spark.ml.linalg.VectorUDT@3bfc3ba7,false)); aggFunc expression MetricsAggregate aggregate_metrics(Max, Min, ComputeMax, ComputeMin, ComputeNNZ, features#45, 1.0, 0, 0) (child org.apache.spark.ml.linalg.VectorUDT@3bfc3ba7 is not supported, child org.apache.spark.ml.linalg.VectorUDT@3bfc3ba7 is not supported)\n",
      "      ! <MetricsAggregate> aggregate_metrics(Max, Min, ComputeMax, ComputeMin, ComputeNNZ, features#45, 1.0, 0, 0) cannot run on GPU because GPU does not currently support the operator class org.apache.spark.ml.stat.SummaryBuilderImpl$MetricsAggregate\n",
      "        !Expression <AttributeReference> features#45 cannot run on GPU because expression AttributeReference features#45 produces an unsupported type org.apache.spark.ml.linalg.VectorUDT@3bfc3ba7\n",
      "        @Expression <Literal> 1.0 could run on GPU\n",
      "    !Expression <AttributeReference> aggregate_metrics(Max, Min, ComputeMax, ComputeMin, ComputeNNZ, features#45, 1.0, 0, 0)#189 cannot run on GPU because expression AttributeReference aggregate_metrics(Max, Min, ComputeMax, ComputeMin, ComputeNNZ, features#45, 1.0, 0, 0)#189 produces an unsupported type StructType(StructField(max,org.apache.spark.ml.linalg.VectorUDT@3bfc3ba7,false),StructField(min,org.apache.spark.ml.linalg.VectorUDT@3bfc3ba7,false))\n",
      "    !Expression <Alias> aggregate_metrics(Max, Min, ComputeMax, ComputeMin, ComputeNNZ, features#45, 1.0, 0, 0)#189 AS summary#190 cannot run on GPU because input expression AttributeReference aggregate_metrics(Max, Min, ComputeMax, ComputeMin, ComputeNNZ, features#45, 1.0, 0, 0)#189 (child org.apache.spark.ml.linalg.VectorUDT@3bfc3ba7 is not supported, child org.apache.spark.ml.linalg.VectorUDT@3bfc3ba7 is not supported); expression Alias aggregate_metrics(Max, Min, ComputeMax, ComputeMin, ComputeNNZ, features#45, 1.0, 0, 0)#189 AS summary#190 produces an unsupported type StructType(StructField(max,org.apache.spark.ml.linalg.VectorUDT@3bfc3ba7,false),StructField(min,org.apache.spark.ml.linalg.VectorUDT@3bfc3ba7,false))\n",
      "      !Expression <AttributeReference> aggregate_metrics(Max, Min, ComputeMax, ComputeMin, ComputeNNZ, features#45, 1.0, 0, 0)#189 cannot run on GPU because expression AttributeReference aggregate_metrics(Max, Min, ComputeMax, ComputeMin, ComputeNNZ, features#45, 1.0, 0, 0)#189 produces an unsupported type StructType(StructField(max,org.apache.spark.ml.linalg.VectorUDT@3bfc3ba7,false),StructField(min,org.apache.spark.ml.linalg.VectorUDT@3bfc3ba7,false))\n",
      "    !Exec <ShuffleExchangeExec> cannot run on GPU because Columnar exchange without columnar children is inefficient\n",
      "      @Partitioning <SinglePartition$> could run on GPU\n",
      "      !Exec <ObjectHashAggregateExec> cannot run on GPU because not all expressions can be replaced; unsupported data types in input: org.apache.spark.ml.linalg.VectorUDT@3bfc3ba7 [features#45]\n",
      "        !Expression <AggregateExpression> partial_aggregate_metrics(Max, Min, ComputeMax, ComputeMin, ComputeNNZ, features#45, 1.0, 0, 0) cannot run on GPU because expression AggregateExpression partial_aggregate_metrics(Max, Min, ComputeMax, ComputeMin, ComputeNNZ, features#45, 1.0, 0, 0) produces an unsupported type StructType(StructField(max,org.apache.spark.ml.linalg.VectorUDT@3bfc3ba7,false),StructField(min,org.apache.spark.ml.linalg.VectorUDT@3bfc3ba7,false)); aggFunc expression MetricsAggregate aggregate_metrics(Max, Min, ComputeMax, ComputeMin, ComputeNNZ, features#45, 1.0, 0, 0) (child org.apache.spark.ml.linalg.VectorUDT@3bfc3ba7 is not supported, child org.apache.spark.ml.linalg.VectorUDT@3bfc3ba7 is not supported)\n",
      "          ! <MetricsAggregate> aggregate_metrics(Max, Min, ComputeMax, ComputeMin, ComputeNNZ, features#45, 1.0, 0, 0) cannot run on GPU because GPU does not currently support the operator class org.apache.spark.ml.stat.SummaryBuilderImpl$MetricsAggregate\n",
      "            !Expression <AttributeReference> features#45 cannot run on GPU because expression AttributeReference features#45 produces an unsupported type org.apache.spark.ml.linalg.VectorUDT@3bfc3ba7\n",
      "            @Expression <Literal> 1.0 could run on GPU\n",
      "        @Expression <AttributeReference> buf#196 could run on GPU\n",
      "        @Expression <AttributeReference> buf#197 could run on GPU\n",
      "        !Exec <ProjectExec> cannot run on GPU because unsupported data types in output: org.apache.spark.ml.linalg.VectorUDT@3bfc3ba7 [features#45]; not all expressions can be replaced\n",
      "          !Expression <Alias> UDF(features#0) AS features#45 cannot run on GPU because input expression ScalaUDF UDF(features#0) (org.apache.spark.ml.linalg.VectorUDT@3bfc3ba7 is not supported); expression Alias UDF(features#0) AS features#45 produces an unsupported type org.apache.spark.ml.linalg.VectorUDT@3bfc3ba7\n",
      "            !Expression <ScalaUDF> UDF(features#0) cannot run on GPU because neither UDF implemented by class org.apache.spark.ml.functions$$$Lambda$3697/1027037449 provides a GPU implementation, nor the conf `spark.rapids.sql.rowBasedUDF.enabled` is enabled; expression ScalaUDF UDF(features#0) produces an unsupported type org.apache.spark.ml.linalg.VectorUDT@3bfc3ba7\n",
      "              @Expression <AttributeReference> features#0 could run on GPU\n",
      "          ! <RDDScanExec> cannot run on GPU because GPU does not currently support the operator class org.apache.spark.sql.execution.RDDScanExec\n",
      "            @Expression <AttributeReference> features#0 could run on GPU\n",
      "\n",
      "23/05/24 14:53:24 WARN GpuOverrides: \n",
      "!Exec <ProjectExec> cannot run on GPU because not all expressions can be replaced; unsupported data types in input: StructType(StructField(max,org.apache.spark.ml.linalg.VectorUDT@3bfc3ba7,false),StructField(min,org.apache.spark.ml.linalg.VectorUDT@3bfc3ba7,false)) [summary#190]; unsupported data types in output: org.apache.spark.ml.linalg.VectorUDT@3bfc3ba7 [max#192, min#193]\n",
      "  !Expression <Alias> summary#190.max AS max#192 cannot run on GPU because expression Alias summary#190.max AS max#192 produces an unsupported type org.apache.spark.ml.linalg.VectorUDT@3bfc3ba7; input expression GetStructField summary#190.max (org.apache.spark.ml.linalg.VectorUDT@3bfc3ba7 is not supported)\n",
      "    !Expression <GetStructField> summary#190.max cannot run on GPU because expression GetStructField summary#190.max produces an unsupported type org.apache.spark.ml.linalg.VectorUDT@3bfc3ba7; input expression AttributeReference summary#190 (child org.apache.spark.ml.linalg.VectorUDT@3bfc3ba7 is not supported, child org.apache.spark.ml.linalg.VectorUDT@3bfc3ba7 is not supported)\n",
      "      !Expression <AttributeReference> summary#190 cannot run on GPU because expression AttributeReference summary#190 produces an unsupported type StructType(StructField(max,org.apache.spark.ml.linalg.VectorUDT@3bfc3ba7,false),StructField(min,org.apache.spark.ml.linalg.VectorUDT@3bfc3ba7,false))\n",
      "  !Expression <Alias> summary#190.min AS min#193 cannot run on GPU because expression Alias summary#190.min AS min#193 produces an unsupported type org.apache.spark.ml.linalg.VectorUDT@3bfc3ba7; input expression GetStructField summary#190.min (org.apache.spark.ml.linalg.VectorUDT@3bfc3ba7 is not supported)\n",
      "    !Expression <GetStructField> summary#190.min cannot run on GPU because expression GetStructField summary#190.min produces an unsupported type org.apache.spark.ml.linalg.VectorUDT@3bfc3ba7; input expression AttributeReference summary#190 (child org.apache.spark.ml.linalg.VectorUDT@3bfc3ba7 is not supported, child org.apache.spark.ml.linalg.VectorUDT@3bfc3ba7 is not supported)\n",
      "      !Expression <AttributeReference> summary#190 cannot run on GPU because expression AttributeReference summary#190 produces an unsupported type StructType(StructField(max,org.apache.spark.ml.linalg.VectorUDT@3bfc3ba7,false),StructField(min,org.apache.spark.ml.linalg.VectorUDT@3bfc3ba7,false))\n",
      "  !Exec <ObjectHashAggregateExec> cannot run on GPU because not all expressions can be replaced; unsupported data types in output: StructType(StructField(max,org.apache.spark.ml.linalg.VectorUDT@3bfc3ba7,false),StructField(min,org.apache.spark.ml.linalg.VectorUDT@3bfc3ba7,false)) [summary#190]\n",
      "    !Expression <AggregateExpression> aggregate_metrics(Max, Min, ComputeMax, ComputeMin, ComputeNNZ, features#45, 1.0, 0, 0) cannot run on GPU because expression AggregateExpression aggregate_metrics(Max, Min, ComputeMax, ComputeMin, ComputeNNZ, features#45, 1.0, 0, 0) produces an unsupported type StructType(StructField(max,org.apache.spark.ml.linalg.VectorUDT@3bfc3ba7,false),StructField(min,org.apache.spark.ml.linalg.VectorUDT@3bfc3ba7,false)); aggFunc expression MetricsAggregate aggregate_metrics(Max, Min, ComputeMax, ComputeMin, ComputeNNZ, features#45, 1.0, 0, 0) (child org.apache.spark.ml.linalg.VectorUDT@3bfc3ba7 is not supported, child org.apache.spark.ml.linalg.VectorUDT@3bfc3ba7 is not supported)\n",
      "      ! <MetricsAggregate> aggregate_metrics(Max, Min, ComputeMax, ComputeMin, ComputeNNZ, features#45, 1.0, 0, 0) cannot run on GPU because GPU does not currently support the operator class org.apache.spark.ml.stat.SummaryBuilderImpl$MetricsAggregate\n",
      "        !Expression <AttributeReference> features#45 cannot run on GPU because expression AttributeReference features#45 produces an unsupported type org.apache.spark.ml.linalg.VectorUDT@3bfc3ba7\n",
      "        @Expression <Literal> 1.0 could run on GPU\n",
      "    !Expression <AttributeReference> aggregate_metrics(Max, Min, ComputeMax, ComputeMin, ComputeNNZ, features#45, 1.0, 0, 0)#189 cannot run on GPU because expression AttributeReference aggregate_metrics(Max, Min, ComputeMax, ComputeMin, ComputeNNZ, features#45, 1.0, 0, 0)#189 produces an unsupported type StructType(StructField(max,org.apache.spark.ml.linalg.VectorUDT@3bfc3ba7,false),StructField(min,org.apache.spark.ml.linalg.VectorUDT@3bfc3ba7,false))\n",
      "    !Expression <Alias> aggregate_metrics(Max, Min, ComputeMax, ComputeMin, ComputeNNZ, features#45, 1.0, 0, 0)#189 AS summary#190 cannot run on GPU because input expression AttributeReference aggregate_metrics(Max, Min, ComputeMax, ComputeMin, ComputeNNZ, features#45, 1.0, 0, 0)#189 (child org.apache.spark.ml.linalg.VectorUDT@3bfc3ba7 is not supported, child org.apache.spark.ml.linalg.VectorUDT@3bfc3ba7 is not supported); expression Alias aggregate_metrics(Max, Min, ComputeMax, ComputeMin, ComputeNNZ, features#45, 1.0, 0, 0)#189 AS summary#190 produces an unsupported type StructType(StructField(max,org.apache.spark.ml.linalg.VectorUDT@3bfc3ba7,false),StructField(min,org.apache.spark.ml.linalg.VectorUDT@3bfc3ba7,false))\n",
      "      !Expression <AttributeReference> aggregate_metrics(Max, Min, ComputeMax, ComputeMin, ComputeNNZ, features#45, 1.0, 0, 0)#189 cannot run on GPU because expression AttributeReference aggregate_metrics(Max, Min, ComputeMax, ComputeMin, ComputeNNZ, features#45, 1.0, 0, 0)#189 produces an unsupported type StructType(StructField(max,org.apache.spark.ml.linalg.VectorUDT@3bfc3ba7,false),StructField(min,org.apache.spark.ml.linalg.VectorUDT@3bfc3ba7,false))\n",
      "    !Exec <ShuffleExchangeExec> cannot run on GPU because Columnar exchange without columnar children is inefficient\n",
      "      @Partitioning <SinglePartition$> could run on GPU\n",
      "      !Exec <ObjectHashAggregateExec> cannot run on GPU because not all expressions can be replaced; unsupported data types in input: org.apache.spark.ml.linalg.VectorUDT@3bfc3ba7 [features#45]\n",
      "        !Expression <AggregateExpression> partial_aggregate_metrics(Max, Min, ComputeMax, ComputeMin, ComputeNNZ, features#45, 1.0, 0, 0) cannot run on GPU because expression AggregateExpression partial_aggregate_metrics(Max, Min, ComputeMax, ComputeMin, ComputeNNZ, features#45, 1.0, 0, 0) produces an unsupported type StructType(StructField(max,org.apache.spark.ml.linalg.VectorUDT@3bfc3ba7,false),StructField(min,org.apache.spark.ml.linalg.VectorUDT@3bfc3ba7,false)); aggFunc expression MetricsAggregate aggregate_metrics(Max, Min, ComputeMax, ComputeMin, ComputeNNZ, features#45, 1.0, 0, 0) (child org.apache.spark.ml.linalg.VectorUDT@3bfc3ba7 is not supported, child org.apache.spark.ml.linalg.VectorUDT@3bfc3ba7 is not supported)\n",
      "          ! <MetricsAggregate> aggregate_metrics(Max, Min, ComputeMax, ComputeMin, ComputeNNZ, features#45, 1.0, 0, 0) cannot run on GPU because GPU does not currently support the operator class org.apache.spark.ml.stat.SummaryBuilderImpl$MetricsAggregate\n",
      "            !Expression <AttributeReference> features#45 cannot run on GPU because expression AttributeReference features#45 produces an unsupported type org.apache.spark.ml.linalg.VectorUDT@3bfc3ba7\n",
      "            @Expression <Literal> 1.0 could run on GPU\n",
      "        @Expression <AttributeReference> buf#196 could run on GPU\n",
      "        @Expression <AttributeReference> buf#197 could run on GPU\n",
      "        !Exec <ProjectExec> cannot run on GPU because unsupported data types in output: org.apache.spark.ml.linalg.VectorUDT@3bfc3ba7 [features#45]; not all expressions can be replaced\n",
      "          !Expression <Alias> UDF(features#0) AS features#45 cannot run on GPU because input expression ScalaUDF UDF(features#0) (org.apache.spark.ml.linalg.VectorUDT@3bfc3ba7 is not supported); expression Alias UDF(features#0) AS features#45 produces an unsupported type org.apache.spark.ml.linalg.VectorUDT@3bfc3ba7\n",
      "            !Expression <ScalaUDF> UDF(features#0) cannot run on GPU because neither UDF implemented by class org.apache.spark.ml.functions$$$Lambda$3697/1027037449 provides a GPU implementation, nor the conf `spark.rapids.sql.rowBasedUDF.enabled` is enabled; expression ScalaUDF UDF(features#0) produces an unsupported type org.apache.spark.ml.linalg.VectorUDT@3bfc3ba7\n",
      "              @Expression <AttributeReference> features#0 could run on GPU\n",
      "          ! <RDDScanExec> cannot run on GPU because GPU does not currently support the operator class org.apache.spark.sql.execution.RDDScanExec\n",
      "            @Expression <AttributeReference> features#0 could run on GPU\n",
      "\n",
      "23/05/24 14:53:24 WARN GpuOverrides: \n",
      "!Exec <ProjectExec> cannot run on GPU because not all expressions can be replaced; unsupported data types in input: StructType(StructField(max,org.apache.spark.ml.linalg.VectorUDT@3bfc3ba7,false),StructField(min,org.apache.spark.ml.linalg.VectorUDT@3bfc3ba7,false)) [summary#190]; unsupported data types in output: org.apache.spark.ml.linalg.VectorUDT@3bfc3ba7 [max#192, min#193]\n",
      "  !Expression <Alias> summary#190.max AS max#192 cannot run on GPU because expression Alias summary#190.max AS max#192 produces an unsupported type org.apache.spark.ml.linalg.VectorUDT@3bfc3ba7; input expression GetStructField summary#190.max (org.apache.spark.ml.linalg.VectorUDT@3bfc3ba7 is not supported)\n",
      "    !Expression <GetStructField> summary#190.max cannot run on GPU because expression GetStructField summary#190.max produces an unsupported type org.apache.spark.ml.linalg.VectorUDT@3bfc3ba7; input expression AttributeReference summary#190 (child org.apache.spark.ml.linalg.VectorUDT@3bfc3ba7 is not supported, child org.apache.spark.ml.linalg.VectorUDT@3bfc3ba7 is not supported)\n",
      "      !Expression <AttributeReference> summary#190 cannot run on GPU because expression AttributeReference summary#190 produces an unsupported type StructType(StructField(max,org.apache.spark.ml.linalg.VectorUDT@3bfc3ba7,false),StructField(min,org.apache.spark.ml.linalg.VectorUDT@3bfc3ba7,false))\n",
      "  !Expression <Alias> summary#190.min AS min#193 cannot run on GPU because expression Alias summary#190.min AS min#193 produces an unsupported type org.apache.spark.ml.linalg.VectorUDT@3bfc3ba7; input expression GetStructField summary#190.min (org.apache.spark.ml.linalg.VectorUDT@3bfc3ba7 is not supported)\n",
      "    !Expression <GetStructField> summary#190.min cannot run on GPU because expression GetStructField summary#190.min produces an unsupported type org.apache.spark.ml.linalg.VectorUDT@3bfc3ba7; input expression AttributeReference summary#190 (child org.apache.spark.ml.linalg.VectorUDT@3bfc3ba7 is not supported, child org.apache.spark.ml.linalg.VectorUDT@3bfc3ba7 is not supported)\n",
      "      !Expression <AttributeReference> summary#190 cannot run on GPU because expression AttributeReference summary#190 produces an unsupported type StructType(StructField(max,org.apache.spark.ml.linalg.VectorUDT@3bfc3ba7,false),StructField(min,org.apache.spark.ml.linalg.VectorUDT@3bfc3ba7,false))\n",
      "  !Exec <ObjectHashAggregateExec> cannot run on GPU because not all expressions can be replaced; unsupported data types in output: StructType(StructField(max,org.apache.spark.ml.linalg.VectorUDT@3bfc3ba7,false),StructField(min,org.apache.spark.ml.linalg.VectorUDT@3bfc3ba7,false)) [summary#190]\n",
      "    !Expression <AggregateExpression> aggregate_metrics(Max, Min, ComputeMax, ComputeMin, ComputeNNZ, features#45, 1.0, 0, 0) cannot run on GPU because expression AggregateExpression aggregate_metrics(Max, Min, ComputeMax, ComputeMin, ComputeNNZ, features#45, 1.0, 0, 0) produces an unsupported type StructType(StructField(max,org.apache.spark.ml.linalg.VectorUDT@3bfc3ba7,false),StructField(min,org.apache.spark.ml.linalg.VectorUDT@3bfc3ba7,false)); aggFunc expression MetricsAggregate aggregate_metrics(Max, Min, ComputeMax, ComputeMin, ComputeNNZ, features#45, 1.0, 0, 0) (child org.apache.spark.ml.linalg.VectorUDT@3bfc3ba7 is not supported, child org.apache.spark.ml.linalg.VectorUDT@3bfc3ba7 is not supported)\n",
      "      ! <MetricsAggregate> aggregate_metrics(Max, Min, ComputeMax, ComputeMin, ComputeNNZ, features#45, 1.0, 0, 0) cannot run on GPU because GPU does not currently support the operator class org.apache.spark.ml.stat.SummaryBuilderImpl$MetricsAggregate\n",
      "        !Expression <AttributeReference> features#45 cannot run on GPU because expression AttributeReference features#45 produces an unsupported type org.apache.spark.ml.linalg.VectorUDT@3bfc3ba7\n",
      "        @Expression <Literal> 1.0 could run on GPU\n",
      "    !Expression <AttributeReference> aggregate_metrics(Max, Min, ComputeMax, ComputeMin, ComputeNNZ, features#45, 1.0, 0, 0)#189 cannot run on GPU because expression AttributeReference aggregate_metrics(Max, Min, ComputeMax, ComputeMin, ComputeNNZ, features#45, 1.0, 0, 0)#189 produces an unsupported type StructType(StructField(max,org.apache.spark.ml.linalg.VectorUDT@3bfc3ba7,false),StructField(min,org.apache.spark.ml.linalg.VectorUDT@3bfc3ba7,false))\n",
      "    !Expression <Alias> aggregate_metrics(Max, Min, ComputeMax, ComputeMin, ComputeNNZ, features#45, 1.0, 0, 0)#189 AS summary#190 cannot run on GPU because input expression AttributeReference aggregate_metrics(Max, Min, ComputeMax, ComputeMin, ComputeNNZ, features#45, 1.0, 0, 0)#189 (child org.apache.spark.ml.linalg.VectorUDT@3bfc3ba7 is not supported, child org.apache.spark.ml.linalg.VectorUDT@3bfc3ba7 is not supported); expression Alias aggregate_metrics(Max, Min, ComputeMax, ComputeMin, ComputeNNZ, features#45, 1.0, 0, 0)#189 AS summary#190 produces an unsupported type StructType(StructField(max,org.apache.spark.ml.linalg.VectorUDT@3bfc3ba7,false),StructField(min,org.apache.spark.ml.linalg.VectorUDT@3bfc3ba7,false))\n",
      "      !Expression <AttributeReference> aggregate_metrics(Max, Min, ComputeMax, ComputeMin, ComputeNNZ, features#45, 1.0, 0, 0)#189 cannot run on GPU because expression AttributeReference aggregate_metrics(Max, Min, ComputeMax, ComputeMin, ComputeNNZ, features#45, 1.0, 0, 0)#189 produces an unsupported type StructType(StructField(max,org.apache.spark.ml.linalg.VectorUDT@3bfc3ba7,false),StructField(min,org.apache.spark.ml.linalg.VectorUDT@3bfc3ba7,false))\n",
      "    !Exec <ShuffleExchangeExec> cannot run on GPU because Columnar exchange without columnar children is inefficient\n",
      "      @Partitioning <SinglePartition$> could run on GPU\n",
      "      !Exec <ObjectHashAggregateExec> cannot run on GPU because not all expressions can be replaced; unsupported data types in input: org.apache.spark.ml.linalg.VectorUDT@3bfc3ba7 [features#45]\n",
      "        !Expression <AggregateExpression> partial_aggregate_metrics(Max, Min, ComputeMax, ComputeMin, ComputeNNZ, features#45, 1.0, 0, 0) cannot run on GPU because expression AggregateExpression partial_aggregate_metrics(Max, Min, ComputeMax, ComputeMin, ComputeNNZ, features#45, 1.0, 0, 0) produces an unsupported type StructType(StructField(max,org.apache.spark.ml.linalg.VectorUDT@3bfc3ba7,false),StructField(min,org.apache.spark.ml.linalg.VectorUDT@3bfc3ba7,false)); aggFunc expression MetricsAggregate aggregate_metrics(Max, Min, ComputeMax, ComputeMin, ComputeNNZ, features#45, 1.0, 0, 0) (child org.apache.spark.ml.linalg.VectorUDT@3bfc3ba7 is not supported, child org.apache.spark.ml.linalg.VectorUDT@3bfc3ba7 is not supported)\n",
      "          ! <MetricsAggregate> aggregate_metrics(Max, Min, ComputeMax, ComputeMin, ComputeNNZ, features#45, 1.0, 0, 0) cannot run on GPU because GPU does not currently support the operator class org.apache.spark.ml.stat.SummaryBuilderImpl$MetricsAggregate\n",
      "            !Expression <AttributeReference> features#45 cannot run on GPU because expression AttributeReference features#45 produces an unsupported type org.apache.spark.ml.linalg.VectorUDT@3bfc3ba7\n",
      "            @Expression <Literal> 1.0 could run on GPU\n",
      "        @Expression <AttributeReference> buf#196 could run on GPU\n",
      "        @Expression <AttributeReference> buf#197 could run on GPU\n",
      "        !Exec <ProjectExec> cannot run on GPU because unsupported data types in output: org.apache.spark.ml.linalg.VectorUDT@3bfc3ba7 [features#45]; not all expressions can be replaced\n",
      "          !Expression <Alias> UDF(features#0) AS features#45 cannot run on GPU because input expression ScalaUDF UDF(features#0) (org.apache.spark.ml.linalg.VectorUDT@3bfc3ba7 is not supported); expression Alias UDF(features#0) AS features#45 produces an unsupported type org.apache.spark.ml.linalg.VectorUDT@3bfc3ba7\n",
      "            !Expression <ScalaUDF> UDF(features#0) cannot run on GPU because neither UDF implemented by class org.apache.spark.ml.functions$$$Lambda$3697/1027037449 provides a GPU implementation, nor the conf `spark.rapids.sql.rowBasedUDF.enabled` is enabled; expression ScalaUDF UDF(features#0) produces an unsupported type org.apache.spark.ml.linalg.VectorUDT@3bfc3ba7\n",
      "              @Expression <AttributeReference> features#0 could run on GPU\n",
      "          ! <RDDScanExec> cannot run on GPU because GPU does not currently support the operator class org.apache.spark.sql.execution.RDDScanExec\n",
      "            @Expression <AttributeReference> features#0 could run on GPU\n",
      "\n",
      "23/05/24 14:53:24 WARN GpuOverrides: \n",
      "!Exec <ShuffleExchangeExec> cannot run on GPU because Columnar exchange without columnar children is inefficient\n",
      "  @Partitioning <SinglePartition$> could run on GPU\n",
      "  !Exec <ObjectHashAggregateExec> cannot run on GPU because not all expressions can be replaced; unsupported data types in input: org.apache.spark.ml.linalg.VectorUDT@3bfc3ba7 [features#45]\n",
      "    !Expression <AggregateExpression> partial_aggregate_metrics(Max, Min, ComputeMax, ComputeMin, ComputeNNZ, features#45, 1.0, 0, 0) cannot run on GPU because expression AggregateExpression partial_aggregate_metrics(Max, Min, ComputeMax, ComputeMin, ComputeNNZ, features#45, 1.0, 0, 0) produces an unsupported type StructType(StructField(max,org.apache.spark.ml.linalg.VectorUDT@3bfc3ba7,false),StructField(min,org.apache.spark.ml.linalg.VectorUDT@3bfc3ba7,false)); aggFunc expression MetricsAggregate aggregate_metrics(Max, Min, ComputeMax, ComputeMin, ComputeNNZ, features#45, 1.0, 0, 0) (child org.apache.spark.ml.linalg.VectorUDT@3bfc3ba7 is not supported, child org.apache.spark.ml.linalg.VectorUDT@3bfc3ba7 is not supported)\n",
      "      ! <MetricsAggregate> aggregate_metrics(Max, Min, ComputeMax, ComputeMin, ComputeNNZ, features#45, 1.0, 0, 0) cannot run on GPU because GPU does not currently support the operator class org.apache.spark.ml.stat.SummaryBuilderImpl$MetricsAggregate\n",
      "        !Expression <AttributeReference> features#45 cannot run on GPU because expression AttributeReference features#45 produces an unsupported type org.apache.spark.ml.linalg.VectorUDT@3bfc3ba7\n",
      "        @Expression <Literal> 1.0 could run on GPU\n",
      "    @Expression <AttributeReference> buf#196 could run on GPU\n",
      "    @Expression <AttributeReference> buf#197 could run on GPU\n",
      "    !Exec <ProjectExec> cannot run on GPU because unsupported data types in output: org.apache.spark.ml.linalg.VectorUDT@3bfc3ba7 [features#45]; not all expressions can be replaced\n",
      "      !Expression <Alias> UDF(features#0) AS features#45 cannot run on GPU because input expression ScalaUDF UDF(features#0) (org.apache.spark.ml.linalg.VectorUDT@3bfc3ba7 is not supported); expression Alias UDF(features#0) AS features#45 produces an unsupported type org.apache.spark.ml.linalg.VectorUDT@3bfc3ba7\n",
      "        !Expression <ScalaUDF> UDF(features#0) cannot run on GPU because neither UDF implemented by class org.apache.spark.ml.functions$$$Lambda$3697/1027037449 provides a GPU implementation, nor the conf `spark.rapids.sql.rowBasedUDF.enabled` is enabled; expression ScalaUDF UDF(features#0) produces an unsupported type org.apache.spark.ml.linalg.VectorUDT@3bfc3ba7\n",
      "          @Expression <AttributeReference> features#0 could run on GPU\n",
      "      ! <RDDScanExec> cannot run on GPU because GPU does not currently support the operator class org.apache.spark.sql.execution.RDDScanExec\n",
      "        @Expression <AttributeReference> features#0 could run on GPU\n",
      "\n",
      "23/05/24 14:53:24 WARN TaskSetManager: Stage 64 contains a task of very large size (24467 KiB). The maximum recommended task size is 1000 KiB.\n"
     ]
    },
    {
     "name": "stderr",
     "output_type": "stream",
     "text": [
      "[Stage 64:==================================================>       (7 + 1) / 8]\r"
     ]
    },
    {
     "name": "stdout",
     "output_type": "stream",
     "text": [
      "23/05/24 14:53:27 WARN GpuOverrides: \n",
      "!Exec <ProjectExec> cannot run on GPU because not all expressions can be replaced; unsupported data types in input: StructType(StructField(max,org.apache.spark.ml.linalg.VectorUDT@3bfc3ba7,false),StructField(min,org.apache.spark.ml.linalg.VectorUDT@3bfc3ba7,false)) [summary#190]; unsupported data types in output: org.apache.spark.ml.linalg.VectorUDT@3bfc3ba7 [max#192, min#193]\n",
      "  !Expression <Alias> summary#190.max AS max#192 cannot run on GPU because expression Alias summary#190.max AS max#192 produces an unsupported type org.apache.spark.ml.linalg.VectorUDT@3bfc3ba7; input expression GetStructField summary#190.max (org.apache.spark.ml.linalg.VectorUDT@3bfc3ba7 is not supported)\n",
      "    !Expression <GetStructField> summary#190.max cannot run on GPU because expression GetStructField summary#190.max produces an unsupported type org.apache.spark.ml.linalg.VectorUDT@3bfc3ba7; input expression AttributeReference summary#190 (child org.apache.spark.ml.linalg.VectorUDT@3bfc3ba7 is not supported, child org.apache.spark.ml.linalg.VectorUDT@3bfc3ba7 is not supported)\n",
      "      !Expression <AttributeReference> summary#190 cannot run on GPU because expression AttributeReference summary#190 produces an unsupported type StructType(StructField(max,org.apache.spark.ml.linalg.VectorUDT@3bfc3ba7,false),StructField(min,org.apache.spark.ml.linalg.VectorUDT@3bfc3ba7,false))\n",
      "  !Expression <Alias> summary#190.min AS min#193 cannot run on GPU because expression Alias summary#190.min AS min#193 produces an unsupported type org.apache.spark.ml.linalg.VectorUDT@3bfc3ba7; input expression GetStructField summary#190.min (org.apache.spark.ml.linalg.VectorUDT@3bfc3ba7 is not supported)\n",
      "    !Expression <GetStructField> summary#190.min cannot run on GPU because expression GetStructField summary#190.min produces an unsupported type org.apache.spark.ml.linalg.VectorUDT@3bfc3ba7; input expression AttributeReference summary#190 (child org.apache.spark.ml.linalg.VectorUDT@3bfc3ba7 is not supported, child org.apache.spark.ml.linalg.VectorUDT@3bfc3ba7 is not supported)\n",
      "      !Expression <AttributeReference> summary#190 cannot run on GPU because expression AttributeReference summary#190 produces an unsupported type StructType(StructField(max,org.apache.spark.ml.linalg.VectorUDT@3bfc3ba7,false),StructField(min,org.apache.spark.ml.linalg.VectorUDT@3bfc3ba7,false))\n",
      "  !Exec <ObjectHashAggregateExec> cannot run on GPU because not all expressions can be replaced; unsupported data types in output: StructType(StructField(max,org.apache.spark.ml.linalg.VectorUDT@3bfc3ba7,false),StructField(min,org.apache.spark.ml.linalg.VectorUDT@3bfc3ba7,false)) [summary#190]\n",
      "    !Expression <AggregateExpression> aggregate_metrics(Max, Min, ComputeMax, ComputeMin, ComputeNNZ, features#45, 1.0, 0, 0) cannot run on GPU because expression AggregateExpression aggregate_metrics(Max, Min, ComputeMax, ComputeMin, ComputeNNZ, features#45, 1.0, 0, 0) produces an unsupported type StructType(StructField(max,org.apache.spark.ml.linalg.VectorUDT@3bfc3ba7,false),StructField(min,org.apache.spark.ml.linalg.VectorUDT@3bfc3ba7,false)); aggFunc expression MetricsAggregate aggregate_metrics(Max, Min, ComputeMax, ComputeMin, ComputeNNZ, features#45, 1.0, 0, 0) (child org.apache.spark.ml.linalg.VectorUDT@3bfc3ba7 is not supported, child org.apache.spark.ml.linalg.VectorUDT@3bfc3ba7 is not supported)\n",
      "      ! <MetricsAggregate> aggregate_metrics(Max, Min, ComputeMax, ComputeMin, ComputeNNZ, features#45, 1.0, 0, 0) cannot run on GPU because GPU does not currently support the operator class org.apache.spark.ml.stat.SummaryBuilderImpl$MetricsAggregate\n",
      "        !Expression <AttributeReference> features#45 cannot run on GPU because expression AttributeReference features#45 produces an unsupported type org.apache.spark.ml.linalg.VectorUDT@3bfc3ba7\n",
      "        @Expression <Literal> 1.0 could run on GPU\n",
      "    !Expression <AttributeReference> aggregate_metrics(Max, Min, ComputeMax, ComputeMin, ComputeNNZ, features#45, 1.0, 0, 0)#189 cannot run on GPU because expression AttributeReference aggregate_metrics(Max, Min, ComputeMax, ComputeMin, ComputeNNZ, features#45, 1.0, 0, 0)#189 produces an unsupported type StructType(StructField(max,org.apache.spark.ml.linalg.VectorUDT@3bfc3ba7,false),StructField(min,org.apache.spark.ml.linalg.VectorUDT@3bfc3ba7,false))\n",
      "    !Expression <Alias> aggregate_metrics(Max, Min, ComputeMax, ComputeMin, ComputeNNZ, features#45, 1.0, 0, 0)#189 AS summary#190 cannot run on GPU because input expression AttributeReference aggregate_metrics(Max, Min, ComputeMax, ComputeMin, ComputeNNZ, features#45, 1.0, 0, 0)#189 (child org.apache.spark.ml.linalg.VectorUDT@3bfc3ba7 is not supported, child org.apache.spark.ml.linalg.VectorUDT@3bfc3ba7 is not supported); expression Alias aggregate_metrics(Max, Min, ComputeMax, ComputeMin, ComputeNNZ, features#45, 1.0, 0, 0)#189 AS summary#190 produces an unsupported type StructType(StructField(max,org.apache.spark.ml.linalg.VectorUDT@3bfc3ba7,false),StructField(min,org.apache.spark.ml.linalg.VectorUDT@3bfc3ba7,false))\n",
      "      !Expression <AttributeReference> aggregate_metrics(Max, Min, ComputeMax, ComputeMin, ComputeNNZ, features#45, 1.0, 0, 0)#189 cannot run on GPU because expression AttributeReference aggregate_metrics(Max, Min, ComputeMax, ComputeMin, ComputeNNZ, features#45, 1.0, 0, 0)#189 produces an unsupported type StructType(StructField(max,org.apache.spark.ml.linalg.VectorUDT@3bfc3ba7,false),StructField(min,org.apache.spark.ml.linalg.VectorUDT@3bfc3ba7,false))\n",
      "\n",
      "23/05/24 14:53:27 WARN GpuOverrides: \n",
      "!Exec <ProjectExec> cannot run on GPU because not all expressions can be replaced; unsupported data types in input: StructType(StructField(max,org.apache.spark.ml.linalg.VectorUDT@3bfc3ba7,false),StructField(min,org.apache.spark.ml.linalg.VectorUDT@3bfc3ba7,false)) [summary#190]; unsupported data types in output: org.apache.spark.ml.linalg.VectorUDT@3bfc3ba7 [max#192, min#193]\n",
      "  !Expression <Alias> summary#190.max AS max#192 cannot run on GPU because expression Alias summary#190.max AS max#192 produces an unsupported type org.apache.spark.ml.linalg.VectorUDT@3bfc3ba7; input expression GetStructField summary#190.max (org.apache.spark.ml.linalg.VectorUDT@3bfc3ba7 is not supported)\n",
      "    !Expression <GetStructField> summary#190.max cannot run on GPU because expression GetStructField summary#190.max produces an unsupported type org.apache.spark.ml.linalg.VectorUDT@3bfc3ba7; input expression AttributeReference summary#190 (child org.apache.spark.ml.linalg.VectorUDT@3bfc3ba7 is not supported, child org.apache.spark.ml.linalg.VectorUDT@3bfc3ba7 is not supported)\n",
      "      !Expression <AttributeReference> summary#190 cannot run on GPU because expression AttributeReference summary#190 produces an unsupported type StructType(StructField(max,org.apache.spark.ml.linalg.VectorUDT@3bfc3ba7,false),StructField(min,org.apache.spark.ml.linalg.VectorUDT@3bfc3ba7,false))\n",
      "  !Expression <Alias> summary#190.min AS min#193 cannot run on GPU because expression Alias summary#190.min AS min#193 produces an unsupported type org.apache.spark.ml.linalg.VectorUDT@3bfc3ba7; input expression GetStructField summary#190.min (org.apache.spark.ml.linalg.VectorUDT@3bfc3ba7 is not supported)\n",
      "    !Expression <GetStructField> summary#190.min cannot run on GPU because expression GetStructField summary#190.min produces an unsupported type org.apache.spark.ml.linalg.VectorUDT@3bfc3ba7; input expression AttributeReference summary#190 (child org.apache.spark.ml.linalg.VectorUDT@3bfc3ba7 is not supported, child org.apache.spark.ml.linalg.VectorUDT@3bfc3ba7 is not supported)\n",
      "      !Expression <AttributeReference> summary#190 cannot run on GPU because expression AttributeReference summary#190 produces an unsupported type StructType(StructField(max,org.apache.spark.ml.linalg.VectorUDT@3bfc3ba7,false),StructField(min,org.apache.spark.ml.linalg.VectorUDT@3bfc3ba7,false))\n",
      "  !Exec <ObjectHashAggregateExec> cannot run on GPU because not all expressions can be replaced; unsupported data types in output: StructType(StructField(max,org.apache.spark.ml.linalg.VectorUDT@3bfc3ba7,false),StructField(min,org.apache.spark.ml.linalg.VectorUDT@3bfc3ba7,false)) [summary#190]\n",
      "    !Expression <AggregateExpression> aggregate_metrics(Max, Min, ComputeMax, ComputeMin, ComputeNNZ, features#45, 1.0, 0, 0) cannot run on GPU because expression AggregateExpression aggregate_metrics(Max, Min, ComputeMax, ComputeMin, ComputeNNZ, features#45, 1.0, 0, 0) produces an unsupported type StructType(StructField(max,org.apache.spark.ml.linalg.VectorUDT@3bfc3ba7,false),StructField(min,org.apache.spark.ml.linalg.VectorUDT@3bfc3ba7,false)); aggFunc expression MetricsAggregate aggregate_metrics(Max, Min, ComputeMax, ComputeMin, ComputeNNZ, features#45, 1.0, 0, 0) (child org.apache.spark.ml.linalg.VectorUDT@3bfc3ba7 is not supported, child org.apache.spark.ml.linalg.VectorUDT@3bfc3ba7 is not supported)\n",
      "      ! <MetricsAggregate> aggregate_metrics(Max, Min, ComputeMax, ComputeMin, ComputeNNZ, features#45, 1.0, 0, 0) cannot run on GPU because GPU does not currently support the operator class org.apache.spark.ml.stat.SummaryBuilderImpl$MetricsAggregate\n",
      "        !Expression <AttributeReference> features#45 cannot run on GPU because expression AttributeReference features#45 produces an unsupported type org.apache.spark.ml.linalg.VectorUDT@3bfc3ba7\n",
      "        @Expression <Literal> 1.0 could run on GPU\n",
      "    !Expression <AttributeReference> aggregate_metrics(Max, Min, ComputeMax, ComputeMin, ComputeNNZ, features#45, 1.0, 0, 0)#189 cannot run on GPU because expression AttributeReference aggregate_metrics(Max, Min, ComputeMax, ComputeMin, ComputeNNZ, features#45, 1.0, 0, 0)#189 produces an unsupported type StructType(StructField(max,org.apache.spark.ml.linalg.VectorUDT@3bfc3ba7,false),StructField(min,org.apache.spark.ml.linalg.VectorUDT@3bfc3ba7,false))\n",
      "    !Expression <Alias> aggregate_metrics(Max, Min, ComputeMax, ComputeMin, ComputeNNZ, features#45, 1.0, 0, 0)#189 AS summary#190 cannot run on GPU because input expression AttributeReference aggregate_metrics(Max, Min, ComputeMax, ComputeMin, ComputeNNZ, features#45, 1.0, 0, 0)#189 (child org.apache.spark.ml.linalg.VectorUDT@3bfc3ba7 is not supported, child org.apache.spark.ml.linalg.VectorUDT@3bfc3ba7 is not supported); expression Alias aggregate_metrics(Max, Min, ComputeMax, ComputeMin, ComputeNNZ, features#45, 1.0, 0, 0)#189 AS summary#190 produces an unsupported type StructType(StructField(max,org.apache.spark.ml.linalg.VectorUDT@3bfc3ba7,false),StructField(min,org.apache.spark.ml.linalg.VectorUDT@3bfc3ba7,false))\n",
      "      !Expression <AttributeReference> aggregate_metrics(Max, Min, ComputeMax, ComputeMin, ComputeNNZ, features#45, 1.0, 0, 0)#189 cannot run on GPU because expression AttributeReference aggregate_metrics(Max, Min, ComputeMax, ComputeMin, ComputeNNZ, features#45, 1.0, 0, 0)#189 produces an unsupported type StructType(StructField(max,org.apache.spark.ml.linalg.VectorUDT@3bfc3ba7,false),StructField(min,org.apache.spark.ml.linalg.VectorUDT@3bfc3ba7,false))\n",
      "\n",
      "23/05/24 14:53:27 WARN GpuOverrides: \n",
      "! <DeserializeToObjectExec> cannot run on GPU because not all expressions can be replaced; GPU does not currently support the operator class org.apache.spark.sql.execution.DeserializeToObjectExec\n",
      "  ! <CreateExternalRow> createexternalrow(newInstance(class org.apache.spark.ml.linalg.VectorUDT).deserialize, newInstance(class org.apache.spark.ml.linalg.VectorUDT).deserialize, StructField(features,org.apache.spark.ml.linalg.VectorUDT@3bfc3ba7,true), StructField(scaled_features,org.apache.spark.ml.linalg.VectorUDT@3bfc3ba7,true)) cannot run on GPU because GPU does not currently support the operator class org.apache.spark.sql.catalyst.expressions.objects.CreateExternalRow\n",
      "    ! <Invoke> newInstance(class org.apache.spark.ml.linalg.VectorUDT).deserialize cannot run on GPU because GPU does not currently support the operator class org.apache.spark.sql.catalyst.expressions.objects.Invoke\n",
      "      ! <NewInstance> newInstance(class org.apache.spark.ml.linalg.VectorUDT) cannot run on GPU because GPU does not currently support the operator class org.apache.spark.sql.catalyst.expressions.objects.NewInstance\n",
      "      !Expression <AttributeReference> features#45 cannot run on GPU because expression AttributeReference features#45 produces an unsupported type org.apache.spark.ml.linalg.VectorUDT@3bfc3ba7\n",
      "    ! <Invoke> newInstance(class org.apache.spark.ml.linalg.VectorUDT).deserialize cannot run on GPU because GPU does not currently support the operator class org.apache.spark.sql.catalyst.expressions.objects.Invoke\n",
      "      ! <NewInstance> newInstance(class org.apache.spark.ml.linalg.VectorUDT) cannot run on GPU because GPU does not currently support the operator class org.apache.spark.sql.catalyst.expressions.objects.NewInstance\n",
      "      !Expression <AttributeReference> scaled_features#206 cannot run on GPU because expression AttributeReference scaled_features#206 produces an unsupported type org.apache.spark.ml.linalg.VectorUDT@3bfc3ba7\n",
      "  !Expression <AttributeReference> obj#212 cannot run on GPU because expression AttributeReference obj#212 produces an unsupported type ObjectType(interface org.apache.spark.sql.Row)\n",
      "  !Exec <ProjectExec> cannot run on GPU because not all expressions can be replaced; unsupported data types in output: org.apache.spark.ml.linalg.VectorUDT@3bfc3ba7 [features#45, scaled_features#206]; unsupported data types in input: org.apache.spark.ml.linalg.VectorUDT@3bfc3ba7 [features#45]\n",
      "    !Expression <AttributeReference> features#45 cannot run on GPU because expression AttributeReference features#45 produces an unsupported type org.apache.spark.ml.linalg.VectorUDT@3bfc3ba7\n",
      "    !Expression <Alias> UDF(features#45) AS scaled_features#206 cannot run on GPU because expression Alias UDF(features#45) AS scaled_features#206 produces an unsupported type org.apache.spark.ml.linalg.VectorUDT@3bfc3ba7; input expression ScalaUDF UDF(features#45) (org.apache.spark.ml.linalg.VectorUDT@3bfc3ba7 is not supported)\n",
      "      !Expression <ScalaUDF> UDF(features#45) cannot run on GPU because param expression AttributeReference features#45 (org.apache.spark.ml.linalg.VectorUDT@3bfc3ba7 is not supported); neither UDF implemented by class org.apache.spark.ml.feature.MinMaxScalerModel$$Lambda$4233/1510773388 provides a GPU implementation, nor the conf `spark.rapids.sql.rowBasedUDF.enabled` is enabled; expression ScalaUDF UDF(features#45) produces an unsupported type org.apache.spark.ml.linalg.VectorUDT@3bfc3ba7\n",
      "        !Expression <AttributeReference> features#45 cannot run on GPU because expression AttributeReference features#45 produces an unsupported type org.apache.spark.ml.linalg.VectorUDT@3bfc3ba7\n",
      "    !Exec <ProjectExec> cannot run on GPU because unsupported data types in output: org.apache.spark.ml.linalg.VectorUDT@3bfc3ba7 [features#45]; not all expressions can be replaced\n",
      "      !Expression <Alias> UDF(features#0) AS features#45 cannot run on GPU because input expression ScalaUDF UDF(features#0) (org.apache.spark.ml.linalg.VectorUDT@3bfc3ba7 is not supported); expression Alias UDF(features#0) AS features#45 produces an unsupported type org.apache.spark.ml.linalg.VectorUDT@3bfc3ba7\n",
      "        !Expression <ScalaUDF> UDF(features#0) cannot run on GPU because neither UDF implemented by class org.apache.spark.ml.functions$$$Lambda$3697/1027037449 provides a GPU implementation, nor the conf `spark.rapids.sql.rowBasedUDF.enabled` is enabled; expression ScalaUDF UDF(features#0) produces an unsupported type org.apache.spark.ml.linalg.VectorUDT@3bfc3ba7\n",
      "          @Expression <AttributeReference> features#0 could run on GPU\n",
      "      ! <RDDScanExec> cannot run on GPU because GPU does not currently support the operator class org.apache.spark.sql.execution.RDDScanExec\n",
      "        @Expression <AttributeReference> features#0 could run on GPU\n",
      "\n",
      "23/05/24 14:53:27 WARN GpuOverrides: \n",
      "! <DeserializeToObjectExec> cannot run on GPU because not all expressions can be replaced; GPU does not currently support the operator class org.apache.spark.sql.execution.DeserializeToObjectExec\n",
      "  ! <CreateExternalRow> createexternalrow(newInstance(class org.apache.spark.ml.linalg.VectorUDT).deserialize, 1.0#213, StructField(scaled_features,org.apache.spark.ml.linalg.VectorUDT@3bfc3ba7,true), StructField(1.0,DoubleType,false)) cannot run on GPU because GPU does not currently support the operator class org.apache.spark.sql.catalyst.expressions.objects.CreateExternalRow\n",
      "    ! <Invoke> newInstance(class org.apache.spark.ml.linalg.VectorUDT).deserialize cannot run on GPU because GPU does not currently support the operator class org.apache.spark.sql.catalyst.expressions.objects.Invoke\n",
      "      ! <NewInstance> newInstance(class org.apache.spark.ml.linalg.VectorUDT) cannot run on GPU because GPU does not currently support the operator class org.apache.spark.sql.catalyst.expressions.objects.NewInstance\n",
      "      !Expression <AttributeReference> scaled_features#206 cannot run on GPU because expression AttributeReference scaled_features#206 produces an unsupported type org.apache.spark.ml.linalg.VectorUDT@3bfc3ba7\n",
      "    @Expression <AttributeReference> 1.0#213 could run on GPU\n",
      "  !Expression <AttributeReference> obj#216 cannot run on GPU because expression AttributeReference obj#216 produces an unsupported type ObjectType(interface org.apache.spark.sql.Row)\n",
      "  !Exec <ProjectExec> cannot run on GPU because unsupported data types in output: org.apache.spark.ml.linalg.VectorUDT@3bfc3ba7 [scaled_features#206]; not all expressions can be replaced\n",
      "    !Expression <Alias> UDF(UDF(features#0)) AS scaled_features#206 cannot run on GPU because expression Alias UDF(UDF(features#0)) AS scaled_features#206 produces an unsupported type org.apache.spark.ml.linalg.VectorUDT@3bfc3ba7; input expression ScalaUDF UDF(UDF(features#0)) (org.apache.spark.ml.linalg.VectorUDT@3bfc3ba7 is not supported)\n",
      "      !Expression <ScalaUDF> UDF(UDF(features#0)) cannot run on GPU because neither UDF implemented by class org.apache.spark.ml.feature.MinMaxScalerModel$$Lambda$4233/1510773388 provides a GPU implementation, nor the conf `spark.rapids.sql.rowBasedUDF.enabled` is enabled; expression ScalaUDF UDF(UDF(features#0)) produces an unsupported type org.apache.spark.ml.linalg.VectorUDT@3bfc3ba7; param expression ScalaUDF UDF(features#0) (org.apache.spark.ml.linalg.VectorUDT@3bfc3ba7 is not supported)\n",
      "        !Expression <ScalaUDF> UDF(features#0) cannot run on GPU because neither UDF implemented by class org.apache.spark.ml.functions$$$Lambda$3697/1027037449 provides a GPU implementation, nor the conf `spark.rapids.sql.rowBasedUDF.enabled` is enabled; expression ScalaUDF UDF(features#0) produces an unsupported type org.apache.spark.ml.linalg.VectorUDT@3bfc3ba7\n",
      "          @Expression <AttributeReference> features#0 could run on GPU\n",
      "    @Expression <Alias> 1.0 AS 1.0#213 could run on GPU\n",
      "      @Expression <Literal> 1.0 could run on GPU\n",
      "    ! <RDDScanExec> cannot run on GPU because GPU does not currently support the operator class org.apache.spark.sql.execution.RDDScanExec\n",
      "      @Expression <AttributeReference> features#0 could run on GPU\n",
      "\n"
     ]
    },
    {
     "name": "stderr",
     "output_type": "stream",
     "text": [
      "                                                                                \r"
     ]
    },
    {
     "name": "stdout",
     "output_type": "stream",
     "text": [
      "23/05/24 14:53:27 WARN TaskSetManager: Stage 67 contains a task of very large size (24467 KiB). The maximum recommended task size is 1000 KiB.\n"
     ]
    },
    {
     "name": "stderr",
     "output_type": "stream",
     "text": [
      "                                                                                \r"
     ]
    },
    {
     "name": "stdout",
     "output_type": "stream",
     "text": [
      "23/05/24 14:53:32 WARN TaskSetManager: Stage 68 contains a task of very large size (24467 KiB). The maximum recommended task size is 1000 KiB.\n"
     ]
    },
    {
     "name": "stderr",
     "output_type": "stream",
     "text": [
      "                                                                                \r"
     ]
    },
    {
     "name": "stdout",
     "output_type": "stream",
     "text": [
      "23/05/24 14:53:33 WARN TaskSetManager: Stage 69 contains a task of very large size (24467 KiB). The maximum recommended task size is 1000 KiB.\n"
     ]
    },
    {
     "name": "stderr",
     "output_type": "stream",
     "text": [
      "                                                                                \r"
     ]
    },
    {
     "name": "stdout",
     "output_type": "stream",
     "text": [
      "23/05/24 14:53:34 WARN TaskSetManager: Stage 70 contains a task of very large size (24467 KiB). The maximum recommended task size is 1000 KiB.\n"
     ]
    },
    {
     "name": "stderr",
     "output_type": "stream",
     "text": [
      "                                                                                \r"
     ]
    },
    {
     "name": "stdout",
     "output_type": "stream",
     "text": [
      "23/05/24 14:53:34 WARN TaskSetManager: Stage 71 contains a task of very large size (24467 KiB). The maximum recommended task size is 1000 KiB.\n"
     ]
    },
    {
     "name": "stderr",
     "output_type": "stream",
     "text": [
      "                                                                                \r"
     ]
    },
    {
     "name": "stdout",
     "output_type": "stream",
     "text": [
      "23/05/24 14:53:52 WARN TaskSetManager: Stage 72 contains a task of very large size (24467 KiB). The maximum recommended task size is 1000 KiB.\n"
     ]
    },
    {
     "name": "stderr",
     "output_type": "stream",
     "text": [
      "                                                                                \r"
     ]
    },
    {
     "name": "stdout",
     "output_type": "stream",
     "text": [
      "23/05/24 14:53:52 WARN TaskSetManager: Stage 73 contains a task of very large size (24467 KiB). The maximum recommended task size is 1000 KiB.\n"
     ]
    },
    {
     "name": "stderr",
     "output_type": "stream",
     "text": [
      "                                                                                \r"
     ]
    },
    {
     "name": "stdout",
     "output_type": "stream",
     "text": [
      "23/05/24 14:54:29 WARN TaskSetManager: Stage 76 contains a task of very large size (24467 KiB). The maximum recommended task size is 1000 KiB.\n"
     ]
    },
    {
     "name": "stderr",
     "output_type": "stream",
     "text": [
      "                                                                                \r"
     ]
    },
    {
     "name": "stdout",
     "output_type": "stream",
     "text": [
      "23/05/24 14:54:36 WARN TaskSetManager: Stage 79 contains a task of very large size (24467 KiB). The maximum recommended task size is 1000 KiB.\n"
     ]
    },
    {
     "name": "stderr",
     "output_type": "stream",
     "text": [
      "                                                                                \r"
     ]
    },
    {
     "name": "stdout",
     "output_type": "stream",
     "text": [
      "23/05/24 14:54:43 WARN TaskSetManager: Stage 82 contains a task of very large size (24467 KiB). The maximum recommended task size is 1000 KiB.\n"
     ]
    },
    {
     "name": "stderr",
     "output_type": "stream",
     "text": [
      "                                                                                \r"
     ]
    },
    {
     "name": "stdout",
     "output_type": "stream",
     "text": [
      "23/05/24 14:54:51 WARN TaskSetManager: Stage 85 contains a task of very large size (24467 KiB). The maximum recommended task size is 1000 KiB.\n"
     ]
    },
    {
     "name": "stderr",
     "output_type": "stream",
     "text": [
      "                                                                                \r"
     ]
    },
    {
     "name": "stdout",
     "output_type": "stream",
     "text": [
      "23/05/24 14:54:58 WARN TaskSetManager: Stage 88 contains a task of very large size (24467 KiB). The maximum recommended task size is 1000 KiB.\n"
     ]
    },
    {
     "name": "stderr",
     "output_type": "stream",
     "text": [
      "                                                                                \r"
     ]
    },
    {
     "name": "stdout",
     "output_type": "stream",
     "text": [
      "23/05/24 14:55:05 WARN TaskSetManager: Stage 91 contains a task of very large size (24467 KiB). The maximum recommended task size is 1000 KiB.\n"
     ]
    },
    {
     "name": "stderr",
     "output_type": "stream",
     "text": [
      "                                                                                \r"
     ]
    },
    {
     "name": "stdout",
     "output_type": "stream",
     "text": [
      "23/05/24 14:55:12 WARN TaskSetManager: Stage 94 contains a task of very large size (24467 KiB). The maximum recommended task size is 1000 KiB.\n"
     ]
    },
    {
     "name": "stderr",
     "output_type": "stream",
     "text": [
      "                                                                                \r"
     ]
    },
    {
     "name": "stdout",
     "output_type": "stream",
     "text": [
      "23/05/24 14:55:19 WARN TaskSetManager: Stage 97 contains a task of very large size (24467 KiB). The maximum recommended task size is 1000 KiB.\n"
     ]
    },
    {
     "name": "stderr",
     "output_type": "stream",
     "text": [
      "                                                                                \r"
     ]
    },
    {
     "name": "stdout",
     "output_type": "stream",
     "text": [
      "23/05/24 14:55:27 WARN TaskSetManager: Stage 100 contains a task of very large size (24467 KiB). The maximum recommended task size is 1000 KiB.\n"
     ]
    },
    {
     "name": "stderr",
     "output_type": "stream",
     "text": [
      "                                                                                \r"
     ]
    },
    {
     "name": "stdout",
     "output_type": "stream",
     "text": [
      "23/05/24 14:55:33 WARN GpuOverrides: \n",
      "      !Exec <ProjectExec> cannot run on GPU because not all expressions can be replaced\n",
      "        @Expression <Alias> UDF(UDF(UDF(features#0))) AS transformed#220 could run on GPU\n",
      "          !Expression <ScalaUDF> UDF(UDF(UDF(features#0))) cannot run on GPU because neither UDF implemented by class org.apache.spark.ml.clustering.KMeansModel$$Lambda$4038/2042610068 provides a GPU implementation, nor the conf `spark.rapids.sql.rowBasedUDF.enabled` is enabled; param expression ScalaUDF UDF(UDF(features#0)) (org.apache.spark.ml.linalg.VectorUDT@3bfc3ba7 is not supported)\n",
      "            !Expression <ScalaUDF> UDF(UDF(features#0)) cannot run on GPU because neither UDF implemented by class org.apache.spark.ml.feature.MinMaxScalerModel$$Lambda$4233/1510773388 provides a GPU implementation, nor the conf `spark.rapids.sql.rowBasedUDF.enabled` is enabled; expression ScalaUDF UDF(UDF(features#0)) produces an unsupported type org.apache.spark.ml.linalg.VectorUDT@3bfc3ba7; param expression ScalaUDF UDF(features#0) (org.apache.spark.ml.linalg.VectorUDT@3bfc3ba7 is not supported)\n",
      "              !Expression <ScalaUDF> UDF(features#0) cannot run on GPU because neither UDF implemented by class org.apache.spark.ml.functions$$$Lambda$3697/1027037449 provides a GPU implementation, nor the conf `spark.rapids.sql.rowBasedUDF.enabled` is enabled; expression ScalaUDF UDF(features#0) produces an unsupported type org.apache.spark.ml.linalg.VectorUDT@3bfc3ba7\n",
      "                @Expression <AttributeReference> features#0 could run on GPU\n",
      "        ! <RDDScanExec> cannot run on GPU because GPU does not currently support the operator class org.apache.spark.sql.execution.RDDScanExec\n",
      "          @Expression <AttributeReference> features#0 could run on GPU\n",
      "\n",
      "23/05/24 14:55:33 WARN GpuOverrides: \n",
      "      !Exec <ProjectExec> cannot run on GPU because not all expressions can be replaced\n",
      "        @Expression <Alias> UDF(UDF(UDF(features#0))) AS transformed#220 could run on GPU\n",
      "          !Expression <ScalaUDF> UDF(UDF(UDF(features#0))) cannot run on GPU because neither UDF implemented by class org.apache.spark.ml.clustering.KMeansModel$$Lambda$4038/2042610068 provides a GPU implementation, nor the conf `spark.rapids.sql.rowBasedUDF.enabled` is enabled; param expression ScalaUDF UDF(UDF(features#0)) (org.apache.spark.ml.linalg.VectorUDT@3bfc3ba7 is not supported)\n",
      "            !Expression <ScalaUDF> UDF(UDF(features#0)) cannot run on GPU because neither UDF implemented by class org.apache.spark.ml.feature.MinMaxScalerModel$$Lambda$4233/1510773388 provides a GPU implementation, nor the conf `spark.rapids.sql.rowBasedUDF.enabled` is enabled; expression ScalaUDF UDF(UDF(features#0)) produces an unsupported type org.apache.spark.ml.linalg.VectorUDT@3bfc3ba7; param expression ScalaUDF UDF(features#0) (org.apache.spark.ml.linalg.VectorUDT@3bfc3ba7 is not supported)\n",
      "              !Expression <ScalaUDF> UDF(features#0) cannot run on GPU because neither UDF implemented by class org.apache.spark.ml.functions$$$Lambda$3697/1027037449 provides a GPU implementation, nor the conf `spark.rapids.sql.rowBasedUDF.enabled` is enabled; expression ScalaUDF UDF(features#0) produces an unsupported type org.apache.spark.ml.linalg.VectorUDT@3bfc3ba7\n",
      "                @Expression <AttributeReference> features#0 could run on GPU\n",
      "        ! <RDDScanExec> cannot run on GPU because GPU does not currently support the operator class org.apache.spark.sql.execution.RDDScanExec\n",
      "          @Expression <AttributeReference> features#0 could run on GPU\n",
      "\n",
      "23/05/24 14:55:33 WARN GpuOverrides: \n",
      "      !Exec <ProjectExec> cannot run on GPU because not all expressions can be replaced\n",
      "        @Expression <Alias> UDF(UDF(UDF(features#0))) AS transformed#220 could run on GPU\n",
      "          !Expression <ScalaUDF> UDF(UDF(UDF(features#0))) cannot run on GPU because neither UDF implemented by class org.apache.spark.ml.clustering.KMeansModel$$Lambda$4038/2042610068 provides a GPU implementation, nor the conf `spark.rapids.sql.rowBasedUDF.enabled` is enabled; param expression ScalaUDF UDF(UDF(features#0)) (org.apache.spark.ml.linalg.VectorUDT@3bfc3ba7 is not supported)\n",
      "            !Expression <ScalaUDF> UDF(UDF(features#0)) cannot run on GPU because neither UDF implemented by class org.apache.spark.ml.feature.MinMaxScalerModel$$Lambda$4233/1510773388 provides a GPU implementation, nor the conf `spark.rapids.sql.rowBasedUDF.enabled` is enabled; expression ScalaUDF UDF(UDF(features#0)) produces an unsupported type org.apache.spark.ml.linalg.VectorUDT@3bfc3ba7; param expression ScalaUDF UDF(features#0) (org.apache.spark.ml.linalg.VectorUDT@3bfc3ba7 is not supported)\n",
      "              !Expression <ScalaUDF> UDF(features#0) cannot run on GPU because neither UDF implemented by class org.apache.spark.ml.functions$$$Lambda$3697/1027037449 provides a GPU implementation, nor the conf `spark.rapids.sql.rowBasedUDF.enabled` is enabled; expression ScalaUDF UDF(features#0) produces an unsupported type org.apache.spark.ml.linalg.VectorUDT@3bfc3ba7\n",
      "                @Expression <AttributeReference> features#0 could run on GPU\n",
      "        ! <RDDScanExec> cannot run on GPU because GPU does not currently support the operator class org.apache.spark.sql.execution.RDDScanExec\n",
      "          @Expression <AttributeReference> features#0 could run on GPU\n",
      "\n",
      "23/05/24 14:55:33 WARN GpuOverrides: \n",
      "    !Exec <ProjectExec> cannot run on GPU because not all expressions can be replaced\n",
      "      @Expression <Alias> UDF(UDF(UDF(features#0))) AS transformed#220 could run on GPU\n",
      "        !Expression <ScalaUDF> UDF(UDF(UDF(features#0))) cannot run on GPU because neither UDF implemented by class org.apache.spark.ml.clustering.KMeansModel$$Lambda$4038/2042610068 provides a GPU implementation, nor the conf `spark.rapids.sql.rowBasedUDF.enabled` is enabled; param expression ScalaUDF UDF(UDF(features#0)) (org.apache.spark.ml.linalg.VectorUDT@3bfc3ba7 is not supported)\n",
      "          !Expression <ScalaUDF> UDF(UDF(features#0)) cannot run on GPU because neither UDF implemented by class org.apache.spark.ml.feature.MinMaxScalerModel$$Lambda$4233/1510773388 provides a GPU implementation, nor the conf `spark.rapids.sql.rowBasedUDF.enabled` is enabled; expression ScalaUDF UDF(UDF(features#0)) produces an unsupported type org.apache.spark.ml.linalg.VectorUDT@3bfc3ba7; param expression ScalaUDF UDF(features#0) (org.apache.spark.ml.linalg.VectorUDT@3bfc3ba7 is not supported)\n",
      "            !Expression <ScalaUDF> UDF(features#0) cannot run on GPU because neither UDF implemented by class org.apache.spark.ml.functions$$$Lambda$3697/1027037449 provides a GPU implementation, nor the conf `spark.rapids.sql.rowBasedUDF.enabled` is enabled; expression ScalaUDF UDF(features#0) produces an unsupported type org.apache.spark.ml.linalg.VectorUDT@3bfc3ba7\n",
      "              @Expression <AttributeReference> features#0 could run on GPU\n",
      "      ! <RDDScanExec> cannot run on GPU because GPU does not currently support the operator class org.apache.spark.sql.execution.RDDScanExec\n",
      "        @Expression <AttributeReference> features#0 could run on GPU\n",
      "\n",
      "23/05/24 14:55:33 WARN TaskSetManager: Stage 102 contains a task of very large size (24467 KiB). The maximum recommended task size is 1000 KiB.\n"
     ]
    },
    {
     "name": "stderr",
     "output_type": "stream",
     "text": [
      "[Stage 102:=================================================>       (7 + 1) / 8]\r"
     ]
    },
    {
     "name": "stdout",
     "output_type": "stream",
     "text": [
      "Fit took: 141.9701817035675 sec\n"
     ]
    },
    {
     "name": "stderr",
     "output_type": "stream",
     "text": [
      "                                                                                \r"
     ]
    }
   ],
   "source": [
    "start_time = time.time()\n",
    "pipe_model = pipe.fit(vector_df)\n",
    "cpu_cpu_pipe = time.time() - start_time\n",
    "print(f\"Fit took: {cpu_cpu_pipe} sec\")"
   ]
  },
  {
   "cell_type": "code",
   "execution_count": 39,
   "metadata": {
    "tags": []
   },
   "outputs": [
    {
     "name": "stdout",
     "output_type": "stream",
     "text": [
      "23/05/24 14:55:46 WARN GpuOverrides: \n",
      "!Exec <CollectLimitExec> cannot run on GPU because the Exec CollectLimitExec has been disabled, and is disabled by default because Collect Limit replacement can be slower on the GPU, if huge number of rows in a batch it could help by limiting the number of rows transferred from GPU to CPU. Set spark.rapids.sql.exec.CollectLimitExec to true if you wish to enable it\n",
      "  @Partitioning <SinglePartition$> could run on GPU\n",
      "  !Exec <ProjectExec> cannot run on GPU because not all expressions can be replaced; unsupported data types in input: org.apache.spark.ml.linalg.VectorUDT@3bfc3ba7 [features#45, scaled_features#252]\n",
      "    @Expression <Alias> cast(features#45 as string) AS features#271 could run on GPU\n",
      "      !Expression <Cast> cast(features#45 as string) cannot run on GPU because Cast from org.apache.spark.ml.linalg.VectorUDT@3bfc3ba7 to StringType is not supported\n",
      "        !Expression <AttributeReference> features#45 cannot run on GPU because expression AttributeReference features#45 produces an unsupported type org.apache.spark.ml.linalg.VectorUDT@3bfc3ba7\n",
      "    @Expression <Alias> cast(scaled_features#252 as string) AS scaled_features#272 could run on GPU\n",
      "      !Expression <Cast> cast(scaled_features#252 as string) cannot run on GPU because Cast from org.apache.spark.ml.linalg.VectorUDT@3bfc3ba7 to StringType is not supported\n",
      "        !Expression <AttributeReference> scaled_features#252 cannot run on GPU because expression AttributeReference scaled_features#252 produces an unsupported type org.apache.spark.ml.linalg.VectorUDT@3bfc3ba7\n",
      "    @Expression <Alias> cast(UDF(scaled_features#252) as string) AS transformed#273 could run on GPU\n",
      "      @Expression <Cast> cast(UDF(scaled_features#252) as string) could run on GPU\n",
      "        !Expression <ScalaUDF> UDF(scaled_features#252) cannot run on GPU because neither UDF implemented by class org.apache.spark.ml.clustering.KMeansModel$$Lambda$4038/2042610068 provides a GPU implementation, nor the conf `spark.rapids.sql.rowBasedUDF.enabled` is enabled; param expression AttributeReference scaled_features#252 (org.apache.spark.ml.linalg.VectorUDT@3bfc3ba7 is not supported)\n",
      "          !Expression <AttributeReference> scaled_features#252 cannot run on GPU because expression AttributeReference scaled_features#252 produces an unsupported type org.apache.spark.ml.linalg.VectorUDT@3bfc3ba7\n",
      "    !Exec <ProjectExec> cannot run on GPU because unsupported data types in output: org.apache.spark.ml.linalg.VectorUDT@3bfc3ba7 [features#45, scaled_features#252]; not all expressions can be replaced; unsupported data types in input: org.apache.spark.ml.linalg.VectorUDT@3bfc3ba7 [features#45]\n",
      "      !Expression <AttributeReference> features#45 cannot run on GPU because expression AttributeReference features#45 produces an unsupported type org.apache.spark.ml.linalg.VectorUDT@3bfc3ba7\n",
      "      !Expression <Alias> UDF(features#45) AS scaled_features#252 cannot run on GPU because expression Alias UDF(features#45) AS scaled_features#252 produces an unsupported type org.apache.spark.ml.linalg.VectorUDT@3bfc3ba7; input expression ScalaUDF UDF(features#45) (org.apache.spark.ml.linalg.VectorUDT@3bfc3ba7 is not supported)\n",
      "        !Expression <ScalaUDF> UDF(features#45) cannot run on GPU because param expression AttributeReference features#45 (org.apache.spark.ml.linalg.VectorUDT@3bfc3ba7 is not supported); neither UDF implemented by class org.apache.spark.ml.feature.MinMaxScalerModel$$Lambda$4233/1510773388 provides a GPU implementation, nor the conf `spark.rapids.sql.rowBasedUDF.enabled` is enabled; expression ScalaUDF UDF(features#45) produces an unsupported type org.apache.spark.ml.linalg.VectorUDT@3bfc3ba7\n",
      "          !Expression <AttributeReference> features#45 cannot run on GPU because expression AttributeReference features#45 produces an unsupported type org.apache.spark.ml.linalg.VectorUDT@3bfc3ba7\n",
      "      !Exec <ProjectExec> cannot run on GPU because unsupported data types in output: org.apache.spark.ml.linalg.VectorUDT@3bfc3ba7 [features#45]; not all expressions can be replaced\n",
      "        !Expression <Alias> UDF(features#0) AS features#45 cannot run on GPU because input expression ScalaUDF UDF(features#0) (org.apache.spark.ml.linalg.VectorUDT@3bfc3ba7 is not supported); expression Alias UDF(features#0) AS features#45 produces an unsupported type org.apache.spark.ml.linalg.VectorUDT@3bfc3ba7\n",
      "          !Expression <ScalaUDF> UDF(features#0) cannot run on GPU because neither UDF implemented by class org.apache.spark.ml.functions$$$Lambda$3697/1027037449 provides a GPU implementation, nor the conf `spark.rapids.sql.rowBasedUDF.enabled` is enabled; expression ScalaUDF UDF(features#0) produces an unsupported type org.apache.spark.ml.linalg.VectorUDT@3bfc3ba7\n",
      "            @Expression <AttributeReference> features#0 could run on GPU\n",
      "        ! <RDDScanExec> cannot run on GPU because GPU does not currently support the operator class org.apache.spark.sql.execution.RDDScanExec\n",
      "          @Expression <AttributeReference> features#0 could run on GPU\n",
      "\n",
      "23/05/24 14:55:46 WARN TaskSetManager: Stage 105 contains a task of very large size (24467 KiB). The maximum recommended task size is 1000 KiB.\n",
      "+--------------------+--------------------+-----------+\n",
      "|            features|     scaled_features|transformed|\n",
      "+--------------------+--------------------+-----------+\n",
      "|[7.60500764846801...|[0.78957140222302...|        183|\n",
      "|[3.42933940887451...|[0.63245732071398...|        133|\n",
      "|[-7.0488376617431...|[0.23820445581219...|         74|\n",
      "|[4.56557607650756...|[0.67520946723735...|         93|\n",
      "|[3.64227962493896...|[0.64046942908650...|         59|\n",
      "|[-4.4982471466064...|[0.33417321173289...|         28|\n",
      "|[4.66437816619873...|[0.67892700385240...|        185|\n",
      "|[-7.5873112678527...|[0.21794379783209...|         20|\n",
      "|[8.58247280120849...|[0.82634959696171...|        157|\n",
      "|[5.78661394119262...|[0.72115235148728...|        169|\n",
      "+--------------------+--------------------+-----------+\n",
      "only showing top 10 rows\n",
      "\n"
     ]
    }
   ],
   "source": [
    "pipe_transformed = pipe_model.transform(vector_df)\n",
    "pipe_transformed.show(10)"
   ]
  },
  {
   "cell_type": "markdown",
   "metadata": {},
   "source": [
    "## Test (numpy)"
   ]
  },
  {
   "cell_type": "code",
   "execution_count": 40,
   "metadata": {
    "tags": []
   },
   "outputs": [],
   "source": [
    "from spark_rapids_ml.clustering import KMeans"
   ]
  },
  {
   "cell_type": "code",
   "execution_count": 41,
   "metadata": {
    "tags": []
   },
   "outputs": [],
   "source": [
    "gpu_kmeans = (\n",
    "    KMeans(fake_pipe=True)\n",
    "    .setTol(1.0e-20)\n",
    "    .setK(200)\n",
    "    .setFeaturesCol(\"features\")\n",
    "    .setPredictionCol(\"transformed\")\n",
    "    .setMaxIter(15)\n",
    ")"
   ]
  },
  {
   "cell_type": "code",
   "execution_count": 42,
   "metadata": {
    "tags": []
   },
   "outputs": [
    {
     "name": "stdout",
     "output_type": "stream",
     "text": [
      "23/05/24 14:55:46 WARN GpuOverrides: \n",
      "!Exec <CollectLimitExec> cannot run on GPU because the Exec CollectLimitExec has been disabled, and is disabled by default because Collect Limit replacement can be slower on the GPU, if huge number of rows in a batch it could help by limiting the number of rows transferred from GPU to CPU. Set spark.rapids.sql.exec.CollectLimitExec to true if you wish to enable it\n",
      "  @Partitioning <SinglePartition$> could run on GPU\n",
      "  ! <RDDScanExec> cannot run on GPU because GPU does not currently support the operator class org.apache.spark.sql.execution.RDDScanExec\n",
      "    @Expression <AttributeReference> features#0 could run on GPU\n",
      "\n",
      "23/05/24 14:55:46 WARN TaskSetManager: Stage 106 contains a task of very large size (24467 KiB). The maximum recommended task size is 1000 KiB.\n",
      "23/05/24 14:55:47 WARN GpuOverrides: \n",
      "  ! <RDDScanExec> cannot run on GPU because GPU does not currently support the operator class org.apache.spark.sql.execution.RDDScanExec\n",
      "    @Expression <AttributeReference> features#0 could run on GPU\n",
      "\n",
      "23/05/24 14:55:47 WARN GpuOverrides: \n",
      "      ! <RDDScanExec> cannot run on GPU because GPU does not currently support the operator class org.apache.spark.sql.execution.RDDScanExec\n",
      "        @Expression <AttributeReference> features#0 could run on GPU\n",
      "\n",
      "23/05/24 14:55:47 WARN GpuOverrides: \n",
      "      ! <RDDScanExec> cannot run on GPU because GPU does not currently support the operator class org.apache.spark.sql.execution.RDDScanExec\n",
      "        @Expression <AttributeReference> features#0 could run on GPU\n",
      "\n",
      "23/05/24 14:55:47 WARN GpuOverrides: \n",
      "      ! <RDDScanExec> cannot run on GPU because GPU does not currently support the operator class org.apache.spark.sql.execution.RDDScanExec\n",
      "        @Expression <AttributeReference> features#0 could run on GPU\n",
      "\n",
      "23/05/24 14:55:47 WARN GpuOverrides: \n",
      "    ! <RDDScanExec> cannot run on GPU because GPU does not currently support the operator class org.apache.spark.sql.execution.RDDScanExec\n",
      "      @Expression <AttributeReference> features#0 could run on GPU\n",
      "\n",
      "23/05/24 14:55:47 WARN TaskSetManager: Stage 107 contains a task of very large size (24467 KiB). The maximum recommended task size is 1000 KiB.\n"
     ]
    },
    {
     "name": "stderr",
     "output_type": "stream",
     "text": [
      "[Stage 109:>                                                        (0 + 1) / 1]\r"
     ]
    },
    {
     "name": "stdout",
     "output_type": "stream",
     "text": [
      "Fit took: 10.451662302017212 sec\n"
     ]
    },
    {
     "name": "stderr",
     "output_type": "stream",
     "text": [
      "                                                                                \r"
     ]
    }
   ],
   "source": [
    "start_time = time.time()\n",
    "pipe_model = gpu_kmeans.fit(df)\n",
    "fake_pipe_numpy = time.time() - start_time\n",
    "print(f\"Fit took: {fake_pipe_numpy} sec\")"
   ]
  },
  {
   "cell_type": "markdown",
   "metadata": {},
   "source": [
    "## Test (cupy)"
   ]
  },
  {
   "cell_type": "code",
   "execution_count": 43,
   "metadata": {
    "tags": []
   },
   "outputs": [],
   "source": [
    "from spark_rapids_ml.clustering import KMeans"
   ]
  },
  {
   "cell_type": "code",
   "execution_count": 44,
   "metadata": {
    "tags": []
   },
   "outputs": [],
   "source": [
    "gpu_kmeans = (\n",
    "    KMeans(fake_pipe=True, use_cupy=True)\n",
    "    .setTol(1.0e-20)\n",
    "    .setK(200)\n",
    "    .setFeaturesCol(\"features\")\n",
    "    .setPredictionCol(\"transformed\")\n",
    "    .setMaxIter(15)\n",
    ")"
   ]
  },
  {
   "cell_type": "code",
   "execution_count": 45,
   "metadata": {
    "tags": []
   },
   "outputs": [
    {
     "name": "stdout",
     "output_type": "stream",
     "text": [
      "23/05/24 14:55:57 WARN GpuOverrides: \n",
      "!Exec <CollectLimitExec> cannot run on GPU because the Exec CollectLimitExec has been disabled, and is disabled by default because Collect Limit replacement can be slower on the GPU, if huge number of rows in a batch it could help by limiting the number of rows transferred from GPU to CPU. Set spark.rapids.sql.exec.CollectLimitExec to true if you wish to enable it\n",
      "  @Partitioning <SinglePartition$> could run on GPU\n",
      "  ! <RDDScanExec> cannot run on GPU because GPU does not currently support the operator class org.apache.spark.sql.execution.RDDScanExec\n",
      "    @Expression <AttributeReference> features#0 could run on GPU\n",
      "\n",
      "23/05/24 14:55:57 WARN TaskSetManager: Stage 110 contains a task of very large size (24467 KiB). The maximum recommended task size is 1000 KiB.\n",
      "23/05/24 14:55:57 WARN GpuOverrides: \n",
      "  ! <RDDScanExec> cannot run on GPU because GPU does not currently support the operator class org.apache.spark.sql.execution.RDDScanExec\n",
      "    @Expression <AttributeReference> features#0 could run on GPU\n",
      "\n",
      "23/05/24 14:55:57 WARN GpuOverrides: \n",
      "      ! <RDDScanExec> cannot run on GPU because GPU does not currently support the operator class org.apache.spark.sql.execution.RDDScanExec\n",
      "        @Expression <AttributeReference> features#0 could run on GPU\n",
      "\n",
      "23/05/24 14:55:57 WARN GpuOverrides: \n",
      "      ! <RDDScanExec> cannot run on GPU because GPU does not currently support the operator class org.apache.spark.sql.execution.RDDScanExec\n",
      "        @Expression <AttributeReference> features#0 could run on GPU\n",
      "\n",
      "23/05/24 14:55:57 WARN GpuOverrides: \n",
      "      ! <RDDScanExec> cannot run on GPU because GPU does not currently support the operator class org.apache.spark.sql.execution.RDDScanExec\n",
      "        @Expression <AttributeReference> features#0 could run on GPU\n",
      "\n",
      "23/05/24 14:55:57 WARN GpuOverrides: \n",
      "    ! <RDDScanExec> cannot run on GPU because GPU does not currently support the operator class org.apache.spark.sql.execution.RDDScanExec\n",
      "      @Expression <AttributeReference> features#0 could run on GPU\n",
      "\n",
      "23/05/24 14:55:57 WARN TaskSetManager: Stage 111 contains a task of very large size (24467 KiB). The maximum recommended task size is 1000 KiB.\n"
     ]
    },
    {
     "name": "stderr",
     "output_type": "stream",
     "text": [
      "[Stage 113:>                                                        (0 + 1) / 1]\r"
     ]
    },
    {
     "name": "stdout",
     "output_type": "stream",
     "text": [
      "Fit took: 6.068034648895264 sec\n"
     ]
    },
    {
     "name": "stderr",
     "output_type": "stream",
     "text": [
      "                                                                                \r"
     ]
    }
   ],
   "source": [
    "start_time = time.time()\n",
    "pipe_model = gpu_kmeans.fit(df)\n",
    "fake_pipe_cupy = time.time() - start_time\n",
    "print(f\"Fit took: {fake_pipe_cupy} sec\")"
   ]
  },
  {
   "cell_type": "markdown",
   "metadata": {},
   "source": [
    "## Test (numpy)"
   ]
  },
  {
   "cell_type": "code",
   "execution_count": 46,
   "metadata": {
    "tags": []
   },
   "outputs": [],
   "source": [
    "from spark_rapids_ml.clustering import KMeans"
   ]
  },
  {
   "cell_type": "code",
   "execution_count": 47,
   "metadata": {
    "tags": []
   },
   "outputs": [],
   "source": [
    "gpu_kmeans = (\n",
    "    KMeans(fake_pipe=True)\n",
    "    .setTol(1.0e-20)\n",
    "    .setK(200)\n",
    "    .setFeaturesCol(\"features\")\n",
    "    .setPredictionCol(\"transformed\")\n",
    "    .setMaxIter(15)\n",
    ")"
   ]
  },
  {
   "cell_type": "code",
   "execution_count": 48,
   "metadata": {
    "tags": []
   },
   "outputs": [
    {
     "name": "stdout",
     "output_type": "stream",
     "text": [
      "23/05/24 14:56:03 WARN GpuOverrides: \n",
      "!Exec <CollectLimitExec> cannot run on GPU because the Exec CollectLimitExec has been disabled, and is disabled by default because Collect Limit replacement can be slower on the GPU, if huge number of rows in a batch it could help by limiting the number of rows transferred from GPU to CPU. Set spark.rapids.sql.exec.CollectLimitExec to true if you wish to enable it\n",
      "  @Partitioning <SinglePartition$> could run on GPU\n",
      "  ! <RDDScanExec> cannot run on GPU because GPU does not currently support the operator class org.apache.spark.sql.execution.RDDScanExec\n",
      "    @Expression <AttributeReference> features#0 could run on GPU\n",
      "\n",
      "23/05/24 14:56:03 WARN TaskSetManager: Stage 114 contains a task of very large size (24467 KiB). The maximum recommended task size is 1000 KiB.\n",
      "23/05/24 14:56:03 WARN GpuOverrides: \n",
      "  ! <RDDScanExec> cannot run on GPU because GPU does not currently support the operator class org.apache.spark.sql.execution.RDDScanExec\n",
      "    @Expression <AttributeReference> features#0 could run on GPU\n",
      "\n",
      "23/05/24 14:56:03 WARN GpuOverrides: \n",
      "      ! <RDDScanExec> cannot run on GPU because GPU does not currently support the operator class org.apache.spark.sql.execution.RDDScanExec\n",
      "        @Expression <AttributeReference> features#0 could run on GPU\n",
      "\n",
      "23/05/24 14:56:03 WARN GpuOverrides: \n",
      "      ! <RDDScanExec> cannot run on GPU because GPU does not currently support the operator class org.apache.spark.sql.execution.RDDScanExec\n",
      "        @Expression <AttributeReference> features#0 could run on GPU\n",
      "\n",
      "23/05/24 14:56:03 WARN GpuOverrides: \n",
      "      ! <RDDScanExec> cannot run on GPU because GPU does not currently support the operator class org.apache.spark.sql.execution.RDDScanExec\n",
      "        @Expression <AttributeReference> features#0 could run on GPU\n",
      "\n",
      "23/05/24 14:56:03 WARN GpuOverrides: \n",
      "    ! <RDDScanExec> cannot run on GPU because GPU does not currently support the operator class org.apache.spark.sql.execution.RDDScanExec\n",
      "      @Expression <AttributeReference> features#0 could run on GPU\n",
      "\n",
      "23/05/24 14:56:03 WARN TaskSetManager: Stage 115 contains a task of very large size (24467 KiB). The maximum recommended task size is 1000 KiB.\n"
     ]
    },
    {
     "name": "stderr",
     "output_type": "stream",
     "text": [
      "[Stage 117:>                                                        (0 + 1) / 1]\r"
     ]
    },
    {
     "name": "stdout",
     "output_type": "stream",
     "text": [
      "Fit took: 6.01736307144165 sec\n"
     ]
    },
    {
     "name": "stderr",
     "output_type": "stream",
     "text": [
      "                                                                                \r"
     ]
    }
   ],
   "source": [
    "start_time = time.time()\n",
    "pipe_model = gpu_kmeans.fit(df)\n",
    "fake_pipe_numpy = time.time() - start_time\n",
    "print(f\"Fit took: {fake_pipe_numpy} sec\")"
   ]
  },
  {
   "cell_type": "markdown",
   "metadata": {},
   "source": [
    "### Summary"
   ]
  },
  {
   "cell_type": "code",
   "execution_count": 49,
   "metadata": {
    "tags": []
   },
   "outputs": [
    {
     "name": "stdout",
     "output_type": "stream",
     "text": [
      "12.810078859329224\n",
      "143.9151623249054\n",
      "18.478280305862427\n",
      "141.9701817035675\n",
      "6.01736307144165\n",
      "6.068034648895264\n"
     ]
    }
   ],
   "source": [
    "print(gpu_fit)\n",
    "print(cpu_fit)\n",
    "print(cpu_gpu_pipe)\n",
    "print(cpu_cpu_pipe)\n",
    "print(fake_pipe_numpy)\n",
    "print(fake_pipe_cupy)"
   ]
  },
  {
   "cell_type": "code",
   "execution_count": null,
   "metadata": {},
   "outputs": [],
   "source": []
  }
 ],
 "metadata": {
  "application/vnd.databricks.v1+notebook": {
   "dashboards": [],
   "language": "python",
   "notebookMetadata": {
    "pythonIndentUnit": 4
   },
   "notebookName": "spark-rapids-ml-kmeans-demo",
   "notebookOrigID": 1026070411409745,
   "widgets": {}
  },
  "kernelspec": {
   "display_name": "Python 3 (ipykernel)",
   "language": "python",
   "name": "python3"
  },
  "language_info": {
   "codemirror_mode": {
    "name": "ipython",
    "version": 3
   },
   "file_extension": ".py",
   "mimetype": "text/x-python",
   "name": "python",
   "nbconvert_exporter": "python",
   "pygments_lexer": "ipython3",
   "version": "3.8.16"
  },
  "vscode": {
   "interpreter": {
    "hash": "e7370f93d1d0cde622a1f8e1c04877d8463912d04d973331ad4851f04de6915a"
   }
  }
 },
 "nbformat": 4,
 "nbformat_minor": 4
}
