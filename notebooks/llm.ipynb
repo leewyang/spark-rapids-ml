{
 "cells": [
  {
   "cell_type": "markdown",
   "id": "777fc40d",
   "metadata": {},
   "source": [
    "# PySpark LLM Inferencing"
   ]
  },
  {
   "cell_type": "markdown",
   "id": "764f2b5f-29d2-45ef-ab58-3210a432bd09",
   "metadata": {},
   "source": [
    "This notebook demonstrates LLM batch inferencing in Spark using Triton Inference Server."
   ]
  },
  {
   "cell_type": "markdown",
   "id": "eadd7d34-6812-4259-9475-b6a8c44bd9c1",
   "metadata": {
    "tags": []
   },
   "source": [
    "## Python"
   ]
  },
  {
   "cell_type": "code",
   "execution_count": null,
   "id": "8d4b364b-13cb-48ea-a97a-ccfc9e408075",
   "metadata": {
    "tags": []
   },
   "outputs": [],
   "source": [
    "from llama import Llama"
   ]
  },
  {
   "cell_type": "code",
   "execution_count": null,
   "id": "51537501-28ab-4f66-aa21-6b517ea712b1",
   "metadata": {
    "tags": []
   },
   "outputs": [],
   "source": [
    "import os\n",
    "\n",
    "os.environ['RANK'] = '0'\n",
    "os.environ['WORLD_SIZE'] = '1'\n",
    "os.environ['MASTER_ADDR'] = '127.0.0.1'\n",
    "os.environ['MASTER_PORT'] = '8989'\n",
    "\n",
    "os.environ['CUDA_VISIBLE_DEVICES'] = '15'"
   ]
  },
  {
   "cell_type": "code",
   "execution_count": null,
   "id": "23bdb903-71cb-4cad-abc6-38d9d8d70ac2",
   "metadata": {
    "tags": []
   },
   "outputs": [],
   "source": [
    "ckpt_dir = \"llama-2-7b-chat\"\n",
    "tokenizer_path = \"tokenizer.model\"\n",
    "\n",
    "temperature: float = 0.6\n",
    "top_p: float = 0.9\n",
    "max_seq_len: int = 128\n",
    "max_gen_len: int = 64\n",
    "max_batch_size: int = 4"
   ]
  },
  {
   "cell_type": "code",
   "execution_count": null,
   "id": "cd05cd49-a9ab-47e4-9ba6-7156d66e45b0",
   "metadata": {
    "tags": []
   },
   "outputs": [],
   "source": [
    "generator = Llama.build(\n",
    "    ckpt_dir=ckpt_dir,\n",
    "    tokenizer_path=tokenizer_path,\n",
    "    max_seq_len=max_seq_len,\n",
    "    max_batch_size=max_batch_size,\n",
    ")"
   ]
  },
  {
   "cell_type": "markdown",
   "id": "0959d6c5-3568-42e2-82e1-184967b57f65",
   "metadata": {},
   "source": [
    "### Text completion"
   ]
  },
  {
   "cell_type": "code",
   "execution_count": null,
   "id": "e0ecd16a-e7ae-42c6-b7e6-1dd0fde463c8",
   "metadata": {
    "tags": []
   },
   "outputs": [],
   "source": [
    "prompts = [\n",
    "    \"I believe the meaning of life is \",\n",
    "    \"Simply put, the theory of relativity states that \",\n",
    "    \"The history of space travel started with \",\n",
    "    \"The most popular dog breeds include \",\n",
    "]"
   ]
  },
  {
   "cell_type": "code",
   "execution_count": null,
   "id": "92996fbb-5c2b-4ae0-8f28-9074705d358e",
   "metadata": {
    "tags": []
   },
   "outputs": [],
   "source": [
    "results = generator.text_completion(prompts, max_gen_len=max_gen_len, temperature=temperature, top_p=top_p)\n",
    "results = [x['generation'] for x in results]"
   ]
  },
  {
   "cell_type": "code",
   "execution_count": null,
   "id": "b7f3d47d-f17b-4a9e-a71d-1c9282d3f1e1",
   "metadata": {
    "tags": []
   },
   "outputs": [],
   "source": [
    "results"
   ]
  },
  {
   "cell_type": "markdown",
   "id": "7dedbed9-5091-46b2-8bb0-2255a30e45b9",
   "metadata": {},
   "source": [
    "### Chat"
   ]
  },
  {
   "cell_type": "code",
   "execution_count": null,
   "id": "2f3fbe55-2a6f-4d42-ba38-d14e80a9795b",
   "metadata": {},
   "outputs": [],
   "source": [
    "instruction = \"Translate the following to German without any additional English explanations\"\n",
    "instruct_prompts = [\n",
    "    f\"<s>[INST] <<SYS>>\\n{instruction}\\n</SYS>>\\n\\n{prompt}[/INST]\" for prompt in prompts\n",
    "]\n",
    "instruct_prompts"
   ]
  },
  {
   "cell_type": "code",
   "execution_count": null,
   "id": "e81c7d5d-5443-4b9f-83e5-234e668bdaad",
   "metadata": {},
   "outputs": [],
   "source": [
    "results = generator.text_completion(instruct_prompts, max_gen_len=max_gen_len, temperature=temperature, top_p=top_p)\n",
    "results"
   ]
  },
  {
   "cell_type": "markdown",
   "id": "546eabe0",
   "metadata": {
    "tags": []
   },
   "source": [
    "## PySpark dataset"
   ]
  },
  {
   "cell_type": "code",
   "execution_count": null,
   "id": "2f6db1f0-7d68-4af7-8bd6-c9fa45906c61",
   "metadata": {
    "tags": []
   },
   "outputs": [],
   "source": [
    "import os\n",
    "from pathlib import Path\n",
    "from torchtext.datasets import IMDB"
   ]
  },
  {
   "cell_type": "code",
   "execution_count": null,
   "id": "b8453111-d068-49bb-ab91-8ae3d8bcdb7a",
   "metadata": {
    "tags": []
   },
   "outputs": [],
   "source": [
    "# load IMDB reviews (test) dataset\n",
    "data = IMDB(split='test')"
   ]
  },
  {
   "cell_type": "code",
   "execution_count": null,
   "id": "6d5bb49d-9a5b-4d1c-949e-24d01a7cd9a5",
   "metadata": {
    "tags": []
   },
   "outputs": [],
   "source": [
    "# convert to array of string for pyspark\n",
    "lines = []\n",
    "for label, text in data:\n",
    "    # only take text of IMDB review\n",
    "    lines.append([text])\n",
    "len(lines)"
   ]
  },
  {
   "cell_type": "markdown",
   "id": "6fd5b472-47e8-4804-9907-772793fedb2b",
   "metadata": {
    "tags": []
   },
   "source": [
    "### Create PySpark DataFrame"
   ]
  },
  {
   "cell_type": "code",
   "execution_count": null,
   "id": "68121304-f1df-466e-9347-c9d2b36a9b3a",
   "metadata": {
    "tags": []
   },
   "outputs": [],
   "source": [
    "from pyspark.sql.types import *"
   ]
  },
  {
   "cell_type": "code",
   "execution_count": null,
   "id": "d24d9404-0269-476e-a9dd-1842667c915a",
   "metadata": {
    "tags": []
   },
   "outputs": [],
   "source": [
    "df = spark.createDataFrame(lines, ['lines']).repartition(10)\n",
    "df.schema"
   ]
  },
  {
   "cell_type": "code",
   "execution_count": null,
   "id": "4384c762-1f79-4f60-876c-94b1f552e8fb",
   "metadata": {
    "scrolled": true,
    "tags": []
   },
   "outputs": [],
   "source": [
    "df.show(truncate=100)"
   ]
  },
  {
   "cell_type": "code",
   "execution_count": null,
   "id": "10fcb83c-e7d1-44ce-81a9-6f8161440174",
   "metadata": {},
   "outputs": [],
   "source": [
    "df.count()"
   ]
  },
  {
   "cell_type": "markdown",
   "id": "d1653a9f-0acf-4d1f-b9b1-ae98579811e1",
   "metadata": {},
   "source": [
    "### Save as Parquet"
   ]
  },
  {
   "cell_type": "code",
   "execution_count": null,
   "id": "3beddc50-ec3b-4d02-a67d-5b690589f130",
   "metadata": {},
   "outputs": [],
   "source": [
    "df.write.mode(\"overwrite\").parquet(\"imdb_test\")"
   ]
  },
  {
   "cell_type": "markdown",
   "id": "f730f04f-7274-417c-bb6f-d476d1ffb046",
   "metadata": {},
   "source": [
    "## Inference using Spark DL API (Triton server per executor)"
   ]
  },
  {
   "cell_type": "markdown",
   "id": "548fb624-6bd0-4ada-b869-affacc7bae92",
   "metadata": {},
   "source": [
    "### Preprocess dataset"
   ]
  },
  {
   "cell_type": "markdown",
   "id": "558413a8-33a1-4036-b032-224dd40a3426",
   "metadata": {},
   "source": [
    "Since we're using the IMDB dataset, which has lengthy text, we'll just truncate to max_len.\n",
    "\n",
    "**Note**: need to figure out longer context windows or chunking for longer text."
   ]
  },
  {
   "cell_type": "code",
   "execution_count": 1,
   "id": "70943da4-07c0-4c10-ac83-7c929ae70cfc",
   "metadata": {
    "tags": []
   },
   "outputs": [],
   "source": [
    "import pandas as pd\n",
    "\n",
    "from functools import partial\n",
    "from pyspark.ml.functions import predict_batch_udf\n",
    "from pyspark.sql.functions import col, pandas_udf, struct\n",
    "from pyspark.sql.types import StringType"
   ]
  },
  {
   "cell_type": "code",
   "execution_count": 2,
   "id": "2f13f23e-8195-4f61-871e-0b6bfeeee258",
   "metadata": {},
   "outputs": [
    {
     "name": "stdout",
     "output_type": "stream",
     "text": [
      "+----------------------------------------------------------------------------------------------------+\n",
      "|                                                                                               lines|\n",
      "+----------------------------------------------------------------------------------------------------+\n",
      "|Documentary content: Amazing man, amazing movement he started, amazing stories- most of them yet ...|\n",
      "|Even if I had not read Anne Rice's \"Queen of the Damned\" from the \"Vampire Chronicles,\" I probabl...|\n",
      "|This movie is about a depressed and emotionally constricted man has a distant relative move in wi...|\n",
      "|This is possibly the worst thing I've ever seen on television. First, I'm pretty sure it takes it...|\n",
      "|This show is pathetic. I can't even begin to imagine how anyone with an IQ greater than that of a...|\n",
      "|The obsession of 'signifie' and 'signifiant' is not enough to make a good film. Pascal Bonitzer s...|\n",
      "|I am easily pleased. I like bad films. I like films featuring attractive young women in small amo...|\n",
      "|By the time this movie came out in 1996, director Mark Lester had been making tight, sharp little...|\n",
      "|The sole reason for someone wanting to see this film would be because of John Leguizamo. I rememb...|\n",
      "|What a waste of talent. A very poor, semi-coherent, script cripples this film. Rather unimaginati...|\n",
      "|Wow, umm this was a very, how to say it, different type of movie. It calls itself a comedy...but ...|\n",
      "|The director does not know what to do with a camera... too many options and she always always alw...|\n",
      "|Good idea....shame about the actual movie. Would of liked it to be a bit more scary, and explain ...|\n",
      "|Shemp finds out that he stands to inherit a million dollars IF he is married within 24 hours. Con...|\n",
      "|In the only act of commonsense they have ever made, the NSW Film & Television Office refused to f...|\n",
      "|I really tried, but this movie just didn't work for me. The action scenes were dull, the acting w...|\n",
      "|For those expecting the cover art and story outline to indicate another entertaining Bollywood In...|\n",
      "|This movie is so unreal. French movies like these are just waste of time. Why watch this movie? E...|\n",
      "|As a serious horror fan, I get that certain marketing ploys are used to sell movies, especially t...|\n",
      "|Martha Plimpton has done some prestigious movies, working with River Phoenix and Harrison Ford, b...|\n",
      "+----------------------------------------------------------------------------------------------------+\n",
      "only showing top 20 rows\n",
      "\n"
     ]
    }
   ],
   "source": [
    "df = spark.read.parquet(\"imdb_test\")\n",
    "df.show(truncate=100)"
   ]
  },
  {
   "cell_type": "code",
   "execution_count": 3,
   "id": "45c6f98d-7df3-4f25-ae6d-f47d0c2feca5",
   "metadata": {},
   "outputs": [
    {
     "name": "stderr",
     "output_type": "stream",
     "text": [
      "                                                                                \r"
     ]
    },
    {
     "data": {
      "text/plain": [
       "25000"
      ]
     },
     "execution_count": 3,
     "metadata": {},
     "output_type": "execute_result"
    }
   ],
   "source": [
    "df.count()"
   ]
  },
  {
   "cell_type": "code",
   "execution_count": 4,
   "id": "7a81a9f9-3951-4e63-9172-5a2790c70b41",
   "metadata": {},
   "outputs": [],
   "source": [
    "# truncate to max_len for conditional generation\n",
    "def preprocess(text: pd.Series, prefix: str = \"\", max_len: int = 512) -> pd.Series:\n",
    "    @pandas_udf(\"string\")\n",
    "    def _preprocess(text: pd.Series) -> pd.Series:\n",
    "        truncated = [s[:max_len].rsplit(' ',1)[0] for s in text]\n",
    "        return pd.Series(truncated)\n",
    "    return _preprocess(text)"
   ]
  },
  {
   "cell_type": "code",
   "execution_count": 5,
   "id": "ddf97b13-e4ee-4856-a063-336b67d6a233",
   "metadata": {
    "tags": []
   },
   "outputs": [
    {
     "name": "stderr",
     "output_type": "stream",
     "text": [
      "[Stage 5:>                                                          (0 + 1) / 1]\r"
     ]
    },
    {
     "name": "stdout",
     "output_type": "stream",
     "text": [
      "+----------------------------------------------------------------------------------------------------+\n",
      "|                                                                                               input|\n",
      "+----------------------------------------------------------------------------------------------------+\n",
      "|Documentary content: Amazing man, amazing movement he started, amazing stories- most of them yet ...|\n",
      "|Even if I had not read Anne Rice's \"Queen of the Damned\" from the \"Vampire Chronicles,\" I probabl...|\n",
      "|This movie is about a depressed and emotionally constricted man has a distant relative move in wi...|\n",
      "|This is possibly the worst thing I've ever seen on television. First, I'm pretty sure it takes it...|\n",
      "|This show is pathetic. I can't even begin to imagine how anyone with an IQ greater than that of a...|\n",
      "|The obsession of 'signifie' and 'signifiant' is not enough to make a good film. Pascal Bonitzer s...|\n",
      "|I am easily pleased. I like bad films. I like films featuring attractive young women in small amo...|\n",
      "|By the time this movie came out in 1996, director Mark Lester had been making tight, sharp little...|\n",
      "|The sole reason for someone wanting to see this film would be because of John Leguizamo. I rememb...|\n",
      "|What a waste of talent. A very poor, semi-coherent, script cripples this film. Rather unimaginati...|\n",
      "|Wow, umm this was a very, how to say it, different type of movie. It calls itself a comedy...but ...|\n",
      "|The director does not know what to do with a camera... too many options and she always always alw...|\n",
      "|Good idea....shame about the actual movie. Would of liked it to be a bit more scary, and explain ...|\n",
      "|Shemp finds out that he stands to inherit a million dollars IF he is married within 24 hours. Con...|\n",
      "|In the only act of commonsense they have ever made, the NSW Film & Television Office refused to f...|\n",
      "|I really tried, but this movie just didn't work for me. The action scenes were dull, the acting w...|\n",
      "|For those expecting the cover art and story outline to indicate another entertaining Bollywood In...|\n",
      "|This movie is so unreal. French movies like these are just waste of time. Why watch this movie? E...|\n",
      "|As a serious horror fan, I get that certain marketing ploys are used to sell movies, especially t...|\n",
      "|Martha Plimpton has done some prestigious movies, working with River Phoenix and Harrison Ford, b...|\n",
      "+----------------------------------------------------------------------------------------------------+\n",
      "only showing top 20 rows\n",
      "\n"
     ]
    },
    {
     "name": "stderr",
     "output_type": "stream",
     "text": [
      "                                                                                \r"
     ]
    }
   ],
   "source": [
    "# only select first N rows, since this takes a long time\n",
    "df1 = df.limit(100).withColumn(\"input\", preprocess(col(\"lines\"))).select(\"input\")\n",
    "df1.show(truncate=100)"
   ]
  },
  {
   "cell_type": "code",
   "execution_count": 6,
   "id": "053d2889-0e72-4644-8aa5-3eea4d7ae731",
   "metadata": {},
   "outputs": [
    {
     "data": {
      "text/plain": [
       "100"
      ]
     },
     "execution_count": 6,
     "metadata": {},
     "output_type": "execute_result"
    }
   ],
   "source": [
    "num_rows = df1.count()\n",
    "num_rows"
   ]
  },
  {
   "cell_type": "code",
   "execution_count": 7,
   "id": "325d9476-4616-4243-9247-ad8c4db8a1e0",
   "metadata": {},
   "outputs": [
    {
     "data": {
      "text/plain": [
       "1"
      ]
     },
     "execution_count": 7,
     "metadata": {},
     "output_type": "execute_result"
    }
   ],
   "source": [
    "df1.rdd.getNumPartitions()"
   ]
  },
  {
   "cell_type": "markdown",
   "id": "6762b390-9672-4369-a2df-469c93c5940b",
   "metadata": {},
   "source": [
    "### Start Triton server on each executor"
   ]
  },
  {
   "cell_type": "code",
   "execution_count": 8,
   "id": "e17094c4-eef7-4b53-9fda-88719e872055",
   "metadata": {
    "tags": []
   },
   "outputs": [],
   "source": [
    "from spark_rapids_ml.llm import TritonLLM"
   ]
  },
  {
   "cell_type": "code",
   "execution_count": 9,
   "id": "c2ac7972-1dc5-43b5-93c4-1e2e3587304e",
   "metadata": {},
   "outputs": [
    {
     "data": {
      "text/plain": [
       "TritonLLM_4ea78573ab4a"
      ]
     },
     "execution_count": 9,
     "metadata": {},
     "output_type": "execute_result"
    }
   ],
   "source": [
    "model = TritonLLM()\n",
    "model.setDockerImage(\"tensorrt_llm_backend:dev\")\n",
    "model.setProtocol(\"grpc\")\n",
    "model.setOutputLen(200)"
   ]
  },
  {
   "cell_type": "code",
   "execution_count": 10,
   "id": "d59d7203-91aa-4e6a-8103-07d04382a121",
   "metadata": {},
   "outputs": [
    {
     "name": "stdout",
     "output_type": "stream",
     "text": [
      "batch_size: size of batch for inference (default: 1)\n",
      "beam_width: LLM beam width (default: 1)\n",
      "concurrency: Number of parallel requests to Triton Inference Server (default: 1)\n",
      "docker_image: Docker image for Triton Inference Server (current: tensorrt_llm_backend:dev)\n",
      "inputCol: input column name. (default: input)\n",
      "model_name: Name of model to use in Triton Inference Server (default: ensemble)\n",
      "model_path: Host path to model directory for Triton Inference Server (undefined)\n",
      "outputCol: output column name. (default: output)\n",
      "output_len: Output length (default: 10, current: 200)\n",
      "prefix: Prompt prefix for LLM (undefined)\n",
      "protocol: Protocol (http/grpc) used to communicate with Triton Inference Server (default: http, current: grpc)\n",
      "server: Server hostname for Triton Inference Server (default: localhost)\n",
      "tokenizer: Tokenizer to use for LLM (default: auto)\n",
      "topk: TopK for sampling (default: 1)\n",
      "topp: TopP for sampling (default: 0.0)\n",
      "verbose: verbose logging (default: False)\n"
     ]
    }
   ],
   "source": [
    "print(model.explainParams())"
   ]
  },
  {
   "cell_type": "code",
   "execution_count": 11,
   "id": "09a1f53e-9005-473f-975a-c0efd2b0369e",
   "metadata": {
    "scrolled": true
   },
   "outputs": [
    {
     "name": "stdout",
     "output_type": "stream",
     "text": [
      "starting 2 server(s).\n"
     ]
    },
    {
     "name": "stderr",
     "output_type": "stream",
     "text": [
      "                                                                                \r"
     ]
    }
   ],
   "source": [
    "model.startServers()"
   ]
  },
  {
   "cell_type": "markdown",
   "id": "487969f0-fb91-488a-9776-6868739d5712",
   "metadata": {},
   "source": [
    "### Define an instruction / task"
   ]
  },
  {
   "cell_type": "code",
   "execution_count": 12,
   "id": "8e2f1f08-5820-4606-be86-841a51505678",
   "metadata": {},
   "outputs": [
    {
     "data": {
      "text/plain": [
       "TritonLLM_4ea78573ab4a"
      ]
     },
     "execution_count": 12,
     "metadata": {},
     "output_type": "execute_result"
    }
   ],
   "source": [
    "# Translation\n",
    "# model.setPrefix(\"Translate the following to German without any additional English explanations\")\n",
    "# model.setPrefix(\"Translate the following to Spanish without any additional English explanations\")\n",
    "# model.setPrefix(\"Translate the following to Chinese without any additional English explanations\")\n",
    "\n",
    "# Summarization\n",
    "# model.setPrefix(\"Summarize the following text in 20 words or less\")\n",
    "\n",
    "# Classification / Sentiment Analysis\n",
    "# model.setPrefix(\"Classify the sentiment of the following text as either POSITIVE or NEGATIVE only, without any additional text or explanations\") \n",
    "# model.setPrefix(\"Classify the following text as either ABUSIVE or NON-ABUSIVE only, without any additional text or explanations\") \n",
    "\n",
    "# Content creation\n",
    "# model.setPrefix(\"Re-phrase the following text as a pirate\")\n",
    "\n",
    "# Product recommendation\n",
    "# model.setPrefix(\"Recommend a movie representative to the following text\")\n",
    "\n",
    "# Search / information extraction\n",
    "model.setPrefix(\"Extract all movie titles, actors, and characters from the following text\")"
   ]
  },
  {
   "cell_type": "markdown",
   "id": "e800c85f-cca3-4e7a-b36c-3892241c3b97",
   "metadata": {},
   "source": [
    "### Inference w/ LLM"
   ]
  },
  {
   "cell_type": "code",
   "execution_count": 13,
   "id": "ea28c1b1-7e00-4d91-ada0-81b53360928f",
   "metadata": {},
   "outputs": [
    {
     "name": "stderr",
     "output_type": "stream",
     "text": [
      "[Stage 15:=============================>                            (1 + 1) / 2]\r"
     ]
    },
    {
     "name": "stdout",
     "output_type": "stream",
     "text": [
      "Wall time: 29.925328254699707 s\n",
      "Throughput: 3.3416508968216654 rows/s\n"
     ]
    },
    {
     "name": "stderr",
     "output_type": "stream",
     "text": [
      "                                                                                \r"
     ]
    }
   ],
   "source": [
    "import time\n",
    "\n",
    "start = time.time()\n",
    "results = model.transform(df1).collect()\n",
    "duration = time.time() - start\n",
    "\n",
    "print(f\"Wall time: {duration} s\")\n",
    "print(f\"Throughput: {num_rows / duration} rows/s\")"
   ]
  },
  {
   "cell_type": "code",
   "execution_count": 14,
   "id": "56fa95d4-0947-4fea-b127-61b8a736efac",
   "metadata": {
    "tags": []
   },
   "outputs": [
    {
     "name": "stdout",
     "output_type": "stream",
     "text": [
      "================================================================================\n",
      "<s>[INST] <<SYS>>\n",
      "Extract all movie titles, actors, and characters from the following text\n",
      "</SYS>>\n",
      "\n",
      "The director does not know what to do with a camera... too many options and she always always always picks the wrong one... she let travolta take charge... and he controls the movie from the beginning to the end... the characters are not developed... maybe because we need to watch them singing... no pace at all, sometimes too fast sometimes too slow... miscasted: travolta OK... johansson, she is too grown up to be a 18... even if she is really 20...<br /><br />the happy ending? well it looks like that[/INST]\n",
      "--------------------------------------------------------------------------------\n",
      "Sure, here are the movie titles, actors, and characters mentioned in the text:\n",
      "\n",
      "Movie Titles:\n",
      "\n",
      "* \"The director does not know what to do with a camera\" (no specific title mentioned)\n",
      "Actors:\n",
      "\n",
      "* John Travolta (mentioned as \"Travolta\")\n",
      "Characters:\n",
      "\n",
      "* The director (not specified)\n",
      "* John Travolta (playing a character who takes charge of the movie)\n",
      "* Scarlett Johansson (mentioned as \"she\" and \"she is too grown up to be a 18\"\n",
      "\n",
      "================================================================================\n",
      "<s>[INST] <<SYS>>\n",
      "Extract all movie titles, actors, and characters from the following text\n",
      "</SYS>>\n",
      "\n",
      "The fifth collaboration between Marlene Dietrich and director Josef von Sternberg, BLONDE VENUS is a film that looks great while it's playing but fails to engages the viewer. The plodding storyline of Dietrich being torn between two men, becoming a mammoth cabaret star, and fighting for the custody of her child is jumbled and often feels like bits of three separate films half-baked together. Dietrich is unwisely cast in a rather passive, reactive role for much of the film and her character remains aloof[/INST]\n",
      "--------------------------------------------------------------------------------\n",
      "Sure! Here are the movie titles, actors, and characters mentioned in the text:\n",
      "Movie titles:\n",
      "* BLONDE VENUS\n",
      "\n",
      "Actors:\n",
      "\n",
      "* Marlene Dietrich (mentioned as the actress who collaborated with director Josef von Sternberg five times)\n",
      "Characters:\n",
      "\n",
      "* Dietrich (the character played by Marlene Dietrich in the film)\n",
      "* Two men (mentioned as the two men Dietrich is torn between in the storyline)\n",
      "* Child (mentioned as the child Dietrich is fighting for custody of)\n",
      "* Aloof character (mentioned as the character Dietrich is cast in a passive, reactive role for much of the film\n",
      "\n",
      "================================================================================\n",
      "<s>[INST] <<SYS>>\n",
      "Extract all movie titles, actors, and characters from the following text\n",
      "</SYS>>\n",
      "\n",
      "First off just let me say that I live in South Africa where rugby is our biggest sport by far, and our national side, the Springboks, have won the Rugby World Cup twice, so it's quite a big deal over here. I've played all my life and I'm shocked at the poor attention to detail in this movie! At first I thought it had the potential to be a great movie considering the cast of Neal McDonough, Nick Ferris, Gary Cole and Sean Astin for goodness sake, but it turned out to be a mockery of the sport. They[/INST]\n",
      "--------------------------------------------------------------------------------\n",
      "Sure, here are the movie titles, actors, and characters mentioned in the text:\n",
      "Movie titles:\n",
      "* \"Rugby World Cup\" (mentioned as the title of the movie)\n",
      "Actors:\n",
      "* Neal McDonough\n",
      "* Nick Ferris\n",
      "* Gary Cole\n",
      "* Sean Astin\n",
      "\n",
      "Characters:\n",
      "\n",
      "* None mentioned in the text\n",
      "\n",
      "================================================================================\n",
      "<s>[INST] <<SYS>>\n",
      "Extract all movie titles, actors, and characters from the following text\n",
      "</SYS>>\n",
      "\n",
      "First of all, let me make it clear. This movie is a real piece of garbage, but although it is a real piece of garbage, it is an better piece of garbage than it could have been. It could have sucked big-time, but it doesn't...<br /><br />What this movie didn't have, was for example scary moments, good acting and a good script. It wasn't very entertaining either. But the movie had cool music, fancy locations and hot girls. It also works great as a Dracula spoof. (hope it was meant that way, although I really[/INST]\n",
      "--------------------------------------------------------------------------------\n",
      "Sure, here are the movie titles, actors, and characters mentioned in the text:\n",
      "Movie titles:\n",
      "* \"Dracula\" (mentioned as a potential spoof)\n",
      "Actors:\n",
      "* None mentioned directly\n",
      "\n",
      "Characters:\n",
      "\n",
      "* Dracula (mentioned as a potential spoof\n",
      "\n",
      "================================================================================\n",
      "<s>[INST] <<SYS>>\n",
      "Extract all movie titles, actors, and characters from the following text\n",
      "</SYS>>\n",
      "\n",
      "DO not take this film seriously, rent it with some folks who want to play Mystery Science 3000, and you will probably laugh your butts off. The evil guys are so not scary, it's funny, it's like some dude from 7th grade with a sickle in a scarecrow get up. The acting is hilarious. I love the occasional self torture with a poor horror film and this really had me giggling. I recommend it on that basis. Of course recreational drugs will enhance the experience. Oh, there is a naked group swimming scene, that[/INST]\n",
      "--------------------------------------------------------------------------------\n",
      "Sure, here are the movie titles, actors, and characters mentioned in the text:\n",
      "Movie titles:\n",
      "* \"Mystery Science 3000\" (mentioned as a film to rent for a humorous viewing experience)\n",
      "Actors:\n",
      "* None mentioned specifically\n",
      "Characters:\n",
      "* Evil guys (mentioned as not scary and resembling a 7th grade student in a scarecrow costume)\n",
      "Note: The text does not provide any specific information about actors or characters in a particular movie, as it is primarily focused on recommending the film for a lighthearted, humorous viewing experience\n",
      "\n",
      "================================================================================\n",
      "<s>[INST] <<SYS>>\n",
      "Extract all movie titles, actors, and characters from the following text\n",
      "</SYS>>\n",
      "\n",
      "The film begins with a little girl (Rita) seeing her father killed. He apparently was a criminal who squealed on his fellow crooks. Later, and this part makes little sense, the girl has grown to adulthood and STILL her father's past haunts her! A bit later, Rita meets a good-for-nothing and dates him. During one of their dates, he's a bit intoxicated AND driving like a total fool. The cops give chase and he speeds away--killing a pedestrian in the meantime. Here comes the Really stupid part. He convinces[/INST]\n",
      "--------------------------------------------------------------------------------\n",
      "Sure, here are the movie titles, actors, and characters mentioned in the text:\n",
      "Movie titles:\n",
      "* The film (unnamed)\n",
      "Actors:\n",
      "* Rita (played by an unnamed actress)\n",
      "Characters:\n",
      "* Rita (the little girl)\n",
      "* Rita's father (a criminal who is killed at the beginning of the film)\n",
      "* Rita's boyfriend (a good-for-nothing who drives recklessly and kills a pedestrian\n",
      "\n",
      "================================================================================\n",
      "<s>[INST] <<SYS>>\n",
      "Extract all movie titles, actors, and characters from the following text\n",
      "</SYS>>\n",
      "\n",
      "Another stupid \"movie\". The quality of image is correct. Sound too. Music is middle. The guy try make music like in Halloween.<br /><br />For one rare time, producer/director choose no-anorexic girls. It is cause this \"movie\" take one week to do and cost $10,000. Does it mean when producer have money they choose all anorexic girls? Good question.<br /><br />But girls in this \"movie\" are physically correct. But they are not good actress. Neither guys too. But maybe it's just cause the \"story\" of this[/INST]\n",
      "--------------------------------------------------------------------------------\n",
      "Sure, here are the movie titles, actors, and characters mentioned in the text:\n",
      "Movie titles:\n",
      "* \"Halloween\" (mentioned as a reference for the music in the movie)\n",
      "Actors:\n",
      "* No mention of actors in the text.\n",
      "Characters:\n",
      "* No mention of characters in the text\n",
      "\n",
      "================================================================================\n",
      "<s>[INST] <<SYS>>\n",
      "Extract all movie titles, actors, and characters from the following text\n",
      "</SYS>>\n",
      "\n",
      "Back in the cold and creepy early 90's,a show called \"Family Matters\" aired and became an instant classic.The trick was to buy a manual in standard family situations and their solutions and insert some attempts to sarcastic remarks in it and you had yourself a lovely little stealing-is-wrong,parents-are-right-show. So that worked out fine, so Bickley-Warren had a new ambitious plan: making the exact same show again.<br /><br />Here's the difference though: \"Family Matters\" had Urkel. \"Step By Step\" has the[/INST]\n",
      "--------------------------------------------------------------------------------\n",
      "Sure, here are the movie titles, actors, and characters mentioned in the text:\n",
      "Movie titles:\n",
      "* \"Family Matters\"\n",
      "Actors:\n",
      "* None mentioned\n",
      "Characters:\n",
      "* Steve Urkel (from \"Family Matters\")\n",
      "* None mentioned (from \"Step By Step\"\n",
      "\n",
      "================================================================================\n",
      "<s>[INST] <<SYS>>\n",
      "Extract all movie titles, actors, and characters from the following text\n",
      "</SYS>>\n",
      "\n",
      "While this isn't an all time classic comedy it is a pretty good little movie to watch if you catch it on a rainy Saturday morning with not a lot else going on right then.<br /><br />Harold Lloyd plays Ezekiel Cobb, an American coming home after growing up in China where his dad was a missionary.He has come home from China to find an American wife and plans to return to China to continue his father's work.Cobb unwittingly is recruited to run for mayor of his corrupt home town when the existing political[/INST]\n",
      "--------------------------------------------------------------------------------\n",
      "Sure! Here are the movie titles, actors, and characters mentioned in the text:\n",
      "Movie titles:\n",
      "* \"While this isn't an all time classic comedy\" (no title mentioned)\n",
      "Actors:\n",
      "* Harold Lloyd (as Ezekiel Cobb)\n",
      "Characters:\n",
      "* Ezekiel Cobb\n",
      "* Cobb's father (mentioned, not a character in the text)\n",
      "I hope this helps! Let me know if you have any other questions\n",
      "\n",
      "================================================================================\n",
      "<s>[INST] <<SYS>>\n",
      "Extract all movie titles, actors, and characters from the following text\n",
      "</SYS>>\n",
      "\n",
      "Hungary can't make any good movies. Fact. This is a great example of that.<br /><br />First of all the term \"plot\" does not exist in this movie. It's seriously weak. Even tho a lot of people would argue with me on that. Sure, it's about a taboo, but that's about it. There are endless possibilities, which could have been really great, if used, but they nearly skipped everything. I think the whole movie is just an excuse to show pictures, which are the only decent things in this whole pile of awfulness.<br[/INST]\n",
      "--------------------------------------------------------------------------------\n",
      "Sure, here are the movie titles, actors, and characters mentioned in the text:\n",
      "Movie titles:\n",
      "* \"Hungary\" (mentioned as a country that can't make good movies)\n",
      "Actors:\n",
      "* None mentioned\n",
      "Characters:\n",
      "* None mentione\n",
      "\n"
     ]
    }
   ],
   "source": [
    "for row in results[:10]:\n",
    "    print(f\"================================================================================\")\n",
    "    print(row['input'])\n",
    "    print(f\"--------------------------------------------------------------------------------\")\n",
    "    output = row['output']\n",
    "    print(output[output.index(\"[/INST]\")+9:-1] + \"\\n\")\n"
   ]
  },
  {
   "cell_type": "markdown",
   "id": "f80410ee-5540-41d7-b8cd-cf56c4bb58c1",
   "metadata": {},
   "source": [
    "### Stop Triton server on each executor"
   ]
  },
  {
   "cell_type": "code",
   "execution_count": 15,
   "id": "95efc124-313d-4374-8365-c55662188fb1",
   "metadata": {
    "tags": []
   },
   "outputs": [
    {
     "name": "stdout",
     "output_type": "stream",
     "text": [
      "stopping 2 server(s)\n"
     ]
    },
    {
     "name": "stderr",
     "output_type": "stream",
     "text": [
      "                                                                                \r"
     ]
    }
   ],
   "source": [
    "model.stopServers()"
   ]
  },
  {
   "cell_type": "code",
   "execution_count": null,
   "id": "1c79460b-023f-4cf7-831f-229aa2c2e373",
   "metadata": {},
   "outputs": [],
   "source": []
  }
 ],
 "metadata": {
  "kernelspec": {
   "display_name": "Python 3 (ipykernel)",
   "language": "python",
   "name": "python3"
  },
  "language_info": {
   "codemirror_mode": {
    "name": "ipython",
    "version": 3
   },
   "file_extension": ".py",
   "mimetype": "text/x-python",
   "name": "python",
   "nbconvert_exporter": "python",
   "pygments_lexer": "ipython3",
   "version": "3.11.5"
  }
 },
 "nbformat": 4,
 "nbformat_minor": 5
}
